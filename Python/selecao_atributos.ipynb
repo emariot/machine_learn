{
 "cells": [
  {
   "cell_type": "markdown",
   "id": "exempt-harmony",
   "metadata": {},
   "source": [
    "# Seleção de Atributos\n",
    "* nem sempre um maior número de atributos é a melhor estratégia para o modelo\n",
    "* técnica para seleção de atributos: ExtraTreesClassifier"
   ]
  },
  {
   "cell_type": "code",
   "execution_count": 2,
   "id": "cutting-platinum",
   "metadata": {},
   "outputs": [],
   "source": [
    "import pandas as pd\n",
    "from sklearn.model_selection import train_test_split \n",
    "from sklearn.preprocessing import LabelEncoder\n",
    "from sklearn.metrics import confusion_matrix, accuracy_score\n",
    "from sklearn.svm import SVC # Máquina de vetor de suporte\n",
    "from sklearn.ensemble import ExtraTreesClassifier"
   ]
  },
  {
   "cell_type": "code",
   "execution_count": 3,
   "id": "promising-declaration",
   "metadata": {},
   "outputs": [
    {
     "data": {
      "text/plain": [
       "(1000, 21)"
      ]
     },
     "execution_count": 3,
     "metadata": {},
     "output_type": "execute_result"
    }
   ],
   "source": [
    "df = pd.read_csv('datasets/Credit.csv')\n",
    "df.shape"
   ]
  },
  {
   "cell_type": "code",
   "execution_count": 4,
   "id": "charming-cover",
   "metadata": {},
   "outputs": [],
   "source": [
    "predict = df.iloc[:,0:20].values\n",
    "class_ = df.iloc[:,20].values"
   ]
  },
  {
   "cell_type": "code",
   "execution_count": 5,
   "id": "vocational-evans",
   "metadata": {},
   "outputs": [],
   "source": [
    "label_1 = LabelEncoder()\n",
    "predict[:,0] = label_1.fit_transform(predict[:,0])\n",
    "\n",
    "label_2 = LabelEncoder()\n",
    "predict[:,2] = label_2.fit_transform(predict[:,2])\n",
    "label_3 = LabelEncoder()\n",
    "predict[:,3] = label_3.fit_transform(predict[:,3])\n",
    "\n",
    "label_4 = LabelEncoder()\n",
    "predict[:,5] = label_4.fit_transform(predict[:,5])\n",
    "label_5 = LabelEncoder()\n",
    "predict[:,6] = label_5.fit_transform(predict[:,6])\n",
    "\n",
    "label_6 = LabelEncoder()\n",
    "predict[:,8] = label_6.fit_transform(predict[:,8])\n",
    "label_7 = LabelEncoder()\n",
    "predict[:,9] = label_7.fit_transform(predict[:,9])\n",
    "\n",
    "label_8 = LabelEncoder()\n",
    "predict[:,11] = label_8.fit_transform(predict[:,11])\n",
    "\n",
    "label_9 = LabelEncoder()\n",
    "predict[:,13] = label_9.fit_transform(predict[:,13])\n",
    "label_10 = LabelEncoder()\n",
    "predict[:,14] = label_10.fit_transform(predict[:,14])\n",
    "\n",
    "label_11 = LabelEncoder()\n",
    "predict[:,16] = label_11.fit_transform(predict[:,16])\n",
    "\n",
    "label_12 = LabelEncoder()\n",
    "predict[:,18] = label_12.fit_transform(predict[:,18])\n",
    "label_13 = LabelEncoder()\n",
    "predict[:,19] = label_13.fit_transform(predict[:,19])"
   ]
  },
  {
   "cell_type": "code",
   "execution_count": 42,
   "id": "danish-burlington",
   "metadata": {},
   "outputs": [
    {
     "data": {
      "text/plain": [
       "array([[1, 15, 0, ..., 2, 1, 1],\n",
       "       [2, 36, 3, ..., 1, 0, 1],\n",
       "       [0, 12, 4, ..., 1, 0, 1],\n",
       "       ...,\n",
       "       [1, 15, 1, ..., 1, 1, 1],\n",
       "       [1, 24, 3, ..., 1, 0, 1],\n",
       "       [1, 9, 1, ..., 2, 0, 1]], dtype=object)"
      ]
     },
     "execution_count": 42,
     "metadata": {},
     "output_type": "execute_result"
    }
   ],
   "source": [
    "X_train, X_test, Y_train, Y_test = train_test_split(predict, \n",
    "                                                    class_,\n",
    "                                                    test_size=0.3,\n",
    "                                                   random_state = 1)\n",
    "X_test"
   ]
  },
  {
   "cell_type": "markdown",
   "id": "north-newton",
   "metadata": {},
   "source": [
    "# Modelo: máquina de vetor de suporte"
   ]
  },
  {
   "cell_type": "code",
   "execution_count": 43,
   "id": "academic-bibliography",
   "metadata": {},
   "outputs": [
    {
     "data": {
      "text/plain": [
       "SVC()"
      ]
     },
     "execution_count": 43,
     "metadata": {},
     "output_type": "execute_result"
    }
   ],
   "source": [
    "svm = SVC()\n",
    "svm.fit(X_train, Y_train)"
   ]
  },
  {
   "cell_type": "markdown",
   "id": "theoretical-invite",
   "metadata": {},
   "source": [
    "# Previsões"
   ]
  },
  {
   "cell_type": "code",
   "execution_count": 44,
   "id": "described-decimal",
   "metadata": {},
   "outputs": [
    {
     "data": {
      "text/plain": [
       "array(['good', 'bad', 'good', 'good', 'good', 'good', 'good', 'good',\n",
       "       'good', 'good', 'good', 'good', 'good', 'good', 'good', 'good',\n",
       "       'good', 'good', 'good', 'good', 'good', 'good', 'good', 'good',\n",
       "       'good', 'good', 'good', 'good', 'good', 'bad', 'good', 'good',\n",
       "       'bad', 'good', 'good', 'bad', 'good', 'good', 'good', 'good',\n",
       "       'good', 'good', 'good', 'good', 'good', 'good', 'good', 'good',\n",
       "       'good', 'good', 'good', 'good', 'good', 'good', 'good', 'good',\n",
       "       'good', 'good', 'good', 'good', 'good', 'good', 'bad', 'good',\n",
       "       'good', 'good', 'good', 'good', 'good', 'good', 'good', 'good',\n",
       "       'good', 'good', 'good', 'good', 'good', 'good', 'good', 'good',\n",
       "       'good', 'good', 'good', 'good', 'good', 'good', 'good', 'good',\n",
       "       'good', 'good', 'good', 'good', 'good', 'good', 'good', 'good',\n",
       "       'good', 'good', 'good', 'good', 'good', 'good', 'good', 'good',\n",
       "       'good', 'good', 'good', 'good', 'bad', 'good', 'good', 'good',\n",
       "       'good', 'good', 'good', 'good', 'good', 'good', 'good', 'good',\n",
       "       'good', 'good', 'good', 'good', 'good', 'good', 'good', 'good',\n",
       "       'good', 'good', 'good', 'good', 'good', 'good', 'good', 'good',\n",
       "       'good', 'good', 'good', 'good', 'good', 'good', 'good', 'good',\n",
       "       'good', 'good', 'good', 'good', 'good', 'good', 'good', 'good',\n",
       "       'good', 'good', 'good', 'good', 'good', 'good', 'good', 'good',\n",
       "       'good', 'good', 'good', 'good', 'bad', 'good', 'good', 'good',\n",
       "       'good', 'good', 'good', 'good', 'good', 'good', 'good', 'good',\n",
       "       'good', 'good', 'good', 'good', 'good', 'good', 'good', 'good',\n",
       "       'good', 'good', 'good', 'good', 'good', 'good', 'good', 'good',\n",
       "       'good', 'good', 'good', 'good', 'good', 'good', 'good', 'good',\n",
       "       'good', 'good', 'good', 'good', 'good', 'good', 'good', 'good',\n",
       "       'good', 'good', 'good', 'good', 'good', 'good', 'good', 'good',\n",
       "       'good', 'good', 'good', 'good', 'good', 'good', 'good', 'good',\n",
       "       'good', 'good', 'good', 'good', 'good', 'good', 'good', 'good',\n",
       "       'good', 'good', 'good', 'good', 'good', 'good', 'good', 'good',\n",
       "       'good', 'good', 'good', 'good', 'good', 'good', 'good', 'good',\n",
       "       'good', 'good', 'good', 'good', 'good', 'good', 'good', 'good',\n",
       "       'good', 'good', 'good', 'good', 'good', 'good', 'good', 'good',\n",
       "       'good', 'good', 'good', 'good', 'good', 'good', 'good', 'good',\n",
       "       'good', 'good', 'good', 'good', 'good', 'good', 'good', 'good',\n",
       "       'good', 'good', 'good', 'good', 'good', 'good', 'good', 'good',\n",
       "       'good', 'good', 'good', 'good', 'good', 'good', 'good', 'good',\n",
       "       'good', 'good', 'good', 'good'], dtype=object)"
      ]
     },
     "execution_count": 44,
     "metadata": {},
     "output_type": "execute_result"
    }
   ],
   "source": [
    "predict_ = svm.predict(X_test)\n",
    "predict_"
   ]
  },
  {
   "cell_type": "code",
   "execution_count": 45,
   "id": "incident-crash",
   "metadata": {},
   "outputs": [
    {
     "data": {
      "text/plain": [
       "0.7166666666666667"
      ]
     },
     "execution_count": 45,
     "metadata": {},
     "output_type": "execute_result"
    }
   ],
   "source": [
    "tx = accuracy_score(Y_test,predict_)\n",
    "tx"
   ]
  },
  {
   "cell_type": "markdown",
   "id": "joint-ground",
   "metadata": {},
   "source": [
    "## Utilizando o algoritmo ExtraTreesClassifier para extrair as características mais importantes"
   ]
  },
  {
   "cell_type": "code",
   "execution_count": 46,
   "id": "turkish-stuart",
   "metadata": {},
   "outputs": [
    {
     "data": {
      "text/plain": [
       "array([0.10523629, 0.0827996 , 0.06904934, 0.05824142, 0.0796584 ,\n",
       "       0.05330549, 0.05221777, 0.05486377, 0.04182548, 0.0265712 ,\n",
       "       0.04927895, 0.04532671, 0.0713097 , 0.04156985, 0.03523086,\n",
       "       0.03261381, 0.04047428, 0.02157706, 0.03186375, 0.00698625])"
      ]
     },
     "execution_count": 46,
     "metadata": {},
     "output_type": "execute_result"
    }
   ],
   "source": [
    "forest = ExtraTreesClassifier()\n",
    "forest.fit(X_train, Y_train)\n",
    "vars_ = forest.feature_importances_\n",
    "vars_"
   ]
  },
  {
   "cell_type": "markdown",
   "id": "macro-growth",
   "metadata": {},
   "source": [
    "# Nova base com os dados utilizados somente com os atributos mais importantes\n"
   ]
  },
  {
   "cell_type": "code",
   "execution_count": 47,
   "id": "addressed-passing",
   "metadata": {},
   "outputs": [],
   "source": [
    "X_train_2 = X_train[:,[0,1,2,3]]\n",
    "X_test_2 = X_test[:,[0,1,2,3]]"
   ]
  },
  {
   "cell_type": "markdown",
   "id": "retired-liabilities",
   "metadata": {},
   "source": [
    "# Novo modelo com parâmetros escolhidos"
   ]
  },
  {
   "cell_type": "code",
   "execution_count": 48,
   "id": "married-phone",
   "metadata": {},
   "outputs": [
    {
     "data": {
      "text/plain": [
       "0.7233333333333334"
      ]
     },
     "execution_count": 48,
     "metadata": {},
     "output_type": "execute_result"
    }
   ],
   "source": [
    "svm_2 = SVC()\n",
    "svm_2.fit(X_train_2, Y_train)\n",
    "predict_2 = svm_2.predict(X_test_2)\n",
    "tx = accuracy_score(Y_test,predict_2)\n",
    "tx"
   ]
  },
  {
   "cell_type": "code",
   "execution_count": null,
   "id": "fundamental-advancement",
   "metadata": {},
   "outputs": [],
   "source": []
  }
 ],
 "metadata": {
  "kernelspec": {
   "display_name": "Python 3",
   "language": "python",
   "name": "python3"
  },
  "language_info": {
   "codemirror_mode": {
    "name": "ipython",
    "version": 3
   },
   "file_extension": ".py",
   "mimetype": "text/x-python",
   "name": "python",
   "nbconvert_exporter": "python",
   "pygments_lexer": "ipython3",
   "version": "3.8.5"
  }
 },
 "nbformat": 4,
 "nbformat_minor": 5
}
