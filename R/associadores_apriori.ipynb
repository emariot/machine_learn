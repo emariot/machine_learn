{
 "cells": [
  {
   "cell_type": "markdown",
   "id": "solid-conditions",
   "metadata": {},
   "source": [
    "# Regra de Associação\n",
    "---\n",
    "* As regras de associação permitem que elementos em um comjunto de dados sejam expressos como X -> Y\n",
    "* Serve para descobrir elementos que ocorrem em comum dentro de um determinado conjunto de dados"
   ]
  },
  {
   "cell_type": "code",
   "execution_count": 8,
   "id": "digital-power",
   "metadata": {},
   "outputs": [],
   "source": [
    "#install.packages(\"arules\")\n",
    "#install.packages(\"arulesViz\")"
   ]
  },
  {
   "cell_type": "code",
   "execution_count": 10,
   "id": "caring-replacement",
   "metadata": {},
   "outputs": [],
   "source": [
    "library(arules)\n",
    "library(arulesViz)"
   ]
  },
  {
   "cell_type": "code",
   "execution_count": null,
   "id": "rough-screw",
   "metadata": {},
   "outputs": [],
   "source": []
  }
 ],
 "metadata": {
  "kernelspec": {
   "display_name": "R",
   "language": "R",
   "name": "ir"
  },
  "language_info": {
   "codemirror_mode": "r",
   "file_extension": ".r",
   "mimetype": "text/x-r-source",
   "name": "R",
   "pygments_lexer": "r",
   "version": "3.6.1"
  }
 },
 "nbformat": 4,
 "nbformat_minor": 5
}
