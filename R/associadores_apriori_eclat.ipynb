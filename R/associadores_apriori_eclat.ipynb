{
 "cells": [
  {
   "cell_type": "markdown",
   "id": "juvenile-camel",
   "metadata": {},
   "source": [
    "# Regra de Associação\n",
    "---\n",
    "* As regras de associação permitem que elementos em um comjunto de dados sejam expressos como X -> Y\n",
    "* Serve para descobrir elementos que ocorrem em comum dentro de um determinado conjunto de dados"
   ]
  },
  {
   "cell_type": "code",
   "execution_count": 8,
   "id": "binding-redhead",
   "metadata": {},
   "outputs": [],
   "source": [
    "#install.packages(\"arules\")\n",
    "#install.packages(\"arulesViz\")"
   ]
  },
  {
   "cell_type": "code",
   "execution_count": 2,
   "id": "finnish-amino",
   "metadata": {},
   "outputs": [],
   "source": [
    "library(arules)\n",
    "library(arulesViz)"
   ]
  },
  {
   "cell_type": "code",
   "execution_count": 3,
   "id": "greater-antigua",
   "metadata": {},
   "outputs": [
    {
     "data": {
      "text/plain": [
       "transactions in sparse format with\n",
       " 6 transactions (rows) and\n",
       " 3 items (columns)"
      ]
     },
     "metadata": {},
     "output_type": "display_data"
    }
   ],
   "source": [
    "trans = read.transactions(\"datasets/transacoes.txt\", format=\"basket\",sep=\",\")\n",
    "trans"
   ]
  },
  {
   "cell_type": "code",
   "execution_count": 13,
   "id": "novel-pressing",
   "metadata": {},
   "outputs": [
    {
     "name": "stdout",
     "output_type": "stream",
     "text": [
      "    items                  \n",
      "[1] {Cerveja,Pizza,Sorvete}\n",
      "[2] {Pizza,Sorvete}        \n",
      "[3] {Cerveja,Pizza}        \n",
      "[4] {Cerveja,Pizza,Sorvete}\n",
      "[5] {Cerveja,Pizza}        \n",
      "[6] {Pizza}                \n"
     ]
    }
   ],
   "source": [
    "inspect(trans)"
   ]
  },
  {
   "cell_type": "code",
   "execution_count": 14,
   "id": "played-peter",
   "metadata": {},
   "outputs": [
    {
     "data": {
      "image/png": "[encoded data removed]",
      "text/plain": [
       "plot without title"
      ]
     },
     "metadata": {
      "image/png": {
       "height": 420,
       "width": 420
      }
     },
     "output_type": "display_data"
    }
   ],
   "source": [
    "image(trans)"
   ]
  },
  {
   "cell_type": "code",
   "execution_count": 15,
   "id": "accepting-bearing",
   "metadata": {},
   "outputs": [
    {
     "name": "stdout",
     "output_type": "stream",
     "text": [
      "Apriori\n",
      "\n",
      "Parameter specification:\n",
      " confidence minval smax arem  aval originalSupport maxtime support minlen\n",
      "        0.5    0.1    1 none FALSE            TRUE       5     0.5      2\n",
      " maxlen target  ext\n",
      "     10  rules TRUE\n",
      "\n",
      "Algorithmic control:\n",
      " filter tree heap memopt load sort verbose\n",
      "    0.1 TRUE TRUE  FALSE TRUE    2    TRUE\n",
      "\n",
      "Absolute minimum support count: 3 \n",
      "\n",
      "set item appearances ...[0 item(s)] done [0.00s].\n",
      "set transactions ...[3 item(s), 6 transaction(s)] done [0.00s].\n",
      "sorting and recoding items ... [3 item(s)] done [0.00s].\n",
      "creating transaction tree ... done [0.00s].\n",
      "checking subsets of size 1 2 done [0.00s].\n",
      "writing ... [4 rule(s)] done [0.00s].\n",
      "creating S4 object  ... done [0.00s].\n"
     ]
    },
    {
     "data": {
      "text/plain": [
       "set of 4 rules "
      ]
     },
     "metadata": {},
     "output_type": "display_data"
    }
   ],
   "source": [
    "regras = apriori(trans, parameter=list(supp=0.5, conf=0.5, minlen=2)) # suporte e cobertura\n",
    "regras"
   ]
  },
  {
   "cell_type": "code",
   "execution_count": 16,
   "id": "deluxe-rugby",
   "metadata": {},
   "outputs": [
    {
     "data": {
      "text/plain": [
       "set of 4 rules\n",
       "\n",
       "rule length distribution (lhs + rhs):sizes\n",
       "2 \n",
       "4 \n",
       "\n",
       "   Min. 1st Qu.  Median    Mean 3rd Qu.    Max. \n",
       "      2       2       2       2       2       2 \n",
       "\n",
       "summary of quality measures:\n",
       "    support         confidence        coverage           lift       count    \n",
       " Min.   :0.5000   Min.   :0.5000   Min.   :0.5000   Min.   :1   Min.   :3.0  \n",
       " 1st Qu.:0.5000   1st Qu.:0.6250   1st Qu.:0.6250   1st Qu.:1   1st Qu.:3.0  \n",
       " Median :0.5833   Median :0.8333   Median :0.8333   Median :1   Median :3.5  \n",
       " Mean   :0.5833   Mean   :0.7917   Mean   :0.7917   Mean   :1   Mean   :3.5  \n",
       " 3rd Qu.:0.6667   3rd Qu.:1.0000   3rd Qu.:1.0000   3rd Qu.:1   3rd Qu.:4.0  \n",
       " Max.   :0.6667   Max.   :1.0000   Max.   :1.0000   Max.   :1   Max.   :4.0  \n",
       "\n",
       "mining info:\n",
       "  data ntransactions support confidence\n",
       " trans             6     0.5        0.5"
      ]
     },
     "metadata": {},
     "output_type": "display_data"
    }
   ],
   "source": [
    "summary(regras)"
   ]
  },
  {
   "cell_type": "code",
   "execution_count": 17,
   "id": "fleet-contemporary",
   "metadata": {},
   "outputs": [
    {
     "name": "stdout",
     "output_type": "stream",
     "text": [
      "    lhs          rhs       support   confidence coverage  lift count\n",
      "[1] {Sorvete} => {Pizza}   0.5000000 1.0000000  0.5000000 1    3    \n",
      "[2] {Pizza}   => {Sorvete} 0.5000000 0.5000000  1.0000000 1    3    \n",
      "[3] {Cerveja} => {Pizza}   0.6666667 1.0000000  0.6666667 1    4    \n",
      "[4] {Pizza}   => {Cerveja} 0.6666667 0.6666667  1.0000000 1    4    \n"
     ]
    }
   ],
   "source": [
    "inspect(regras)"
   ]
  },
  {
   "cell_type": "markdown",
   "id": "historic-invitation",
   "metadata": {},
   "source": [
    "## Visualização"
   ]
  },
  {
   "cell_type": "code",
   "execution_count": 19,
   "id": "monthly-lloyd",
   "metadata": {},
   "outputs": [
    {
     "name": "stderr",
     "output_type": "stream",
     "text": [
      "Warning message:\n",
      "\"Unknown control parameters: type\"\n"
     ]
    },
    {
     "name": "stdout",
     "output_type": "stream",
     "text": [
      "Available control parameters (with default values):\n",
      "layout\t =  list(fun = function (graph, dim = 2, ...)  {     if (\"layout\" %in% graph_attr_names(graph)) {         lay <- graph_attr(graph, \"layout\")         if (is.function(lay)) {             lay(graph, ...)         }         else {             lay         }     }     else if (all(c(\"x\", \"y\") %in% vertex_attr_names(graph))) {         if (\"z\" %in% vertex_attr_names(graph)) {             cbind(V(graph)$x, V(graph)$y, V(graph)$z)         }         else {             cbind(V(graph)$x, V(graph)$y)         }     }     else if (vcount(graph) < 1000) {         layout_with_fr(graph, dim = dim, ...)     }     else {         layout_with_drl(graph, dim = dim, ...)     } }, call_str = \"layout_nicely(<graph>, )\", args = list())\n",
      "edges\t =  <environment>\n",
      "nodes\t =  <environment>\n",
      "nodetext\t =  <environment>\n",
      "colors\t =  c(\"#EE0000FF\", \"#EEEEEEFF\")\n",
      "engine\t =  ggplot2\n",
      "max\t =  100\n",
      "verbose\t =  FALSE\n"
     ]
    },
    {
     "data": {
      "image/png": "[encoded data removed]",
      "text/plain": [
       "plot without title"
      ]
     },
     "metadata": {
      "image/png": {
       "height": 420,
       "width": 420
      }
     },
     "output_type": "display_data"
    }
   ],
   "source": [
    "plot(regras, method=\"graph\", control=list(type=\"items\"))"
   ]
  },
  {
   "cell_type": "code",
   "execution_count": 23,
   "id": "actual-chance",
   "metadata": {},
   "outputs": [
    {
     "name": "stderr",
     "output_type": "stream",
     "text": [
      "Warning message:\n",
      "\"Unknown control parameters: type\"\n"
     ]
    },
    {
     "name": "stdout",
     "output_type": "stream",
     "text": [
      "Available control parameters (with default values):\n",
      "main\t =  Matrix for 4 rules\n",
      "colors\t =  c(\"#EE0000FF\", \"#EEEEEEFF\")\n",
      "reorder\t =  measure\n",
      "max\t =  1000\n",
      "engine\t =  ggplot2\n",
      "verbose\t =  FALSE\n",
      "Itemsets in Antecedent (LHS)\n",
      "[1] \"{Sorvete}\" \"{Pizza}\"   \"{Cerveja}\"\n",
      "Itemsets in Consequent (RHS)\n",
      "[1] \"{Cerveja}\" \"{Sorvete}\" \"{Pizza}\"  \n"
     ]
    },
    {
     "name": "stderr",
     "output_type": "stream",
     "text": [
      "ERROR while rich displaying an object: Error in grDevices::col2rgb(colour, TRUE): numerical color values must be positive\n",
      "\n",
      "Traceback:\n",
      "1. FUN(X[[i]], ...)\n",
      "2. tryCatch(withCallingHandlers({\n",
      " .     if (!mime %in% names(repr::mime2repr)) \n",
      " .         stop(\"No repr_* for mimetype \", mime, \" in repr::mime2repr\")\n",
      " .     rpr <- repr::mime2repr[[mime]](obj)\n",
      " .     if (is.null(rpr)) \n",
      " .         return(NULL)\n",
      " .     prepare_content(is.raw(rpr), rpr)\n",
      " . }, error = error_handler), error = outer_handler)\n",
      "3. tryCatchList(expr, classes, parentenv, handlers)\n",
      "4. tryCatchOne(expr, names, parentenv, handlers[[1L]])\n",
      "5. doTryCatch(return(expr), name, parentenv, handler)\n",
      "6. withCallingHandlers({\n",
      " .     if (!mime %in% names(repr::mime2repr)) \n",
      " .         stop(\"No repr_* for mimetype \", mime, \" in repr::mime2repr\")\n",
      " .     rpr <- repr::mime2repr[[mime]](obj)\n",
      " .     if (is.null(rpr)) \n",
      " .         return(NULL)\n",
      " .     prepare_content(is.raw(rpr), rpr)\n",
      " . }, error = error_handler)\n",
      "7. repr::mime2repr[[mime]](obj)\n",
      "8. repr_text.default(obj)\n",
      "9. paste(capture.output(print(obj)), collapse = \"\\n\")\n",
      "10. capture.output(print(obj))\n",
      "11. evalVis(expr)\n",
      "12. withVisible(eval(expr, pf))\n",
      "13. eval(expr, pf)\n",
      "14. eval(expr, pf)\n",
      "15. print(obj)\n",
      "16. print.ggplot(obj)\n",
      "17. ggplot_gtable(data)\n",
      "18. ggplot_gtable.ggplot_built(data)\n",
      "19. Map(function(l, d) l$draw_geom(d, layout), plot$layers, data)\n",
      "20. mapply(FUN = f, ..., SIMPLIFY = FALSE)\n",
      "21. (function (l, d) \n",
      "  . l$draw_geom(d, layout))(dots[[1L]][[1L]], dots[[2L]][[1L]])\n",
      "22. l$draw_geom(d, layout)\n",
      "23. f(..., self = self)\n",
      "24. self$geom$draw_layer(data, self$geom_params, layout, layout$coord)\n",
      "25. f(..., self = self)\n",
      "26. lapply(split(data, data$PANEL), function(data) {\n",
      "  .     if (empty(data)) \n",
      "  .         return(zeroGrob())\n",
      "  .     panel_params <- layout$panel_params[[data$PANEL[1]]]\n",
      "  .     do.call(self$draw_panel, args)\n",
      "  . })\n",
      "27. FUN(X[[i]], ...)\n",
      "28. do.call(self$draw_panel, args)\n",
      "29. (structure(function (...) \n",
      "  . f(...), class = \"ggproto_method\"))(data, panel_params, coord, \n",
      "  .     hjust = 0.5, vjust = 0.5, interpolate = FALSE)\n",
      "30. f(...)\n",
      "31. alpha(data$fill, data$alpha)\n",
      "32. grDevices::col2rgb(colour, TRUE)\n",
      "33. stop(\"numerical color values must be positive\", domain = NA)\n"
     ]
    },
    {
     "data": {
      "image/png": "[encoded data removed]",
      "text/plain": [
       "plot without title"
      ]
     },
     "metadata": {
      "image/png": {
       "height": 420,
       "width": 420
      }
     },
     "output_type": "display_data"
    }
   ],
   "source": [
    "plot(regras, method=\"matrix\", control=list(type=\"items\"))"
   ]
  },
  {
   "cell_type": "code",
   "execution_count": 21,
   "id": "several-chess",
   "metadata": {},
   "outputs": [
    {
     "name": "stderr",
     "output_type": "stream",
     "text": [
      "Warning message in plot.rules(regras, method = \"matrix3D\"):\n",
      "\"method 'matrix3D' is deprecated use method 'matrix' with engine '3d'\"\n"
     ]
    },
    {
     "name": "stdout",
     "output_type": "stream",
     "text": [
      "Itemsets in Antecedent (LHS)\n",
      "[1] \"{Sorvete}\" \"{Pizza}\"   \"{Cerveja}\"\n",
      "Itemsets in Consequent (RHS)\n",
      "[1] \"{Cerveja}\" \"{Sorvete}\" \"{Pizza}\"  \n"
     ]
    },
    {
     "data": {
      "image/png": "[encoded data removed]",
      "text/plain": [
       "Plot with title \"Matrix for 4 rules\""
      ]
     },
     "metadata": {
      "image/png": {
       "height": 420,
       "width": 420
      }
     },
     "output_type": "display_data"
    }
   ],
   "source": [
    "plot(regras, method=\"matrix3D\")"
   ]
  },
  {
   "cell_type": "markdown",
   "id": "hidden-manual",
   "metadata": {},
   "source": [
    "# Eclat\n",
    "---"
   ]
  },
  {
   "cell_type": "code",
   "execution_count": 4,
   "id": "spiritual-beads",
   "metadata": {},
   "outputs": [
    {
     "data": {
      "image/png": "[encoded data removed]",
      "text/plain": [
       "plot without title"
      ]
     },
     "metadata": {
      "image/png": {
       "height": 420,
       "width": 420
      }
     },
     "output_type": "display_data"
    }
   ],
   "source": [
    "image(trans)"
   ]
  },
  {
   "cell_type": "code",
   "execution_count": 5,
   "id": "mature-planning",
   "metadata": {},
   "outputs": [
    {
     "name": "stdout",
     "output_type": "stream",
     "text": [
      "Eclat\n",
      "\n",
      "parameter specification:\n",
      " tidLists support minlen maxlen            target  ext\n",
      "    FALSE     0.1      2     10 frequent itemsets TRUE\n",
      "\n",
      "algorithmic control:\n",
      " sparse sort verbose\n",
      "      7   -2    TRUE\n",
      "\n",
      "Absolute minimum support count: 0 \n",
      "\n"
     ]
    },
    {
     "name": "stderr",
     "output_type": "stream",
     "text": [
      "Warning message in eclat(trans, parameter = list(minlen = 2)):\n",
      "\"You chose a very low absolute support count of 0. You might run out of memory! Increase minimum support.\n",
      "\"\n"
     ]
    },
    {
     "name": "stdout",
     "output_type": "stream",
     "text": [
      "create itemset ... \n",
      "set transactions ...[3 item(s), 6 transaction(s)] done [0.00s].\n",
      "sorting and recoding items ... [3 item(s)] done [0.00s].\n",
      "creating bit matrix ... [3 row(s), 6 column(s)] done [0.00s].\n",
      "writing  ... [4 set(s)] done [0.00s].\n",
      "Creating S4 object  ... done [0.00s].\n",
      "    items                   support   transIdenticalToItemsets count\n",
      "[1] {Cerveja,Pizza,Sorvete} 0.3333333 2                        2    \n",
      "[2] {Pizza,Sorvete}         0.5000000 3                        3    \n",
      "[3] {Cerveja,Sorvete}       0.3333333 2                        2    \n",
      "[4] {Cerveja,Pizza}         0.6666667 4                        4    \n"
     ]
    }
   ],
   "source": [
    "regras = eclat(trans, parameter=list(minlen=2))\n",
    "inspect(regras)"
   ]
  },
  {
   "cell_type": "code",
   "execution_count": 6,
   "id": "handmade-trust",
   "metadata": {},
   "outputs": [
    {
     "name": "stderr",
     "output_type": "stream",
     "text": [
      "Warning message:\n",
      "\"Unknown control parameters: type\"\n"
     ]
    },
    {
     "name": "stdout",
     "output_type": "stream",
     "text": [
      "Available control parameters (with default values):\n",
      "layout\t =  list(fun = function (graph, dim = 2, ...)  {     if (\"layout\" %in% graph_attr_names(graph)) {         lay <- graph_attr(graph, \"layout\")         if (is.function(lay)) {             lay(graph, ...)         }         else {             lay         }     }     else if (all(c(\"x\", \"y\") %in% vertex_attr_names(graph))) {         if (\"z\" %in% vertex_attr_names(graph)) {             cbind(V(graph)$x, V(graph)$y, V(graph)$z)         }         else {             cbind(V(graph)$x, V(graph)$y)         }     }     else if (vcount(graph) < 1000) {         layout_with_fr(graph, dim = dim, ...)     }     else {         layout_with_drl(graph, dim = dim, ...)     } }, call_str = \"layout_nicely(<graph>, )\", args = list())\n",
      "edges\t =  <environment>\n",
      "nodes\t =  <environment>\n",
      "nodetext\t =  <environment>\n",
      "colors\t =  c(\"#EE0000FF\", \"#EEEEEEFF\")\n",
      "engine\t =  ggplot2\n",
      "max\t =  100\n",
      "verbose\t =  FALSE\n"
     ]
    },
    {
     "data": {
      "image/png": "[encoded data removed]",
      "text/plain": [
       "plot without title"
      ]
     },
     "metadata": {
      "image/png": {
       "height": 420,
       "width": 420
      }
     },
     "output_type": "display_data"
    }
   ],
   "source": [
    "# Visualização\n",
    "plot(regras, method=\"graph\", control=list(type=\"items\"))"
   ]
  },
  {
   "cell_type": "code",
   "execution_count": null,
   "id": "acoustic-lover",
   "metadata": {},
   "outputs": [],
   "source": []
  }
 ],
 "metadata": {
  "kernelspec": {
   "display_name": "R",
   "language": "R",
   "name": "ir"
  },
  "language_info": {
   "codemirror_mode": "r",
   "file_extension": ".r",
   "mimetype": "text/x-r-source",
   "name": "R",
   "pygments_lexer": "r",
   "version": "3.6.1"
  }
 },
 "nbformat": 4,
 "nbformat_minor": 5
}
