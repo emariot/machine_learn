{
 "cells": [
  {
   "cell_type": "markdown",
   "id": "adolescent-bridge",
   "metadata": {},
   "source": [
    "# Classificadores\n",
    "---\n",
    "* Modelos que visam descrever ou prever um atributo especial chamdo classe.\n",
    "* Descobrir ou descrver a classe de um fato\n",
    "* É usado para preve uma fraude, descobrir a ual espécie um animal pertence, prever uma doença ou classificar um tipo de fungo.\n",
    "* Geralmente a classe (aquilo que se quer prever) esta localizado como último atributo\n",
    "## Tipos de Algorítimos:\n",
    "* Bayes\n",
    "    * NaiveBayes\n",
    "    * BayesNet\n",
    "* Rules \n",
    "    * OneR\n",
    "    * Part\n",
    "\n",
    "## Matriz de Confusão:\n",
    "* Cruza os erros e aceros do modelo para identificar os Verdadeiros/Falsos Positivos e Verdadeiros/Falsos Negativos\n",
    "\n",
    "## Generalização, Super Ajuste e Sub Ajuste\n",
    "* O objetivo de todo classificador é criar modelos genéricos \n",
    "* O modelo super ajustado funciona bem com dados de treino, mas tem desempenho baixo diante dos dados de teste ou em produção\n",
    "* O modelo sub ajustado não consegue boas taxas de previsão e não é capaz de capturar as características do negócio para o modelo.\n",
    "\n",
    "## Causas de Super e Sub Ajuste\n",
    "    * Dados não representativos\n",
    "    * Dados não significativos(poucos)\n",
    "    * Forma de treinamento\n",
    "    * Classe rara\n",
    "        * Transações de Fraude: a fraude é uma classe rara\n",
    "        * O modelo pode ter dificuldade de aprender uma classe rara\n",
    "        * Solução: estratidicação\n",
    "    * Modelo incorreto"
   ]
  },
  {
   "cell_type": "markdown",
   "id": "excess-harvard",
   "metadata": {},
   "source": []
  },
  {
   "cell_type": "code",
   "execution_count": null,
   "id": "material-asthma",
   "metadata": {},
   "outputs": [],
   "source": []
  }
 ],
 "metadata": {
  "kernelspec": {
   "display_name": "R",
   "language": "R",
   "name": "ir"
  },
  "language_info": {
   "codemirror_mode": "r",
   "file_extension": ".r",
   "mimetype": "text/x-r-source",
   "name": "R",
   "pygments_lexer": "r",
   "version": "3.6.1"
  }
 },
 "nbformat": 4,
 "nbformat_minor": 5
}
