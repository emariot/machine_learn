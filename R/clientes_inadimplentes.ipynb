{
 "cells": [
  {
   "cell_type": "markdown",
   "id": "virgin-fortune",
   "metadata": {},
   "source": [
    "# Prevendo a Inadimpência de Clientes com MachineLearning em R\n",
    "---"
   ]
  },
  {
   "cell_type": "markdown",
   "id": "paperback-change",
   "metadata": {},
   "source": [
    "### Definição do Problema:\n",
    "* Prever quais clientes poderão deixar de pagar a fatura do cartão de crédito no próximo mês.\n",
    "* A idéia é fornecer insights para que a empresa possa tomar ações pro-ativas como: limitar as compras feitas com o cartão ou até não aprovar compras acima de um determinado limite.\n",
    "* O setor de cobranças será afonte de dados do histórico dos clientes, entre os que pagam e que não pagam as faturas.\n",
    "* O trabalho é criar um modelo de Machine Learning para prever a inadimolência dos clientes do cartão de crédito.\n",
    "> Dataset: https://archive.ics.uci.edu/ml/datasets/default+of+credit+card+clients\n"
   ]
  },
  {
   "cell_type": "markdown",
   "id": "banned-truth",
   "metadata": {},
   "source": [
    "### This research employed a binary variable, default payment (Yes = 1, No = 0), as the response variable. This study reviewed the literature and used the following 23 variables as explanatory variables:\n",
    "* X1: Amount of the given credit (NT dollar): it includes both the individual consumer credit and his/her family (supplementary) credit.\n",
    "* X2: Gender (1 = male; 2 = female).\n",
    "* X3: Education (1 = graduate school; 2 = university; 3 = high school; 4 = others).\n",
    "* X4: Marital status (1 = married; 2 = single; 3 = others).\n",
    "* X5: Age (year).\n",
    "* X6 - X11: History of past payment'. We tracked the past monthly payment records (from April to September, 2005) as follows: X6 = the repayment status in September, 2005; X7 = the repayment status in August, 2005; . . .;X11 = the repayment status in April, 2005. The measurement scale for the repayment status is: -1 = pay duly; 1 = payment delay for one month; 2 = payment delay for two months; . . .; 8 = payment delay for eight months; 9 = payment delay for nine months and above.\n",
    "* X12-X17: Amount of bill statement (NT dollar). X12 = amount of bill statement in September, 2005; X13 = amount of bill statement in August, 2005; . . .; X17 = amount of bill statement in April, 2005.\n",
    "* X18-X23: Amount of previous payment (NT dollar). X18 = amount paid in September, 2005; X19 = amount paid in August, 2005; . . .;X23 = amount paid in April, 2005.\n",
    "\n"
   ]
  },
  {
   "cell_type": "code",
   "execution_count": 1,
   "id": "superior-microphone",
   "metadata": {
    "collapsed": true
   },
   "outputs": [
    {
     "name": "stderr",
     "output_type": "stream",
     "text": [
      "also installing the dependency 'RcppArmadillo'\n",
      "\n"
     ]
    },
    {
     "name": "stdout",
     "output_type": "stream",
     "text": [
      "package 'RcppArmadillo' successfully unpacked and MD5 sums checked\n",
      "package 'Amelia' successfully unpacked and MD5 sums checked\n",
      "\n",
      "The downloaded binary packages are in\n",
      "\tC:\\Users\\Eduardo\\AppData\\Local\\Temp\\RtmpGaavHl\\downloaded_packages\n"
     ]
    },
    {
     "name": "stderr",
     "output_type": "stream",
     "text": [
      "also installing the dependencies 'pillar', 'glue', 'tibble', 'ellipsis', 'dplyr', 'vctrs', 'cpp11', 'generics', 'lifecycle', 'rlang', 'tidyr', 'tidyselect', 'ModelMetrics', 'recipes', 'pROC'\n",
      "\n"
     ]
    },
    {
     "name": "stdout",
     "output_type": "stream",
     "text": [
      "\n",
      "  There is a binary version available but the source version is later:\n",
      "        binary source needs_compilation\n",
      "recipes 0.1.15 0.1.16             FALSE\n",
      "\n",
      "package 'pillar' successfully unpacked and MD5 sums checked\n",
      "package 'glue' successfully unpacked and MD5 sums checked\n",
      "package 'tibble' successfully unpacked and MD5 sums checked\n",
      "package 'ellipsis' successfully unpacked and MD5 sums checked\n",
      "package 'dplyr' successfully unpacked and MD5 sums checked\n",
      "package 'vctrs' successfully unpacked and MD5 sums checked\n",
      "package 'cpp11' successfully unpacked and MD5 sums checked\n",
      "package 'generics' successfully unpacked and MD5 sums checked\n",
      "package 'lifecycle' successfully unpacked and MD5 sums checked\n",
      "package 'rlang' successfully unpacked and MD5 sums checked\n",
      "package 'tidyr' successfully unpacked and MD5 sums checked\n",
      "package 'tidyselect' successfully unpacked and MD5 sums checked\n",
      "package 'ModelMetrics' successfully unpacked and MD5 sums checked\n",
      "package 'pROC' successfully unpacked and MD5 sums checked\n",
      "package 'caret' successfully unpacked and MD5 sums checked\n",
      "\n",
      "The downloaded binary packages are in\n",
      "\tC:\\Users\\Eduardo\\AppData\\Local\\Temp\\RtmpGaavHl\\downloaded_packages\n"
     ]
    },
    {
     "name": "stderr",
     "output_type": "stream",
     "text": [
      "installing the source package 'recipes'\n",
      "\n",
      "also installing the dependency 'isoband'\n",
      "\n"
     ]
    },
    {
     "name": "stdout",
     "output_type": "stream",
     "text": [
      "package 'isoband' successfully unpacked and MD5 sums checked\n",
      "package 'ggplot2' successfully unpacked and MD5 sums checked\n",
      "\n",
      "The downloaded binary packages are in\n",
      "\tC:\\Users\\Eduardo\\AppData\\Local\\Temp\\RtmpGaavHl\\downloaded_packages\n",
      "package 'dplyr' successfully unpacked and MD5 sums checked\n",
      "\n",
      "The downloaded binary packages are in\n",
      "\tC:\\Users\\Eduardo\\AppData\\Local\\Temp\\RtmpGaavHl\\downloaded_packages\n",
      "package 'reshape' successfully unpacked and MD5 sums checked\n",
      "\n",
      "The downloaded binary packages are in\n",
      "\tC:\\Users\\Eduardo\\AppData\\Local\\Temp\\RtmpGaavHl\\downloaded_packages\n",
      "package 'randomForest' successfully unpacked and MD5 sums checked\n",
      "\n",
      "The downloaded binary packages are in\n",
      "\tC:\\Users\\Eduardo\\AppData\\Local\\Temp\\RtmpGaavHl\\downloaded_packages\n"
     ]
    },
    {
     "name": "stderr",
     "output_type": "stream",
     "text": [
      "also installing the dependency 'proxy'\n",
      "\n"
     ]
    },
    {
     "name": "stdout",
     "output_type": "stream",
     "text": [
      "package 'proxy' successfully unpacked and MD5 sums checked\n",
      "package 'e1071' successfully unpacked and MD5 sums checked\n",
      "\n",
      "The downloaded binary packages are in\n",
      "\tC:\\Users\\Eduardo\\AppData\\Local\\Temp\\RtmpGaavHl\\downloaded_packages\n"
     ]
    }
   ],
   "source": [
    "install.packages(\"Amelia\")\n",
    "install.packages(\"caret\")\n",
    "install.packages(\"ggplot2\")\n",
    "install.packages(\"dplyr\")\n",
    "install.packages(\"reshape\")\n",
    "install.packages(\"randomForest\")\n",
    "install.packages(\"e1071\")"
   ]
  },
  {
   "cell_type": "code",
   "execution_count": 1,
   "id": "pursuant-indie",
   "metadata": {},
   "outputs": [
    {
     "name": "stderr",
     "output_type": "stream",
     "text": [
      "Loading required package: Rcpp\n",
      "## \n",
      "## Amelia II: Multiple Imputation\n",
      "## (Version 1.7.5, built: 2018-05-07)\n",
      "## Copyright (C) 2005-2021 James Honaker, Gary King and Matthew Blackwell\n",
      "## Refer to http://gking.harvard.edu/amelia/ for more information\n",
      "## \n",
      "Warning message:\n",
      "\"package 'ggplot2' was built under R version 3.6.3\"Warning message:\n",
      "\"package 'caret' was built under R version 3.6.3\"Loading required package: lattice\n",
      "Warning message:\n",
      "\"package 'reshape' was built under R version 3.6.3\"Warning message:\n",
      "\"package 'randomForest' was built under R version 3.6.3\"randomForest 4.6-14\n",
      "Type rfNews() to see new features/changes/bug fixes.\n",
      "\n",
      "Attaching package: 'randomForest'\n",
      "\n",
      "The following object is masked from 'package:ggplot2':\n",
      "\n",
      "    margin\n",
      "\n",
      "Warning message:\n",
      "\"package 'dplyr' was built under R version 3.6.3\"\n",
      "Attaching package: 'dplyr'\n",
      "\n",
      "The following object is masked from 'package:randomForest':\n",
      "\n",
      "    combine\n",
      "\n",
      "The following object is masked from 'package:reshape':\n",
      "\n",
      "    rename\n",
      "\n",
      "The following objects are masked from 'package:stats':\n",
      "\n",
      "    filter, lag\n",
      "\n",
      "The following objects are masked from 'package:base':\n",
      "\n",
      "    intersect, setdiff, setequal, union\n",
      "\n",
      "Warning message:\n",
      "\"package 'e1071' was built under R version 3.6.3\""
     ]
    }
   ],
   "source": [
    "library(Amelia)\n",
    "library(ggplot2)\n",
    "library(caret)\n",
    "library(reshape)\n",
    "library(randomForest)\n",
    "library(dplyr)\n",
    "library(e1071)\n"
   ]
  },
  {
   "cell_type": "code",
   "execution_count": 2,
   "id": "material-habitat",
   "metadata": {},
   "outputs": [
    {
     "data": {
      "text/html": [
       "<table>\n",
       "<thead><tr><th scope=col>ID</th><th scope=col>LIMIT_BAL</th><th scope=col>SEX</th><th scope=col>EDUCATION</th><th scope=col>MARRIAGE</th><th scope=col>AGE</th><th scope=col>PAY_0</th><th scope=col>PAY_2</th><th scope=col>PAY_3</th><th scope=col>PAY_4</th><th scope=col>...</th><th scope=col>BILL_AMT4</th><th scope=col>BILL_AMT5</th><th scope=col>BILL_AMT6</th><th scope=col>PAY_AMT1</th><th scope=col>PAY_AMT2</th><th scope=col>PAY_AMT3</th><th scope=col>PAY_AMT4</th><th scope=col>PAY_AMT5</th><th scope=col>PAY_AMT6</th><th scope=col>default.payment.next.month</th></tr></thead>\n",
       "<tbody>\n",
       "\t<tr><td>1     </td><td> 20000</td><td>2     </td><td>2     </td><td>1     </td><td>24    </td><td> 2    </td><td>2     </td><td>-1    </td><td>-1    </td><td>...   </td><td>    0 </td><td>    0 </td><td>    0 </td><td>   0  </td><td>  689 </td><td>    0 </td><td>   0  </td><td>   0  </td><td>   0  </td><td>1     </td></tr>\n",
       "\t<tr><td>2     </td><td>120000</td><td>2     </td><td>2     </td><td>2     </td><td>26    </td><td>-1    </td><td>2     </td><td> 0    </td><td> 0    </td><td>...   </td><td> 3272 </td><td> 3455 </td><td> 3261 </td><td>   0  </td><td> 1000 </td><td> 1000 </td><td>1000  </td><td>   0  </td><td>2000  </td><td>1     </td></tr>\n",
       "\t<tr><td>3     </td><td> 90000</td><td>2     </td><td>2     </td><td>2     </td><td>34    </td><td> 0    </td><td>0     </td><td> 0    </td><td> 0    </td><td>...   </td><td>14331 </td><td>14948 </td><td>15549 </td><td>1518  </td><td> 1500 </td><td> 1000 </td><td>1000  </td><td>1000  </td><td>5000  </td><td>0     </td></tr>\n",
       "\t<tr><td>4     </td><td> 50000</td><td>2     </td><td>2     </td><td>1     </td><td>37    </td><td> 0    </td><td>0     </td><td> 0    </td><td> 0    </td><td>...   </td><td>28314 </td><td>28959 </td><td>29547 </td><td>2000  </td><td> 2019 </td><td> 1200 </td><td>1100  </td><td>1069  </td><td>1000  </td><td>0     </td></tr>\n",
       "\t<tr><td>5     </td><td> 50000</td><td>1     </td><td>2     </td><td>1     </td><td>57    </td><td>-1    </td><td>0     </td><td>-1    </td><td> 0    </td><td>...   </td><td>20940 </td><td>19146 </td><td>19131 </td><td>2000  </td><td>36681 </td><td>10000 </td><td>9000  </td><td> 689  </td><td> 679  </td><td>0     </td></tr>\n",
       "\t<tr><td>6     </td><td> 50000</td><td>1     </td><td>1     </td><td>2     </td><td>37    </td><td> 0    </td><td>0     </td><td> 0    </td><td> 0    </td><td>...   </td><td>19394 </td><td>19619 </td><td>20024 </td><td>2500  </td><td> 1815 </td><td>  657 </td><td>1000  </td><td>1000  </td><td> 800  </td><td>0     </td></tr>\n",
       "</tbody>\n",
       "</table>\n"
      ],
      "text/latex": [
       "\\begin{tabular}{r|lllllllllllllllllllllllll}\n",
       " ID & LIMIT\\_BAL & SEX & EDUCATION & MARRIAGE & AGE & PAY\\_0 & PAY\\_2 & PAY\\_3 & PAY\\_4 & ... & BILL\\_AMT4 & BILL\\_AMT5 & BILL\\_AMT6 & PAY\\_AMT1 & PAY\\_AMT2 & PAY\\_AMT3 & PAY\\_AMT4 & PAY\\_AMT5 & PAY\\_AMT6 & default.payment.next.month\\\\\n",
       "\\hline\n",
       "\t 1      &  20000 & 2      & 2      & 1      & 24     &  2     & 2      & -1     & -1     & ...    &     0  &     0  &     0  &    0   &   689  &     0  &    0   &    0   &    0   & 1     \\\\\n",
       "\t 2      & 120000 & 2      & 2      & 2      & 26     & -1     & 2      &  0     &  0     & ...    &  3272  &  3455  &  3261  &    0   &  1000  &  1000  & 1000   &    0   & 2000   & 1     \\\\\n",
       "\t 3      &  90000 & 2      & 2      & 2      & 34     &  0     & 0      &  0     &  0     & ...    & 14331  & 14948  & 15549  & 1518   &  1500  &  1000  & 1000   & 1000   & 5000   & 0     \\\\\n",
       "\t 4      &  50000 & 2      & 2      & 1      & 37     &  0     & 0      &  0     &  0     & ...    & 28314  & 28959  & 29547  & 2000   &  2019  &  1200  & 1100   & 1069   & 1000   & 0     \\\\\n",
       "\t 5      &  50000 & 1      & 2      & 1      & 57     & -1     & 0      & -1     &  0     & ...    & 20940  & 19146  & 19131  & 2000   & 36681  & 10000  & 9000   &  689   &  679   & 0     \\\\\n",
       "\t 6      &  50000 & 1      & 1      & 2      & 37     &  0     & 0      &  0     &  0     & ...    & 19394  & 19619  & 20024  & 2500   &  1815  &   657  & 1000   & 1000   &  800   & 0     \\\\\n",
       "\\end{tabular}\n"
      ],
      "text/markdown": [
       "\n",
       "| ID | LIMIT_BAL | SEX | EDUCATION | MARRIAGE | AGE | PAY_0 | PAY_2 | PAY_3 | PAY_4 | ... | BILL_AMT4 | BILL_AMT5 | BILL_AMT6 | PAY_AMT1 | PAY_AMT2 | PAY_AMT3 | PAY_AMT4 | PAY_AMT5 | PAY_AMT6 | default.payment.next.month |\n",
       "|---|---|---|---|---|---|---|---|---|---|---|---|---|---|---|---|---|---|---|---|---|\n",
       "| 1      |  20000 | 2      | 2      | 1      | 24     |  2     | 2      | -1     | -1     | ...    |     0  |     0  |     0  |    0   |   689  |     0  |    0   |    0   |    0   | 1      |\n",
       "| 2      | 120000 | 2      | 2      | 2      | 26     | -1     | 2      |  0     |  0     | ...    |  3272  |  3455  |  3261  |    0   |  1000  |  1000  | 1000   |    0   | 2000   | 1      |\n",
       "| 3      |  90000 | 2      | 2      | 2      | 34     |  0     | 0      |  0     |  0     | ...    | 14331  | 14948  | 15549  | 1518   |  1500  |  1000  | 1000   | 1000   | 5000   | 0      |\n",
       "| 4      |  50000 | 2      | 2      | 1      | 37     |  0     | 0      |  0     |  0     | ...    | 28314  | 28959  | 29547  | 2000   |  2019  |  1200  | 1100   | 1069   | 1000   | 0      |\n",
       "| 5      |  50000 | 1      | 2      | 1      | 57     | -1     | 0      | -1     |  0     | ...    | 20940  | 19146  | 19131  | 2000   | 36681  | 10000  | 9000   |  689   |  679   | 0      |\n",
       "| 6      |  50000 | 1      | 1      | 2      | 37     |  0     | 0      |  0     |  0     | ...    | 19394  | 19619  | 20024  | 2500   |  1815  |   657  | 1000   | 1000   |  800   | 0      |\n",
       "\n"
      ],
      "text/plain": [
       "  ID LIMIT_BAL SEX EDUCATION MARRIAGE AGE PAY_0 PAY_2 PAY_3 PAY_4 ... BILL_AMT4\n",
       "1 1   20000    2   2         1        24   2    2     -1    -1    ...     0    \n",
       "2 2  120000    2   2         2        26  -1    2      0     0    ...  3272    \n",
       "3 3   90000    2   2         2        34   0    0      0     0    ... 14331    \n",
       "4 4   50000    2   2         1        37   0    0      0     0    ... 28314    \n",
       "5 5   50000    1   2         1        57  -1    0     -1     0    ... 20940    \n",
       "6 6   50000    1   1         2        37   0    0      0     0    ... 19394    \n",
       "  BILL_AMT5 BILL_AMT6 PAY_AMT1 PAY_AMT2 PAY_AMT3 PAY_AMT4 PAY_AMT5 PAY_AMT6\n",
       "1     0         0        0       689        0       0        0        0    \n",
       "2  3455      3261        0      1000     1000    1000        0     2000    \n",
       "3 14948     15549     1518      1500     1000    1000     1000     5000    \n",
       "4 28959     29547     2000      2019     1200    1100     1069     1000    \n",
       "5 19146     19131     2000     36681    10000    9000      689      679    \n",
       "6 19619     20024     2500      1815      657    1000     1000      800    \n",
       "  default.payment.next.month\n",
       "1 1                         \n",
       "2 1                         \n",
       "3 0                         \n",
       "4 0                         \n",
       "5 0                         \n",
       "6 0                         "
      ]
     },
     "metadata": {},
     "output_type": "display_data"
    }
   ],
   "source": [
    "data = read.csv(\"dataset/dataset.csv\")\n",
    "head(data)"
   ]
  },
  {
   "cell_type": "code",
   "execution_count": 3,
   "id": "grateful-limit",
   "metadata": {},
   "outputs": [
    {
     "data": {
      "text/html": [
       "<ol class=list-inline>\n",
       "\t<li>30000</li>\n",
       "\t<li>25</li>\n",
       "</ol>\n"
      ],
      "text/latex": [
       "\\begin{enumerate*}\n",
       "\\item 30000\n",
       "\\item 25\n",
       "\\end{enumerate*}\n"
      ],
      "text/markdown": [
       "1. 30000\n",
       "2. 25\n",
       "\n",
       "\n"
      ],
      "text/plain": [
       "[1] 30000    25"
      ]
     },
     "metadata": {},
     "output_type": "display_data"
    }
   ],
   "source": [
    "dim(data)"
   ]
  },
  {
   "cell_type": "code",
   "execution_count": 4,
   "id": "creative-principal",
   "metadata": {},
   "outputs": [
    {
     "name": "stdout",
     "output_type": "stream",
     "text": [
      "'data.frame':\t30000 obs. of  25 variables:\n",
      " $ ID                        : int  1 2 3 4 5 6 7 8 9 10 ...\n",
      " $ LIMIT_BAL                 : int  20000 120000 90000 50000 50000 50000 500000 100000 140000 20000 ...\n",
      " $ SEX                       : int  2 2 2 2 1 1 1 2 2 1 ...\n",
      " $ EDUCATION                 : int  2 2 2 2 2 1 1 2 3 3 ...\n",
      " $ MARRIAGE                  : int  1 2 2 1 1 2 2 2 1 2 ...\n",
      " $ AGE                       : int  24 26 34 37 57 37 29 23 28 35 ...\n",
      " $ PAY_0                     : int  2 -1 0 0 -1 0 0 0 0 -2 ...\n",
      " $ PAY_2                     : int  2 2 0 0 0 0 0 -1 0 -2 ...\n",
      " $ PAY_3                     : int  -1 0 0 0 -1 0 0 -1 2 -2 ...\n",
      " $ PAY_4                     : int  -1 0 0 0 0 0 0 0 0 -2 ...\n",
      " $ PAY_5                     : int  -2 0 0 0 0 0 0 0 0 -1 ...\n",
      " $ PAY_6                     : int  -2 2 0 0 0 0 0 -1 0 -1 ...\n",
      " $ BILL_AMT1                 : int  3913 2682 29239 46990 8617 64400 367965 11876 11285 0 ...\n",
      " $ BILL_AMT2                 : int  3102 1725 14027 48233 5670 57069 412023 380 14096 0 ...\n",
      " $ BILL_AMT3                 : int  689 2682 13559 49291 35835 57608 445007 601 12108 0 ...\n",
      " $ BILL_AMT4                 : int  0 3272 14331 28314 20940 19394 542653 221 12211 0 ...\n",
      " $ BILL_AMT5                 : int  0 3455 14948 28959 19146 19619 483003 -159 11793 13007 ...\n",
      " $ BILL_AMT6                 : int  0 3261 15549 29547 19131 20024 473944 567 3719 13912 ...\n",
      " $ PAY_AMT1                  : int  0 0 1518 2000 2000 2500 55000 380 3329 0 ...\n",
      " $ PAY_AMT2                  : int  689 1000 1500 2019 36681 1815 40000 601 0 0 ...\n",
      " $ PAY_AMT3                  : int  0 1000 1000 1200 10000 657 38000 0 432 0 ...\n",
      " $ PAY_AMT4                  : int  0 1000 1000 1100 9000 1000 20239 581 1000 13007 ...\n",
      " $ PAY_AMT5                  : int  0 0 1000 1069 689 1000 13750 1687 1000 1122 ...\n",
      " $ PAY_AMT6                  : int  0 2000 5000 1000 679 800 13770 1542 1000 0 ...\n",
      " $ default.payment.next.month: int  1 1 0 0 0 0 0 0 0 0 ...\n"
     ]
    }
   ],
   "source": [
    "str(data)"
   ]
  },
  {
   "cell_type": "code",
   "execution_count": 5,
   "id": "antique-company",
   "metadata": {},
   "outputs": [
    {
     "data": {
      "text/plain": [
       "       ID          LIMIT_BAL            SEX          EDUCATION    \n",
       " Min.   :    1   Min.   :  10000   Min.   :1.000   Min.   :0.000  \n",
       " 1st Qu.: 7501   1st Qu.:  50000   1st Qu.:1.000   1st Qu.:1.000  \n",
       " Median :15000   Median : 140000   Median :2.000   Median :2.000  \n",
       " Mean   :15000   Mean   : 167484   Mean   :1.604   Mean   :1.853  \n",
       " 3rd Qu.:22500   3rd Qu.: 240000   3rd Qu.:2.000   3rd Qu.:2.000  \n",
       " Max.   :30000   Max.   :1000000   Max.   :2.000   Max.   :6.000  \n",
       "    MARRIAGE          AGE            PAY_0             PAY_2        \n",
       " Min.   :0.000   Min.   :21.00   Min.   :-2.0000   Min.   :-2.0000  \n",
       " 1st Qu.:1.000   1st Qu.:28.00   1st Qu.:-1.0000   1st Qu.:-1.0000  \n",
       " Median :2.000   Median :34.00   Median : 0.0000   Median : 0.0000  \n",
       " Mean   :1.552   Mean   :35.49   Mean   :-0.0167   Mean   :-0.1338  \n",
       " 3rd Qu.:2.000   3rd Qu.:41.00   3rd Qu.: 0.0000   3rd Qu.: 0.0000  \n",
       " Max.   :3.000   Max.   :79.00   Max.   : 8.0000   Max.   : 8.0000  \n",
       "     PAY_3             PAY_4             PAY_5             PAY_6        \n",
       " Min.   :-2.0000   Min.   :-2.0000   Min.   :-2.0000   Min.   :-2.0000  \n",
       " 1st Qu.:-1.0000   1st Qu.:-1.0000   1st Qu.:-1.0000   1st Qu.:-1.0000  \n",
       " Median : 0.0000   Median : 0.0000   Median : 0.0000   Median : 0.0000  \n",
       " Mean   :-0.1662   Mean   :-0.2207   Mean   :-0.2662   Mean   :-0.2911  \n",
       " 3rd Qu.: 0.0000   3rd Qu.: 0.0000   3rd Qu.: 0.0000   3rd Qu.: 0.0000  \n",
       " Max.   : 8.0000   Max.   : 8.0000   Max.   : 8.0000   Max.   : 8.0000  \n",
       "   BILL_AMT1         BILL_AMT2        BILL_AMT3         BILL_AMT4      \n",
       " Min.   :-165580   Min.   :-69777   Min.   :-157264   Min.   :-170000  \n",
       " 1st Qu.:   3559   1st Qu.:  2985   1st Qu.:   2666   1st Qu.:   2327  \n",
       " Median :  22382   Median : 21200   Median :  20089   Median :  19052  \n",
       " Mean   :  51223   Mean   : 49179   Mean   :  47013   Mean   :  43263  \n",
       " 3rd Qu.:  67091   3rd Qu.: 64006   3rd Qu.:  60165   3rd Qu.:  54506  \n",
       " Max.   : 964511   Max.   :983931   Max.   :1664089   Max.   : 891586  \n",
       "   BILL_AMT5        BILL_AMT6          PAY_AMT1         PAY_AMT2      \n",
       " Min.   :-81334   Min.   :-339603   Min.   :     0   Min.   :      0  \n",
       " 1st Qu.:  1763   1st Qu.:   1256   1st Qu.:  1000   1st Qu.:    833  \n",
       " Median : 18105   Median :  17071   Median :  2100   Median :   2009  \n",
       " Mean   : 40311   Mean   :  38872   Mean   :  5664   Mean   :   5921  \n",
       " 3rd Qu.: 50191   3rd Qu.:  49198   3rd Qu.:  5006   3rd Qu.:   5000  \n",
       " Max.   :927171   Max.   : 961664   Max.   :873552   Max.   :1684259  \n",
       "    PAY_AMT3         PAY_AMT4         PAY_AMT5           PAY_AMT6       \n",
       " Min.   :     0   Min.   :     0   Min.   :     0.0   Min.   :     0.0  \n",
       " 1st Qu.:   390   1st Qu.:   296   1st Qu.:   252.5   1st Qu.:   117.8  \n",
       " Median :  1800   Median :  1500   Median :  1500.0   Median :  1500.0  \n",
       " Mean   :  5226   Mean   :  4826   Mean   :  4799.4   Mean   :  5215.5  \n",
       " 3rd Qu.:  4505   3rd Qu.:  4013   3rd Qu.:  4031.5   3rd Qu.:  4000.0  \n",
       " Max.   :896040   Max.   :621000   Max.   :426529.0   Max.   :528666.0  \n",
       " default.payment.next.month\n",
       " Min.   :0.0000            \n",
       " 1st Qu.:0.0000            \n",
       " Median :0.0000            \n",
       " Mean   :0.2212            \n",
       " 3rd Qu.:0.0000            \n",
       " Max.   :1.0000            "
      ]
     },
     "metadata": {},
     "output_type": "display_data"
    }
   ],
   "source": [
    "summary(data)"
   ]
  },
  {
   "cell_type": "markdown",
   "id": "equipped-green",
   "metadata": {},
   "source": [
    "### Análise exploratória,limpeza e transformação\n",
    "---"
   ]
  },
  {
   "cell_type": "code",
   "execution_count": 6,
   "id": "bibliographic-prisoner",
   "metadata": {},
   "outputs": [
    {
     "data": {
      "text/html": [
       "<table>\n",
       "<thead><tr><th scope=col>LIMIT_BAL</th><th scope=col>SEX</th><th scope=col>EDUCATION</th><th scope=col>MARRIAGE</th><th scope=col>AGE</th><th scope=col>PAY_0</th><th scope=col>PAY_2</th><th scope=col>PAY_3</th><th scope=col>PAY_4</th><th scope=col>PAY_5</th><th scope=col>...</th><th scope=col>BILL_AMT4</th><th scope=col>BILL_AMT5</th><th scope=col>BILL_AMT6</th><th scope=col>PAY_AMT1</th><th scope=col>PAY_AMT2</th><th scope=col>PAY_AMT3</th><th scope=col>PAY_AMT4</th><th scope=col>PAY_AMT5</th><th scope=col>PAY_AMT6</th><th scope=col>default.payment.next.month</th></tr></thead>\n",
       "<tbody>\n",
       "\t<tr><td> 20000</td><td>2     </td><td>2     </td><td>1     </td><td>24    </td><td> 2    </td><td>2     </td><td>-1    </td><td>-1    </td><td>-2    </td><td>...   </td><td>   0  </td><td>   0  </td><td>   0  </td><td>0     </td><td> 689  </td><td>   0  </td><td>   0  </td><td>0     </td><td>   0  </td><td>1     </td></tr>\n",
       "\t<tr><td>120000</td><td>2     </td><td>2     </td><td>2     </td><td>26    </td><td>-1    </td><td>2     </td><td> 0    </td><td> 0    </td><td> 0    </td><td>...   </td><td>3272  </td><td>3455  </td><td>3261  </td><td>0     </td><td>1000  </td><td>1000  </td><td>1000  </td><td>0     </td><td>2000  </td><td>1     </td></tr>\n",
       "</tbody>\n",
       "</table>\n"
      ],
      "text/latex": [
       "\\begin{tabular}{r|llllllllllllllllllllllll}\n",
       " LIMIT\\_BAL & SEX & EDUCATION & MARRIAGE & AGE & PAY\\_0 & PAY\\_2 & PAY\\_3 & PAY\\_4 & PAY\\_5 & ... & BILL\\_AMT4 & BILL\\_AMT5 & BILL\\_AMT6 & PAY\\_AMT1 & PAY\\_AMT2 & PAY\\_AMT3 & PAY\\_AMT4 & PAY\\_AMT5 & PAY\\_AMT6 & default.payment.next.month\\\\\n",
       "\\hline\n",
       "\t  20000 & 2      & 2      & 1      & 24     &  2     & 2      & -1     & -1     & -2     & ...    &    0   &    0   &    0   & 0      &  689   &    0   &    0   & 0      &    0   & 1     \\\\\n",
       "\t 120000 & 2      & 2      & 2      & 26     & -1     & 2      &  0     &  0     &  0     & ...    & 3272   & 3455   & 3261   & 0      & 1000   & 1000   & 1000   & 0      & 2000   & 1     \\\\\n",
       "\\end{tabular}\n"
      ],
      "text/markdown": [
       "\n",
       "| LIMIT_BAL | SEX | EDUCATION | MARRIAGE | AGE | PAY_0 | PAY_2 | PAY_3 | PAY_4 | PAY_5 | ... | BILL_AMT4 | BILL_AMT5 | BILL_AMT6 | PAY_AMT1 | PAY_AMT2 | PAY_AMT3 | PAY_AMT4 | PAY_AMT5 | PAY_AMT6 | default.payment.next.month |\n",
       "|---|---|---|---|---|---|---|---|---|---|---|---|---|---|---|---|---|---|---|---|---|\n",
       "|  20000 | 2      | 2      | 1      | 24     |  2     | 2      | -1     | -1     | -2     | ...    |    0   |    0   |    0   | 0      |  689   |    0   |    0   | 0      |    0   | 1      |\n",
       "| 120000 | 2      | 2      | 2      | 26     | -1     | 2      |  0     |  0     |  0     | ...    | 3272   | 3455   | 3261   | 0      | 1000   | 1000   | 1000   | 0      | 2000   | 1      |\n",
       "\n"
      ],
      "text/plain": [
       "  LIMIT_BAL SEX EDUCATION MARRIAGE AGE PAY_0 PAY_2 PAY_3 PAY_4 PAY_5 ...\n",
       "1  20000    2   2         1        24   2    2     -1    -1    -2    ...\n",
       "2 120000    2   2         2        26  -1    2      0     0     0    ...\n",
       "  BILL_AMT4 BILL_AMT5 BILL_AMT6 PAY_AMT1 PAY_AMT2 PAY_AMT3 PAY_AMT4 PAY_AMT5\n",
       "1    0         0         0      0         689        0        0     0       \n",
       "2 3272      3455      3261      0        1000     1000     1000     0       \n",
       "  PAY_AMT6 default.payment.next.month\n",
       "1    0     1                         \n",
       "2 2000     1                         "
      ]
     },
     "metadata": {},
     "output_type": "display_data"
    }
   ],
   "source": [
    "# Removendo ID\n",
    "data$ID = NULL\n",
    "head(data,2)"
   ]
  },
  {
   "cell_type": "code",
   "execution_count": 7,
   "id": "applicable-affiliation",
   "metadata": {},
   "outputs": [
    {
     "data": {
      "text/html": [
       "'inadimplente'"
      ],
      "text/latex": [
       "'inadimplente'"
      ],
      "text/markdown": [
       "'inadimplente'"
      ],
      "text/plain": [
       "[1] \"inadimplente\""
      ]
     },
     "metadata": {},
     "output_type": "display_data"
    }
   ],
   "source": [
    "# Renomear a coluna de classe\n",
    "colnames(data)[24] = 'inadimplente'\n",
    "colnames(data)[24]"
   ]
  },
  {
   "cell_type": "code",
   "execution_count": 8,
   "id": "appointed-variance",
   "metadata": {},
   "outputs": [
    {
     "data": {
      "text/html": [
       "<dl class=dl-horizontal>\n",
       "\t<dt>LIMIT_BAL</dt>\n",
       "\t\t<dd>0</dd>\n",
       "\t<dt>SEX</dt>\n",
       "\t\t<dd>0</dd>\n",
       "\t<dt>EDUCATION</dt>\n",
       "\t\t<dd>0</dd>\n",
       "\t<dt>MARRIAGE</dt>\n",
       "\t\t<dd>0</dd>\n",
       "\t<dt>AGE</dt>\n",
       "\t\t<dd>0</dd>\n",
       "\t<dt>PAY_0</dt>\n",
       "\t\t<dd>0</dd>\n",
       "\t<dt>PAY_2</dt>\n",
       "\t\t<dd>0</dd>\n",
       "\t<dt>PAY_3</dt>\n",
       "\t\t<dd>0</dd>\n",
       "\t<dt>PAY_4</dt>\n",
       "\t\t<dd>0</dd>\n",
       "\t<dt>PAY_5</dt>\n",
       "\t\t<dd>0</dd>\n",
       "\t<dt>PAY_6</dt>\n",
       "\t\t<dd>0</dd>\n",
       "\t<dt>BILL_AMT1</dt>\n",
       "\t\t<dd>0</dd>\n",
       "\t<dt>BILL_AMT2</dt>\n",
       "\t\t<dd>0</dd>\n",
       "\t<dt>BILL_AMT3</dt>\n",
       "\t\t<dd>0</dd>\n",
       "\t<dt>BILL_AMT4</dt>\n",
       "\t\t<dd>0</dd>\n",
       "\t<dt>BILL_AMT5</dt>\n",
       "\t\t<dd>0</dd>\n",
       "\t<dt>BILL_AMT6</dt>\n",
       "\t\t<dd>0</dd>\n",
       "\t<dt>PAY_AMT1</dt>\n",
       "\t\t<dd>0</dd>\n",
       "\t<dt>PAY_AMT2</dt>\n",
       "\t\t<dd>0</dd>\n",
       "\t<dt>PAY_AMT3</dt>\n",
       "\t\t<dd>0</dd>\n",
       "\t<dt>PAY_AMT4</dt>\n",
       "\t\t<dd>0</dd>\n",
       "\t<dt>PAY_AMT5</dt>\n",
       "\t\t<dd>0</dd>\n",
       "\t<dt>PAY_AMT6</dt>\n",
       "\t\t<dd>0</dd>\n",
       "\t<dt>inadimplente</dt>\n",
       "\t\t<dd>0</dd>\n",
       "</dl>\n"
      ],
      "text/latex": [
       "\\begin{description*}\n",
       "\\item[LIMIT\\textbackslash{}\\_BAL] 0\n",
       "\\item[SEX] 0\n",
       "\\item[EDUCATION] 0\n",
       "\\item[MARRIAGE] 0\n",
       "\\item[AGE] 0\n",
       "\\item[PAY\\textbackslash{}\\_0] 0\n",
       "\\item[PAY\\textbackslash{}\\_2] 0\n",
       "\\item[PAY\\textbackslash{}\\_3] 0\n",
       "\\item[PAY\\textbackslash{}\\_4] 0\n",
       "\\item[PAY\\textbackslash{}\\_5] 0\n",
       "\\item[PAY\\textbackslash{}\\_6] 0\n",
       "\\item[BILL\\textbackslash{}\\_AMT1] 0\n",
       "\\item[BILL\\textbackslash{}\\_AMT2] 0\n",
       "\\item[BILL\\textbackslash{}\\_AMT3] 0\n",
       "\\item[BILL\\textbackslash{}\\_AMT4] 0\n",
       "\\item[BILL\\textbackslash{}\\_AMT5] 0\n",
       "\\item[BILL\\textbackslash{}\\_AMT6] 0\n",
       "\\item[PAY\\textbackslash{}\\_AMT1] 0\n",
       "\\item[PAY\\textbackslash{}\\_AMT2] 0\n",
       "\\item[PAY\\textbackslash{}\\_AMT3] 0\n",
       "\\item[PAY\\textbackslash{}\\_AMT4] 0\n",
       "\\item[PAY\\textbackslash{}\\_AMT5] 0\n",
       "\\item[PAY\\textbackslash{}\\_AMT6] 0\n",
       "\\item[inadimplente] 0\n",
       "\\end{description*}\n"
      ],
      "text/markdown": [
       "LIMIT_BAL\n",
       ":   0SEX\n",
       ":   0EDUCATION\n",
       ":   0MARRIAGE\n",
       ":   0AGE\n",
       ":   0PAY_0\n",
       ":   0PAY_2\n",
       ":   0PAY_3\n",
       ":   0PAY_4\n",
       ":   0PAY_5\n",
       ":   0PAY_6\n",
       ":   0BILL_AMT1\n",
       ":   0BILL_AMT2\n",
       ":   0BILL_AMT3\n",
       ":   0BILL_AMT4\n",
       ":   0BILL_AMT5\n",
       ":   0BILL_AMT6\n",
       ":   0PAY_AMT1\n",
       ":   0PAY_AMT2\n",
       ":   0PAY_AMT3\n",
       ":   0PAY_AMT4\n",
       ":   0PAY_AMT5\n",
       ":   0PAY_AMT6\n",
       ":   0inadimplente\n",
       ":   0\n",
       "\n"
      ],
      "text/plain": [
       "   LIMIT_BAL          SEX    EDUCATION     MARRIAGE          AGE        PAY_0 \n",
       "           0            0            0            0            0            0 \n",
       "       PAY_2        PAY_3        PAY_4        PAY_5        PAY_6    BILL_AMT1 \n",
       "           0            0            0            0            0            0 \n",
       "   BILL_AMT2    BILL_AMT3    BILL_AMT4    BILL_AMT5    BILL_AMT6     PAY_AMT1 \n",
       "           0            0            0            0            0            0 \n",
       "    PAY_AMT2     PAY_AMT3     PAY_AMT4     PAY_AMT5     PAY_AMT6 inadimplente \n",
       "           0            0            0            0            0            0 "
      ]
     },
     "metadata": {},
     "output_type": "display_data"
    }
   ],
   "source": [
    "# Verificando valores ausentes\n",
    "sapply(data, function(x) sum(is.na(x)))"
   ]
  },
  {
   "cell_type": "code",
   "execution_count": 9,
   "id": "introductory-saudi",
   "metadata": {},
   "outputs": [
    {
     "data": {
      "image/png": "[encoded data removed]",
      "text/plain": [
       "Plot with title \"Valores Missing Observados\""
      ]
     },
     "metadata": {},
     "output_type": "display_data"
    }
   ],
   "source": [
    "# Valores ausentes com Amelia\n",
    "missmap(data, main=\"Valores Missing Observados\")\n",
    "#data = na.omit(data)"
   ]
  },
  {
   "cell_type": "code",
   "execution_count": 10,
   "id": "annoying-hardwood",
   "metadata": {},
   "outputs": [
    {
     "data": {
      "text/html": [
       "<ol class=list-inline>\n",
       "\t<li>'LIMIT_BAL'</li>\n",
       "\t<li>'genero'</li>\n",
       "\t<li>'escolaridade'</li>\n",
       "\t<li>'estado_civil'</li>\n",
       "\t<li>'idade'</li>\n",
       "\t<li>'PAY_0'</li>\n",
       "\t<li>'PAY_2'</li>\n",
       "\t<li>'PAY_3'</li>\n",
       "\t<li>'PAY_4'</li>\n",
       "\t<li>'PAY_5'</li>\n",
       "\t<li>'PAY_6'</li>\n",
       "\t<li>'BILL_AMT1'</li>\n",
       "\t<li>'BILL_AMT2'</li>\n",
       "\t<li>'BILL_AMT3'</li>\n",
       "\t<li>'BILL_AMT4'</li>\n",
       "\t<li>'BILL_AMT5'</li>\n",
       "\t<li>'BILL_AMT6'</li>\n",
       "\t<li>'PAY_AMT1'</li>\n",
       "\t<li>'PAY_AMT2'</li>\n",
       "\t<li>'PAY_AMT3'</li>\n",
       "\t<li>'PAY_AMT4'</li>\n",
       "\t<li>'PAY_AMT5'</li>\n",
       "\t<li>'PAY_AMT6'</li>\n",
       "\t<li>'inadimplente'</li>\n",
       "</ol>\n"
      ],
      "text/latex": [
       "\\begin{enumerate*}\n",
       "\\item 'LIMIT\\_BAL'\n",
       "\\item 'genero'\n",
       "\\item 'escolaridade'\n",
       "\\item 'estado\\_civil'\n",
       "\\item 'idade'\n",
       "\\item 'PAY\\_0'\n",
       "\\item 'PAY\\_2'\n",
       "\\item 'PAY\\_3'\n",
       "\\item 'PAY\\_4'\n",
       "\\item 'PAY\\_5'\n",
       "\\item 'PAY\\_6'\n",
       "\\item 'BILL\\_AMT1'\n",
       "\\item 'BILL\\_AMT2'\n",
       "\\item 'BILL\\_AMT3'\n",
       "\\item 'BILL\\_AMT4'\n",
       "\\item 'BILL\\_AMT5'\n",
       "\\item 'BILL\\_AMT6'\n",
       "\\item 'PAY\\_AMT1'\n",
       "\\item 'PAY\\_AMT2'\n",
       "\\item 'PAY\\_AMT3'\n",
       "\\item 'PAY\\_AMT4'\n",
       "\\item 'PAY\\_AMT5'\n",
       "\\item 'PAY\\_AMT6'\n",
       "\\item 'inadimplente'\n",
       "\\end{enumerate*}\n"
      ],
      "text/markdown": [
       "1. 'LIMIT_BAL'\n",
       "2. 'genero'\n",
       "3. 'escolaridade'\n",
       "4. 'estado_civil'\n",
       "5. 'idade'\n",
       "6. 'PAY_0'\n",
       "7. 'PAY_2'\n",
       "8. 'PAY_3'\n",
       "9. 'PAY_4'\n",
       "10. 'PAY_5'\n",
       "11. 'PAY_6'\n",
       "12. 'BILL_AMT1'\n",
       "13. 'BILL_AMT2'\n",
       "14. 'BILL_AMT3'\n",
       "15. 'BILL_AMT4'\n",
       "16. 'BILL_AMT5'\n",
       "17. 'BILL_AMT6'\n",
       "18. 'PAY_AMT1'\n",
       "19. 'PAY_AMT2'\n",
       "20. 'PAY_AMT3'\n",
       "21. 'PAY_AMT4'\n",
       "22. 'PAY_AMT5'\n",
       "23. 'PAY_AMT6'\n",
       "24. 'inadimplente'\n",
       "\n",
       "\n"
      ],
      "text/plain": [
       " [1] \"LIMIT_BAL\"    \"genero\"       \"escolaridade\" \"estado_civil\" \"idade\"       \n",
       " [6] \"PAY_0\"        \"PAY_2\"        \"PAY_3\"        \"PAY_4\"        \"PAY_5\"       \n",
       "[11] \"PAY_6\"        \"BILL_AMT1\"    \"BILL_AMT2\"    \"BILL_AMT3\"    \"BILL_AMT4\"   \n",
       "[16] \"BILL_AMT5\"    \"BILL_AMT6\"    \"PAY_AMT1\"     \"PAY_AMT2\"     \"PAY_AMT3\"    \n",
       "[21] \"PAY_AMT4\"     \"PAY_AMT5\"     \"PAY_AMT6\"     \"inadimplente\""
      ]
     },
     "metadata": {},
     "output_type": "display_data"
    }
   ],
   "source": [
    "# Renomeando colunas categóricas\n",
    "colnames(data)[2] ='genero'\n",
    "colnames(data)[3] ='escolaridade'\n",
    "colnames(data)[4] ='estado_civil'\n",
    "colnames(data)[5] ='idade'\n",
    "colnames(data)"
   ]
  },
  {
   "cell_type": "code",
   "execution_count": 11,
   "id": "killing-diary",
   "metadata": {},
   "outputs": [
    {
     "data": {
      "text/html": [
       "<dl class=dl-horizontal>\n",
       "\t<dt>Maculino</dt>\n",
       "\t\t<dd>11888</dd>\n",
       "\t<dt>Feminino</dt>\n",
       "\t\t<dd>18112</dd>\n",
       "</dl>\n"
      ],
      "text/latex": [
       "\\begin{description*}\n",
       "\\item[Maculino] 11888\n",
       "\\item[Feminino] 18112\n",
       "\\end{description*}\n"
      ],
      "text/markdown": [
       "Maculino\n",
       ":   11888Feminino\n",
       ":   18112\n",
       "\n"
      ],
      "text/plain": [
       "Maculino Feminino \n",
       "   11888    18112 "
      ]
     },
     "metadata": {},
     "output_type": "display_data"
    }
   ],
   "source": [
    "# Conveter variáveis numéricas em fatores (categóricas):\n",
    "# genero\n",
    "data$genero = cut(data$genero, c(0,1,2), labels=c('Maculino', 'Feminino'))\n",
    "summary(data$genero)"
   ]
  },
  {
   "cell_type": "code",
   "execution_count": 12,
   "id": "incorporate-lambda",
   "metadata": {},
   "outputs": [
    {
     "data": {
      "text/plain": [
       "   Min. 1st Qu.  Median    Mean 3rd Qu.    Max. \n",
       "  0.000   1.000   2.000   1.853   2.000   6.000 "
      ]
     },
     "metadata": {},
     "output_type": "display_data"
    }
   ],
   "source": [
    "summary(data$escolaridade)"
   ]
  },
  {
   "cell_type": "code",
   "execution_count": 13,
   "id": "roman-acrobat",
   "metadata": {},
   "outputs": [
    {
     "data": {
      "text/html": [
       "<dl class=dl-horizontal>\n",
       "\t<dt>Pos Graduado</dt>\n",
       "\t\t<dd>10585</dd>\n",
       "\t<dt>Graduado</dt>\n",
       "\t\t<dd>14030</dd>\n",
       "\t<dt>Ensino Médio</dt>\n",
       "\t\t<dd>4917</dd>\n",
       "\t<dt>Outros</dt>\n",
       "\t\t<dd>123</dd>\n",
       "\t<dt>NA's</dt>\n",
       "\t\t<dd>345</dd>\n",
       "</dl>\n"
      ],
      "text/latex": [
       "\\begin{description*}\n",
       "\\item[Pos Graduado] 10585\n",
       "\\item[Graduado] 14030\n",
       "\\item[Ensino Médio] 4917\n",
       "\\item[Outros] 123\n",
       "\\item[NA's] 345\n",
       "\\end{description*}\n"
      ],
      "text/markdown": [
       "Pos Graduado\n",
       ":   10585Graduado\n",
       ":   14030Ensino Médio\n",
       ":   4917Outros\n",
       ":   123NA's\n",
       ":   345\n",
       "\n"
      ],
      "text/plain": [
       "Pos Graduado     Graduado Ensino Médio       Outros         NA's \n",
       "       10585        14030         4917          123          345 "
      ]
     },
     "metadata": {},
     "output_type": "display_data"
    }
   ],
   "source": [
    "# escolaridade\n",
    "data$escolaridade = cut(data$escolaridade, c(0,1,2,3,4), labels=c('Pos Graduado', 'Graduado', 'Ensino Médio', 'Outros'))\n",
    "summary(data$escolaridade)"
   ]
  },
  {
   "cell_type": "code",
   "execution_count": 14,
   "id": "altered-advance",
   "metadata": {},
   "outputs": [
    {
     "data": {
      "text/html": [
       "<dl class=dl-horizontal>\n",
       "\t<dt>Desconhecido</dt>\n",
       "\t\t<dd>54</dd>\n",
       "\t<dt>Casado</dt>\n",
       "\t\t<dd>13659</dd>\n",
       "\t<dt>Solteiro</dt>\n",
       "\t\t<dd>15964</dd>\n",
       "\t<dt>Outros</dt>\n",
       "\t\t<dd>323</dd>\n",
       "</dl>\n"
      ],
      "text/latex": [
       "\\begin{description*}\n",
       "\\item[Desconhecido] 54\n",
       "\\item[Casado] 13659\n",
       "\\item[Solteiro] 15964\n",
       "\\item[Outros] 323\n",
       "\\end{description*}\n"
      ],
      "text/markdown": [
       "Desconhecido\n",
       ":   54Casado\n",
       ":   13659Solteiro\n",
       ":   15964Outros\n",
       ":   323\n",
       "\n"
      ],
      "text/plain": [
       "Desconhecido       Casado     Solteiro       Outros \n",
       "          54        13659        15964          323 "
      ]
     },
     "metadata": {},
     "output_type": "display_data"
    }
   ],
   "source": [
    "# estado_civil\n",
    "data$estado_civil = cut(data$estado_civil, c(-1,0,1,2,3), labels=c('Desconhecido', 'Casado', 'Solteiro', 'Outros'))\n",
    "summary(data$estado_civil)"
   ]
  },
  {
   "cell_type": "code",
   "execution_count": 15,
   "id": "affiliated-highlight",
   "metadata": {},
   "outputs": [
    {
     "data": {
      "text/plain": [
       "   Min. 1st Qu.  Median    Mean 3rd Qu.    Max. \n",
       "  21.00   28.00   34.00   35.49   41.00   79.00 "
      ]
     },
     "metadata": {},
     "output_type": "display_data"
    }
   ],
   "source": [
    "summary(data$idade)"
   ]
  },
  {
   "cell_type": "code",
   "execution_count": 16,
   "id": "ahead-keeping",
   "metadata": {},
   "outputs": [
    {
     "data": {
      "image/png": "[encoded data removed]",
      "text/plain": [
       "Plot with title \"Histogram of data$idade\""
      ]
     },
     "metadata": {},
     "output_type": "display_data"
    }
   ],
   "source": [
    "hist(data$idade)"
   ]
  },
  {
   "cell_type": "code",
   "execution_count": 17,
   "id": "presidential-cleaners",
   "metadata": {},
   "outputs": [
    {
     "data": {
      "text/html": [
       "<dl class=dl-horizontal>\n",
       "\t<dt>Jovem</dt>\n",
       "\t\t<dd>11013</dd>\n",
       "\t<dt>Adulto</dt>\n",
       "\t\t<dd>16718</dd>\n",
       "\t<dt>Idoso</dt>\n",
       "\t\t<dd>2269</dd>\n",
       "</dl>\n"
      ],
      "text/latex": [
       "\\begin{description*}\n",
       "\\item[Jovem] 11013\n",
       "\\item[Adulto] 16718\n",
       "\\item[Idoso] 2269\n",
       "\\end{description*}\n"
      ],
      "text/markdown": [
       "Jovem\n",
       ":   11013Adulto\n",
       ":   16718Idoso\n",
       ":   2269\n",
       "\n"
      ],
      "text/plain": [
       " Jovem Adulto  Idoso \n",
       " 11013  16718   2269 "
      ]
     },
     "metadata": {},
     "output_type": "display_data"
    }
   ],
   "source": [
    "# idade -> faixa etária\n",
    "data$idade = cut(data$idade, c(0,30,50,100), labels=c('Jovem', 'Adulto','Idoso'))\n",
    "summary(data$idade)"
   ]
  },
  {
   "cell_type": "code",
   "execution_count": 18,
   "id": "brief-speaking",
   "metadata": {},
   "outputs": [
    {
     "data": {
      "text/html": [
       "<table>\n",
       "<thead><tr><th scope=col>LIMIT_BAL</th><th scope=col>genero</th><th scope=col>escolaridade</th><th scope=col>estado_civil</th><th scope=col>idade</th><th scope=col>PAY_0</th><th scope=col>PAY_2</th><th scope=col>PAY_3</th><th scope=col>PAY_4</th><th scope=col>PAY_5</th><th scope=col>...</th><th scope=col>BILL_AMT4</th><th scope=col>BILL_AMT5</th><th scope=col>BILL_AMT6</th><th scope=col>PAY_AMT1</th><th scope=col>PAY_AMT2</th><th scope=col>PAY_AMT3</th><th scope=col>PAY_AMT4</th><th scope=col>PAY_AMT5</th><th scope=col>PAY_AMT6</th><th scope=col>inadimplente</th></tr></thead>\n",
       "<tbody>\n",
       "\t<tr><td> 20000      </td><td>Feminino    </td><td>Graduado    </td><td>Casado      </td><td>Jovem       </td><td> 2          </td><td> 2          </td><td>-1          </td><td>-1          </td><td>-2          </td><td>...         </td><td>     0      </td><td>     0      </td><td>     0      </td><td>    0       </td><td>  689       </td><td>    0       </td><td>    0       </td><td>    0       </td><td>    0       </td><td>1           </td></tr>\n",
       "\t<tr><td>120000      </td><td>Feminino    </td><td>Graduado    </td><td>Solteiro    </td><td>Jovem       </td><td>-1          </td><td> 2          </td><td> 0          </td><td> 0          </td><td> 0          </td><td>...         </td><td>  3272      </td><td>  3455      </td><td>  3261      </td><td>    0       </td><td> 1000       </td><td> 1000       </td><td> 1000       </td><td>    0       </td><td> 2000       </td><td>1           </td></tr>\n",
       "\t<tr><td> 90000      </td><td>Feminino    </td><td>Graduado    </td><td>Solteiro    </td><td>Adulto      </td><td> 0          </td><td> 0          </td><td> 0          </td><td> 0          </td><td> 0          </td><td>...         </td><td> 14331      </td><td> 14948      </td><td> 15549      </td><td> 1518       </td><td> 1500       </td><td> 1000       </td><td> 1000       </td><td> 1000       </td><td> 5000       </td><td>0           </td></tr>\n",
       "\t<tr><td> 50000      </td><td>Feminino    </td><td>Graduado    </td><td>Casado      </td><td>Adulto      </td><td> 0          </td><td> 0          </td><td> 0          </td><td> 0          </td><td> 0          </td><td>...         </td><td> 28314      </td><td> 28959      </td><td> 29547      </td><td> 2000       </td><td> 2019       </td><td> 1200       </td><td> 1100       </td><td> 1069       </td><td> 1000       </td><td>0           </td></tr>\n",
       "\t<tr><td> 50000      </td><td>Maculino    </td><td>Graduado    </td><td>Casado      </td><td>Idoso       </td><td>-1          </td><td> 0          </td><td>-1          </td><td> 0          </td><td> 0          </td><td>...         </td><td> 20940      </td><td> 19146      </td><td> 19131      </td><td> 2000       </td><td>36681       </td><td>10000       </td><td> 9000       </td><td>  689       </td><td>  679       </td><td>0           </td></tr>\n",
       "\t<tr><td> 50000      </td><td>Maculino    </td><td>Pos Graduado</td><td>Solteiro    </td><td>Adulto      </td><td> 0          </td><td> 0          </td><td> 0          </td><td> 0          </td><td> 0          </td><td>...         </td><td> 19394      </td><td> 19619      </td><td> 20024      </td><td> 2500       </td><td> 1815       </td><td>  657       </td><td> 1000       </td><td> 1000       </td><td>  800       </td><td>0           </td></tr>\n",
       "\t<tr><td>500000      </td><td>Maculino    </td><td>Pos Graduado</td><td>Solteiro    </td><td>Jovem       </td><td> 0          </td><td> 0          </td><td> 0          </td><td> 0          </td><td> 0          </td><td>...         </td><td>542653      </td><td>483003      </td><td>473944      </td><td>55000       </td><td>40000       </td><td>38000       </td><td>20239       </td><td>13750       </td><td>13770       </td><td>0           </td></tr>\n",
       "\t<tr><td>100000      </td><td>Feminino    </td><td>Graduado    </td><td>Solteiro    </td><td>Jovem       </td><td> 0          </td><td>-1          </td><td>-1          </td><td> 0          </td><td> 0          </td><td>...         </td><td>   221      </td><td>  -159      </td><td>   567      </td><td>  380       </td><td>  601       </td><td>    0       </td><td>  581       </td><td> 1687       </td><td> 1542       </td><td>0           </td></tr>\n",
       "\t<tr><td>140000      </td><td>Feminino    </td><td>Ensino Médio</td><td>Casado      </td><td>Jovem       </td><td> 0          </td><td> 0          </td><td> 2          </td><td> 0          </td><td> 0          </td><td>...         </td><td> 12211      </td><td> 11793      </td><td>  3719      </td><td> 3329       </td><td>    0       </td><td>  432       </td><td> 1000       </td><td> 1000       </td><td> 1000       </td><td>0           </td></tr>\n",
       "\t<tr><td> 20000      </td><td>Maculino    </td><td>Ensino Médio</td><td>Solteiro    </td><td>Adulto      </td><td>-2          </td><td>-2          </td><td>-2          </td><td>-2          </td><td>-1          </td><td>...         </td><td>     0      </td><td> 13007      </td><td> 13912      </td><td>    0       </td><td>    0       </td><td>    0       </td><td>13007       </td><td> 1122       </td><td>    0       </td><td>0           </td></tr>\n",
       "</tbody>\n",
       "</table>\n"
      ],
      "text/latex": [
       "\\begin{tabular}{r|llllllllllllllllllllllll}\n",
       " LIMIT\\_BAL & genero & escolaridade & estado\\_civil & idade & PAY\\_0 & PAY\\_2 & PAY\\_3 & PAY\\_4 & PAY\\_5 & ... & BILL\\_AMT4 & BILL\\_AMT5 & BILL\\_AMT6 & PAY\\_AMT1 & PAY\\_AMT2 & PAY\\_AMT3 & PAY\\_AMT4 & PAY\\_AMT5 & PAY\\_AMT6 & inadimplente\\\\\n",
       "\\hline\n",
       "\t  20000       & Feminino     & Graduado     & Casado       & Jovem        &  2           &  2           & -1           & -1           & -2           & ...          &      0       &      0       &      0       &     0        &   689        &     0        &     0        &     0        &     0        & 1           \\\\\n",
       "\t 120000       & Feminino     & Graduado     & Solteiro     & Jovem        & -1           &  2           &  0           &  0           &  0           & ...          &   3272       &   3455       &   3261       &     0        &  1000        &  1000        &  1000        &     0        &  2000        & 1           \\\\\n",
       "\t  90000       & Feminino     & Graduado     & Solteiro     & Adulto       &  0           &  0           &  0           &  0           &  0           & ...          &  14331       &  14948       &  15549       &  1518        &  1500        &  1000        &  1000        &  1000        &  5000        & 0           \\\\\n",
       "\t  50000       & Feminino     & Graduado     & Casado       & Adulto       &  0           &  0           &  0           &  0           &  0           & ...          &  28314       &  28959       &  29547       &  2000        &  2019        &  1200        &  1100        &  1069        &  1000        & 0           \\\\\n",
       "\t  50000       & Maculino     & Graduado     & Casado       & Idoso        & -1           &  0           & -1           &  0           &  0           & ...          &  20940       &  19146       &  19131       &  2000        & 36681        & 10000        &  9000        &   689        &   679        & 0           \\\\\n",
       "\t  50000       & Maculino     & Pos Graduado & Solteiro     & Adulto       &  0           &  0           &  0           &  0           &  0           & ...          &  19394       &  19619       &  20024       &  2500        &  1815        &   657        &  1000        &  1000        &   800        & 0           \\\\\n",
       "\t 500000       & Maculino     & Pos Graduado & Solteiro     & Jovem        &  0           &  0           &  0           &  0           &  0           & ...          & 542653       & 483003       & 473944       & 55000        & 40000        & 38000        & 20239        & 13750        & 13770        & 0           \\\\\n",
       "\t 100000       & Feminino     & Graduado     & Solteiro     & Jovem        &  0           & -1           & -1           &  0           &  0           & ...          &    221       &   -159       &    567       &   380        &   601        &     0        &   581        &  1687        &  1542        & 0           \\\\\n",
       "\t 140000       & Feminino     & Ensino Médio & Casado       & Jovem        &  0           &  0           &  2           &  0           &  0           & ...          &  12211       &  11793       &   3719       &  3329        &     0        &   432        &  1000        &  1000        &  1000        & 0           \\\\\n",
       "\t  20000       & Maculino     & Ensino Médio & Solteiro     & Adulto       & -2           & -2           & -2           & -2           & -1           & ...          &      0       &  13007       &  13912       &     0        &     0        &     0        & 13007        &  1122        &     0        & 0           \\\\\n",
       "\\end{tabular}\n"
      ],
      "text/markdown": [
       "\n",
       "| LIMIT_BAL | genero | escolaridade | estado_civil | idade | PAY_0 | PAY_2 | PAY_3 | PAY_4 | PAY_5 | ... | BILL_AMT4 | BILL_AMT5 | BILL_AMT6 | PAY_AMT1 | PAY_AMT2 | PAY_AMT3 | PAY_AMT4 | PAY_AMT5 | PAY_AMT6 | inadimplente |\n",
       "|---|---|---|---|---|---|---|---|---|---|---|---|---|---|---|---|---|---|---|---|---|\n",
       "|  20000       | Feminino     | Graduado     | Casado       | Jovem        |  2           |  2           | -1           | -1           | -2           | ...          |      0       |      0       |      0       |     0        |   689        |     0        |     0        |     0        |     0        | 1            |\n",
       "| 120000       | Feminino     | Graduado     | Solteiro     | Jovem        | -1           |  2           |  0           |  0           |  0           | ...          |   3272       |   3455       |   3261       |     0        |  1000        |  1000        |  1000        |     0        |  2000        | 1            |\n",
       "|  90000       | Feminino     | Graduado     | Solteiro     | Adulto       |  0           |  0           |  0           |  0           |  0           | ...          |  14331       |  14948       |  15549       |  1518        |  1500        |  1000        |  1000        |  1000        |  5000        | 0            |\n",
       "|  50000       | Feminino     | Graduado     | Casado       | Adulto       |  0           |  0           |  0           |  0           |  0           | ...          |  28314       |  28959       |  29547       |  2000        |  2019        |  1200        |  1100        |  1069        |  1000        | 0            |\n",
       "|  50000       | Maculino     | Graduado     | Casado       | Idoso        | -1           |  0           | -1           |  0           |  0           | ...          |  20940       |  19146       |  19131       |  2000        | 36681        | 10000        |  9000        |   689        |   679        | 0            |\n",
       "|  50000       | Maculino     | Pos Graduado | Solteiro     | Adulto       |  0           |  0           |  0           |  0           |  0           | ...          |  19394       |  19619       |  20024       |  2500        |  1815        |   657        |  1000        |  1000        |   800        | 0            |\n",
       "| 500000       | Maculino     | Pos Graduado | Solteiro     | Jovem        |  0           |  0           |  0           |  0           |  0           | ...          | 542653       | 483003       | 473944       | 55000        | 40000        | 38000        | 20239        | 13750        | 13770        | 0            |\n",
       "| 100000       | Feminino     | Graduado     | Solteiro     | Jovem        |  0           | -1           | -1           |  0           |  0           | ...          |    221       |   -159       |    567       |   380        |   601        |     0        |   581        |  1687        |  1542        | 0            |\n",
       "| 140000       | Feminino     | Ensino Médio | Casado       | Jovem        |  0           |  0           |  2           |  0           |  0           | ...          |  12211       |  11793       |   3719       |  3329        |     0        |   432        |  1000        |  1000        |  1000        | 0            |\n",
       "|  20000       | Maculino     | Ensino Médio | Solteiro     | Adulto       | -2           | -2           | -2           | -2           | -1           | ...          |      0       |  13007       |  13912       |     0        |     0        |     0        | 13007        |  1122        |     0        | 0            |\n",
       "\n"
      ],
      "text/plain": [
       "   LIMIT_BAL genero   escolaridade estado_civil idade  PAY_0 PAY_2 PAY_3 PAY_4\n",
       "1   20000    Feminino Graduado     Casado       Jovem   2     2    -1    -1   \n",
       "2  120000    Feminino Graduado     Solteiro     Jovem  -1     2     0     0   \n",
       "3   90000    Feminino Graduado     Solteiro     Adulto  0     0     0     0   \n",
       "4   50000    Feminino Graduado     Casado       Adulto  0     0     0     0   \n",
       "5   50000    Maculino Graduado     Casado       Idoso  -1     0    -1     0   \n",
       "6   50000    Maculino Pos Graduado Solteiro     Adulto  0     0     0     0   \n",
       "7  500000    Maculino Pos Graduado Solteiro     Jovem   0     0     0     0   \n",
       "8  100000    Feminino Graduado     Solteiro     Jovem   0    -1    -1     0   \n",
       "9  140000    Feminino Ensino Médio Casado       Jovem   0     0     2     0   \n",
       "10  20000    Maculino Ensino Médio Solteiro     Adulto -2    -2    -2    -2   \n",
       "   PAY_5 ... BILL_AMT4 BILL_AMT5 BILL_AMT6 PAY_AMT1 PAY_AMT2 PAY_AMT3 PAY_AMT4\n",
       "1  -2    ...      0         0         0        0      689        0        0   \n",
       "2   0    ...   3272      3455      3261        0     1000     1000     1000   \n",
       "3   0    ...  14331     14948     15549     1518     1500     1000     1000   \n",
       "4   0    ...  28314     28959     29547     2000     2019     1200     1100   \n",
       "5   0    ...  20940     19146     19131     2000    36681    10000     9000   \n",
       "6   0    ...  19394     19619     20024     2500     1815      657     1000   \n",
       "7   0    ... 542653    483003    473944    55000    40000    38000    20239   \n",
       "8   0    ...    221      -159       567      380      601        0      581   \n",
       "9   0    ...  12211     11793      3719     3329        0      432     1000   \n",
       "10 -1    ...      0     13007     13912        0        0        0    13007   \n",
       "   PAY_AMT5 PAY_AMT6 inadimplente\n",
       "1      0        0    1           \n",
       "2      0     2000    1           \n",
       "3   1000     5000    0           \n",
       "4   1069     1000    0           \n",
       "5    689      679    0           \n",
       "6   1000      800    0           \n",
       "7  13750    13770    0           \n",
       "8   1687     1542    0           \n",
       "9   1000     1000    0           \n",
       "10  1122        0    0           "
      ]
     },
     "metadata": {},
     "output_type": "display_data"
    }
   ],
   "source": [
    "head(data,10)"
   ]
  },
  {
   "cell_type": "code",
   "execution_count": 19,
   "id": "announced-england",
   "metadata": {},
   "outputs": [],
   "source": [
    "# Convertendo as demais variáveis por meio de as.factor, não é necessário mudar o valor da variável apenas o tipo \n",
    "data$PAY_0 = as.factor(data$PAY_0)\n",
    "data$PAY_2 = as.factor(data$PAY_2)\n",
    "data$PAY_3 = as.factor(data$PAY_3)\n",
    "data$PAY_4 = as.factor(data$PAY_4)\n",
    "data$PAY_5 = as.factor(data$PAY_5)\n",
    "data$PAY_6 = as.factor(data$PAY_6)"
   ]
  },
  {
   "cell_type": "code",
   "execution_count": 20,
   "id": "dirty-reform",
   "metadata": {},
   "outputs": [
    {
     "data": {
      "text/html": [
       "<table>\n",
       "<thead><tr><th scope=col>LIMIT_BAL</th><th scope=col>genero</th><th scope=col>escolaridade</th><th scope=col>estado_civil</th><th scope=col>idade</th><th scope=col>PAY_0</th><th scope=col>PAY_2</th><th scope=col>PAY_3</th><th scope=col>PAY_4</th><th scope=col>PAY_5</th><th scope=col>...</th><th scope=col>BILL_AMT4</th><th scope=col>BILL_AMT5</th><th scope=col>BILL_AMT6</th><th scope=col>PAY_AMT1</th><th scope=col>PAY_AMT2</th><th scope=col>PAY_AMT3</th><th scope=col>PAY_AMT4</th><th scope=col>PAY_AMT5</th><th scope=col>PAY_AMT6</th><th scope=col>inadimplente</th></tr></thead>\n",
       "<tbody>\n",
       "\t<tr><td> 20000      </td><td>Feminino    </td><td>Graduado    </td><td>Casado      </td><td>Jovem       </td><td>2           </td><td>2           </td><td>-1          </td><td>-1          </td><td>-2          </td><td>...         </td><td>     0      </td><td>     0      </td><td>     0      </td><td>    0       </td><td>  689       </td><td>    0       </td><td>    0       </td><td>    0       </td><td>    0       </td><td>1           </td></tr>\n",
       "\t<tr><td>120000      </td><td>Feminino    </td><td>Graduado    </td><td>Solteiro    </td><td>Jovem       </td><td>-1          </td><td>2           </td><td>0           </td><td>0           </td><td>0           </td><td>...         </td><td>  3272      </td><td>  3455      </td><td>  3261      </td><td>    0       </td><td> 1000       </td><td> 1000       </td><td> 1000       </td><td>    0       </td><td> 2000       </td><td>1           </td></tr>\n",
       "\t<tr><td> 90000      </td><td>Feminino    </td><td>Graduado    </td><td>Solteiro    </td><td>Adulto      </td><td>0           </td><td>0           </td><td>0           </td><td>0           </td><td>0           </td><td>...         </td><td> 14331      </td><td> 14948      </td><td> 15549      </td><td> 1518       </td><td> 1500       </td><td> 1000       </td><td> 1000       </td><td> 1000       </td><td> 5000       </td><td>0           </td></tr>\n",
       "\t<tr><td> 50000      </td><td>Feminino    </td><td>Graduado    </td><td>Casado      </td><td>Adulto      </td><td>0           </td><td>0           </td><td>0           </td><td>0           </td><td>0           </td><td>...         </td><td> 28314      </td><td> 28959      </td><td> 29547      </td><td> 2000       </td><td> 2019       </td><td> 1200       </td><td> 1100       </td><td> 1069       </td><td> 1000       </td><td>0           </td></tr>\n",
       "\t<tr><td> 50000      </td><td>Maculino    </td><td>Graduado    </td><td>Casado      </td><td>Idoso       </td><td>-1          </td><td>0           </td><td>-1          </td><td>0           </td><td>0           </td><td>...         </td><td> 20940      </td><td> 19146      </td><td> 19131      </td><td> 2000       </td><td>36681       </td><td>10000       </td><td> 9000       </td><td>  689       </td><td>  679       </td><td>0           </td></tr>\n",
       "\t<tr><td> 50000      </td><td>Maculino    </td><td>Pos Graduado</td><td>Solteiro    </td><td>Adulto      </td><td>0           </td><td>0           </td><td>0           </td><td>0           </td><td>0           </td><td>...         </td><td> 19394      </td><td> 19619      </td><td> 20024      </td><td> 2500       </td><td> 1815       </td><td>  657       </td><td> 1000       </td><td> 1000       </td><td>  800       </td><td>0           </td></tr>\n",
       "\t<tr><td>500000      </td><td>Maculino    </td><td>Pos Graduado</td><td>Solteiro    </td><td>Jovem       </td><td>0           </td><td>0           </td><td>0           </td><td>0           </td><td>0           </td><td>...         </td><td>542653      </td><td>483003      </td><td>473944      </td><td>55000       </td><td>40000       </td><td>38000       </td><td>20239       </td><td>13750       </td><td>13770       </td><td>0           </td></tr>\n",
       "\t<tr><td>100000      </td><td>Feminino    </td><td>Graduado    </td><td>Solteiro    </td><td>Jovem       </td><td>0           </td><td>-1          </td><td>-1          </td><td>0           </td><td>0           </td><td>...         </td><td>   221      </td><td>  -159      </td><td>   567      </td><td>  380       </td><td>  601       </td><td>    0       </td><td>  581       </td><td> 1687       </td><td> 1542       </td><td>0           </td></tr>\n",
       "\t<tr><td>140000      </td><td>Feminino    </td><td>Ensino Médio</td><td>Casado      </td><td>Jovem       </td><td>0           </td><td>0           </td><td>2           </td><td>0           </td><td>0           </td><td>...         </td><td> 12211      </td><td> 11793      </td><td>  3719      </td><td> 3329       </td><td>    0       </td><td>  432       </td><td> 1000       </td><td> 1000       </td><td> 1000       </td><td>0           </td></tr>\n",
       "\t<tr><td> 20000      </td><td>Maculino    </td><td>Ensino Médio</td><td>Solteiro    </td><td>Adulto      </td><td>-2          </td><td>-2          </td><td>-2          </td><td>-2          </td><td>-1          </td><td>...         </td><td>     0      </td><td> 13007      </td><td> 13912      </td><td>    0       </td><td>    0       </td><td>    0       </td><td>13007       </td><td> 1122       </td><td>    0       </td><td>0           </td></tr>\n",
       "</tbody>\n",
       "</table>\n"
      ],
      "text/latex": [
       "\\begin{tabular}{r|llllllllllllllllllllllll}\n",
       " LIMIT\\_BAL & genero & escolaridade & estado\\_civil & idade & PAY\\_0 & PAY\\_2 & PAY\\_3 & PAY\\_4 & PAY\\_5 & ... & BILL\\_AMT4 & BILL\\_AMT5 & BILL\\_AMT6 & PAY\\_AMT1 & PAY\\_AMT2 & PAY\\_AMT3 & PAY\\_AMT4 & PAY\\_AMT5 & PAY\\_AMT6 & inadimplente\\\\\n",
       "\\hline\n",
       "\t  20000       & Feminino     & Graduado     & Casado       & Jovem        & 2            & 2            & -1           & -1           & -2           & ...          &      0       &      0       &      0       &     0        &   689        &     0        &     0        &     0        &     0        & 1           \\\\\n",
       "\t 120000       & Feminino     & Graduado     & Solteiro     & Jovem        & -1           & 2            & 0            & 0            & 0            & ...          &   3272       &   3455       &   3261       &     0        &  1000        &  1000        &  1000        &     0        &  2000        & 1           \\\\\n",
       "\t  90000       & Feminino     & Graduado     & Solteiro     & Adulto       & 0            & 0            & 0            & 0            & 0            & ...          &  14331       &  14948       &  15549       &  1518        &  1500        &  1000        &  1000        &  1000        &  5000        & 0           \\\\\n",
       "\t  50000       & Feminino     & Graduado     & Casado       & Adulto       & 0            & 0            & 0            & 0            & 0            & ...          &  28314       &  28959       &  29547       &  2000        &  2019        &  1200        &  1100        &  1069        &  1000        & 0           \\\\\n",
       "\t  50000       & Maculino     & Graduado     & Casado       & Idoso        & -1           & 0            & -1           & 0            & 0            & ...          &  20940       &  19146       &  19131       &  2000        & 36681        & 10000        &  9000        &   689        &   679        & 0           \\\\\n",
       "\t  50000       & Maculino     & Pos Graduado & Solteiro     & Adulto       & 0            & 0            & 0            & 0            & 0            & ...          &  19394       &  19619       &  20024       &  2500        &  1815        &   657        &  1000        &  1000        &   800        & 0           \\\\\n",
       "\t 500000       & Maculino     & Pos Graduado & Solteiro     & Jovem        & 0            & 0            & 0            & 0            & 0            & ...          & 542653       & 483003       & 473944       & 55000        & 40000        & 38000        & 20239        & 13750        & 13770        & 0           \\\\\n",
       "\t 100000       & Feminino     & Graduado     & Solteiro     & Jovem        & 0            & -1           & -1           & 0            & 0            & ...          &    221       &   -159       &    567       &   380        &   601        &     0        &   581        &  1687        &  1542        & 0           \\\\\n",
       "\t 140000       & Feminino     & Ensino Médio & Casado       & Jovem        & 0            & 0            & 2            & 0            & 0            & ...          &  12211       &  11793       &   3719       &  3329        &     0        &   432        &  1000        &  1000        &  1000        & 0           \\\\\n",
       "\t  20000       & Maculino     & Ensino Médio & Solteiro     & Adulto       & -2           & -2           & -2           & -2           & -1           & ...          &      0       &  13007       &  13912       &     0        &     0        &     0        & 13007        &  1122        &     0        & 0           \\\\\n",
       "\\end{tabular}\n"
      ],
      "text/markdown": [
       "\n",
       "| LIMIT_BAL | genero | escolaridade | estado_civil | idade | PAY_0 | PAY_2 | PAY_3 | PAY_4 | PAY_5 | ... | BILL_AMT4 | BILL_AMT5 | BILL_AMT6 | PAY_AMT1 | PAY_AMT2 | PAY_AMT3 | PAY_AMT4 | PAY_AMT5 | PAY_AMT6 | inadimplente |\n",
       "|---|---|---|---|---|---|---|---|---|---|---|---|---|---|---|---|---|---|---|---|---|\n",
       "|  20000       | Feminino     | Graduado     | Casado       | Jovem        | 2            | 2            | -1           | -1           | -2           | ...          |      0       |      0       |      0       |     0        |   689        |     0        |     0        |     0        |     0        | 1            |\n",
       "| 120000       | Feminino     | Graduado     | Solteiro     | Jovem        | -1           | 2            | 0            | 0            | 0            | ...          |   3272       |   3455       |   3261       |     0        |  1000        |  1000        |  1000        |     0        |  2000        | 1            |\n",
       "|  90000       | Feminino     | Graduado     | Solteiro     | Adulto       | 0            | 0            | 0            | 0            | 0            | ...          |  14331       |  14948       |  15549       |  1518        |  1500        |  1000        |  1000        |  1000        |  5000        | 0            |\n",
       "|  50000       | Feminino     | Graduado     | Casado       | Adulto       | 0            | 0            | 0            | 0            | 0            | ...          |  28314       |  28959       |  29547       |  2000        |  2019        |  1200        |  1100        |  1069        |  1000        | 0            |\n",
       "|  50000       | Maculino     | Graduado     | Casado       | Idoso        | -1           | 0            | -1           | 0            | 0            | ...          |  20940       |  19146       |  19131       |  2000        | 36681        | 10000        |  9000        |   689        |   679        | 0            |\n",
       "|  50000       | Maculino     | Pos Graduado | Solteiro     | Adulto       | 0            | 0            | 0            | 0            | 0            | ...          |  19394       |  19619       |  20024       |  2500        |  1815        |   657        |  1000        |  1000        |   800        | 0            |\n",
       "| 500000       | Maculino     | Pos Graduado | Solteiro     | Jovem        | 0            | 0            | 0            | 0            | 0            | ...          | 542653       | 483003       | 473944       | 55000        | 40000        | 38000        | 20239        | 13750        | 13770        | 0            |\n",
       "| 100000       | Feminino     | Graduado     | Solteiro     | Jovem        | 0            | -1           | -1           | 0            | 0            | ...          |    221       |   -159       |    567       |   380        |   601        |     0        |   581        |  1687        |  1542        | 0            |\n",
       "| 140000       | Feminino     | Ensino Médio | Casado       | Jovem        | 0            | 0            | 2            | 0            | 0            | ...          |  12211       |  11793       |   3719       |  3329        |     0        |   432        |  1000        |  1000        |  1000        | 0            |\n",
       "|  20000       | Maculino     | Ensino Médio | Solteiro     | Adulto       | -2           | -2           | -2           | -2           | -1           | ...          |      0       |  13007       |  13912       |     0        |     0        |     0        | 13007        |  1122        |     0        | 0            |\n",
       "\n"
      ],
      "text/plain": [
       "   LIMIT_BAL genero   escolaridade estado_civil idade  PAY_0 PAY_2 PAY_3 PAY_4\n",
       "1   20000    Feminino Graduado     Casado       Jovem  2     2     -1    -1   \n",
       "2  120000    Feminino Graduado     Solteiro     Jovem  -1    2     0     0    \n",
       "3   90000    Feminino Graduado     Solteiro     Adulto 0     0     0     0    \n",
       "4   50000    Feminino Graduado     Casado       Adulto 0     0     0     0    \n",
       "5   50000    Maculino Graduado     Casado       Idoso  -1    0     -1    0    \n",
       "6   50000    Maculino Pos Graduado Solteiro     Adulto 0     0     0     0    \n",
       "7  500000    Maculino Pos Graduado Solteiro     Jovem  0     0     0     0    \n",
       "8  100000    Feminino Graduado     Solteiro     Jovem  0     -1    -1    0    \n",
       "9  140000    Feminino Ensino Médio Casado       Jovem  0     0     2     0    \n",
       "10  20000    Maculino Ensino Médio Solteiro     Adulto -2    -2    -2    -2   \n",
       "   PAY_5 ... BILL_AMT4 BILL_AMT5 BILL_AMT6 PAY_AMT1 PAY_AMT2 PAY_AMT3 PAY_AMT4\n",
       "1  -2    ...      0         0         0        0      689        0        0   \n",
       "2  0     ...   3272      3455      3261        0     1000     1000     1000   \n",
       "3  0     ...  14331     14948     15549     1518     1500     1000     1000   \n",
       "4  0     ...  28314     28959     29547     2000     2019     1200     1100   \n",
       "5  0     ...  20940     19146     19131     2000    36681    10000     9000   \n",
       "6  0     ...  19394     19619     20024     2500     1815      657     1000   \n",
       "7  0     ... 542653    483003    473944    55000    40000    38000    20239   \n",
       "8  0     ...    221      -159       567      380      601        0      581   \n",
       "9  0     ...  12211     11793      3719     3329        0      432     1000   \n",
       "10 -1    ...      0     13007     13912        0        0        0    13007   \n",
       "   PAY_AMT5 PAY_AMT6 inadimplente\n",
       "1      0        0    1           \n",
       "2      0     2000    1           \n",
       "3   1000     5000    0           \n",
       "4   1069     1000    0           \n",
       "5    689      679    0           \n",
       "6   1000      800    0           \n",
       "7  13750    13770    0           \n",
       "8   1687     1542    0           \n",
       "9   1000     1000    0           \n",
       "10  1122        0    0           "
      ]
     },
     "metadata": {},
     "output_type": "display_data"
    }
   ],
   "source": [
    "head(data,10)"
   ]
  },
  {
   "cell_type": "code",
   "execution_count": 21,
   "id": "fallen-giving",
   "metadata": {},
   "outputs": [
    {
     "name": "stdout",
     "output_type": "stream",
     "text": [
      "'data.frame':\t30000 obs. of  24 variables:\n",
      " $ LIMIT_BAL   : int  20000 120000 90000 50000 50000 50000 500000 100000 140000 20000 ...\n",
      " $ genero      : Factor w/ 2 levels \"Maculino\",\"Feminino\": 2 2 2 2 1 1 1 2 2 1 ...\n",
      " $ escolaridade: Factor w/ 4 levels \"Pos Graduado\",..: 2 2 2 2 2 1 1 2 3 3 ...\n",
      " $ estado_civil: Factor w/ 4 levels \"Desconhecido\",..: 2 3 3 2 2 3 3 3 2 3 ...\n",
      " $ idade       : Factor w/ 3 levels \"Jovem\",\"Adulto\",..: 1 1 2 2 3 2 1 1 1 2 ...\n",
      " $ PAY_0       : Factor w/ 11 levels \"-2\",\"-1\",\"0\",..: 5 2 3 3 2 3 3 3 3 1 ...\n",
      " $ PAY_2       : Factor w/ 11 levels \"-2\",\"-1\",\"0\",..: 5 5 3 3 3 3 3 2 3 1 ...\n",
      " $ PAY_3       : Factor w/ 11 levels \"-2\",\"-1\",\"0\",..: 2 3 3 3 2 3 3 2 5 1 ...\n",
      " $ PAY_4       : Factor w/ 11 levels \"-2\",\"-1\",\"0\",..: 2 3 3 3 3 3 3 3 3 1 ...\n",
      " $ PAY_5       : Factor w/ 10 levels \"-2\",\"-1\",\"0\",..: 1 3 3 3 3 3 3 3 3 2 ...\n",
      " $ PAY_6       : Factor w/ 10 levels \"-2\",\"-1\",\"0\",..: 1 4 3 3 3 3 3 2 3 2 ...\n",
      " $ BILL_AMT1   : int  3913 2682 29239 46990 8617 64400 367965 11876 11285 0 ...\n",
      " $ BILL_AMT2   : int  3102 1725 14027 48233 5670 57069 412023 380 14096 0 ...\n",
      " $ BILL_AMT3   : int  689 2682 13559 49291 35835 57608 445007 601 12108 0 ...\n",
      " $ BILL_AMT4   : int  0 3272 14331 28314 20940 19394 542653 221 12211 0 ...\n",
      " $ BILL_AMT5   : int  0 3455 14948 28959 19146 19619 483003 -159 11793 13007 ...\n",
      " $ BILL_AMT6   : int  0 3261 15549 29547 19131 20024 473944 567 3719 13912 ...\n",
      " $ PAY_AMT1    : int  0 0 1518 2000 2000 2500 55000 380 3329 0 ...\n",
      " $ PAY_AMT2    : int  689 1000 1500 2019 36681 1815 40000 601 0 0 ...\n",
      " $ PAY_AMT3    : int  0 1000 1000 1200 10000 657 38000 0 432 0 ...\n",
      " $ PAY_AMT4    : int  0 1000 1000 1100 9000 1000 20239 581 1000 13007 ...\n",
      " $ PAY_AMT5    : int  0 0 1000 1069 689 1000 13750 1687 1000 1122 ...\n",
      " $ PAY_AMT6    : int  0 2000 5000 1000 679 800 13770 1542 1000 0 ...\n",
      " $ inadimplente: int  1 1 0 0 0 0 0 0 0 0 ...\n"
     ]
    }
   ],
   "source": [
    "str(data)"
   ]
  },
  {
   "cell_type": "code",
   "execution_count": 22,
   "id": "rocky-senior",
   "metadata": {},
   "outputs": [
    {
     "data": {
      "text/html": [
       "<dl class=dl-horizontal>\n",
       "\t<dt>LIMIT_BAL</dt>\n",
       "\t\t<dd>0</dd>\n",
       "\t<dt>genero</dt>\n",
       "\t\t<dd>0</dd>\n",
       "\t<dt>escolaridade</dt>\n",
       "\t\t<dd>345</dd>\n",
       "\t<dt>estado_civil</dt>\n",
       "\t\t<dd>0</dd>\n",
       "\t<dt>idade</dt>\n",
       "\t\t<dd>0</dd>\n",
       "\t<dt>PAY_0</dt>\n",
       "\t\t<dd>0</dd>\n",
       "\t<dt>PAY_2</dt>\n",
       "\t\t<dd>0</dd>\n",
       "\t<dt>PAY_3</dt>\n",
       "\t\t<dd>0</dd>\n",
       "\t<dt>PAY_4</dt>\n",
       "\t\t<dd>0</dd>\n",
       "\t<dt>PAY_5</dt>\n",
       "\t\t<dd>0</dd>\n",
       "\t<dt>PAY_6</dt>\n",
       "\t\t<dd>0</dd>\n",
       "\t<dt>BILL_AMT1</dt>\n",
       "\t\t<dd>0</dd>\n",
       "\t<dt>BILL_AMT2</dt>\n",
       "\t\t<dd>0</dd>\n",
       "\t<dt>BILL_AMT3</dt>\n",
       "\t\t<dd>0</dd>\n",
       "\t<dt>BILL_AMT4</dt>\n",
       "\t\t<dd>0</dd>\n",
       "\t<dt>BILL_AMT5</dt>\n",
       "\t\t<dd>0</dd>\n",
       "\t<dt>BILL_AMT6</dt>\n",
       "\t\t<dd>0</dd>\n",
       "\t<dt>PAY_AMT1</dt>\n",
       "\t\t<dd>0</dd>\n",
       "\t<dt>PAY_AMT2</dt>\n",
       "\t\t<dd>0</dd>\n",
       "\t<dt>PAY_AMT3</dt>\n",
       "\t\t<dd>0</dd>\n",
       "\t<dt>PAY_AMT4</dt>\n",
       "\t\t<dd>0</dd>\n",
       "\t<dt>PAY_AMT5</dt>\n",
       "\t\t<dd>0</dd>\n",
       "\t<dt>PAY_AMT6</dt>\n",
       "\t\t<dd>0</dd>\n",
       "\t<dt>inadimplente</dt>\n",
       "\t\t<dd>0</dd>\n",
       "</dl>\n"
      ],
      "text/latex": [
       "\\begin{description*}\n",
       "\\item[LIMIT\\textbackslash{}\\_BAL] 0\n",
       "\\item[genero] 0\n",
       "\\item[escolaridade] 345\n",
       "\\item[estado\\textbackslash{}\\_civil] 0\n",
       "\\item[idade] 0\n",
       "\\item[PAY\\textbackslash{}\\_0] 0\n",
       "\\item[PAY\\textbackslash{}\\_2] 0\n",
       "\\item[PAY\\textbackslash{}\\_3] 0\n",
       "\\item[PAY\\textbackslash{}\\_4] 0\n",
       "\\item[PAY\\textbackslash{}\\_5] 0\n",
       "\\item[PAY\\textbackslash{}\\_6] 0\n",
       "\\item[BILL\\textbackslash{}\\_AMT1] 0\n",
       "\\item[BILL\\textbackslash{}\\_AMT2] 0\n",
       "\\item[BILL\\textbackslash{}\\_AMT3] 0\n",
       "\\item[BILL\\textbackslash{}\\_AMT4] 0\n",
       "\\item[BILL\\textbackslash{}\\_AMT5] 0\n",
       "\\item[BILL\\textbackslash{}\\_AMT6] 0\n",
       "\\item[PAY\\textbackslash{}\\_AMT1] 0\n",
       "\\item[PAY\\textbackslash{}\\_AMT2] 0\n",
       "\\item[PAY\\textbackslash{}\\_AMT3] 0\n",
       "\\item[PAY\\textbackslash{}\\_AMT4] 0\n",
       "\\item[PAY\\textbackslash{}\\_AMT5] 0\n",
       "\\item[PAY\\textbackslash{}\\_AMT6] 0\n",
       "\\item[inadimplente] 0\n",
       "\\end{description*}\n"
      ],
      "text/markdown": [
       "LIMIT_BAL\n",
       ":   0genero\n",
       ":   0escolaridade\n",
       ":   345estado_civil\n",
       ":   0idade\n",
       ":   0PAY_0\n",
       ":   0PAY_2\n",
       ":   0PAY_3\n",
       ":   0PAY_4\n",
       ":   0PAY_5\n",
       ":   0PAY_6\n",
       ":   0BILL_AMT1\n",
       ":   0BILL_AMT2\n",
       ":   0BILL_AMT3\n",
       ":   0BILL_AMT4\n",
       ":   0BILL_AMT5\n",
       ":   0BILL_AMT6\n",
       ":   0PAY_AMT1\n",
       ":   0PAY_AMT2\n",
       ":   0PAY_AMT3\n",
       ":   0PAY_AMT4\n",
       ":   0PAY_AMT5\n",
       ":   0PAY_AMT6\n",
       ":   0inadimplente\n",
       ":   0\n",
       "\n"
      ],
      "text/plain": [
       "   LIMIT_BAL       genero escolaridade estado_civil        idade        PAY_0 \n",
       "           0            0          345            0            0            0 \n",
       "       PAY_2        PAY_3        PAY_4        PAY_5        PAY_6    BILL_AMT1 \n",
       "           0            0            0            0            0            0 \n",
       "   BILL_AMT2    BILL_AMT3    BILL_AMT4    BILL_AMT5    BILL_AMT6     PAY_AMT1 \n",
       "           0            0            0            0            0            0 \n",
       "    PAY_AMT2     PAY_AMT3     PAY_AMT4     PAY_AMT5     PAY_AMT6 inadimplente \n",
       "           0            0            0            0            0            0 "
      ]
     },
     "metadata": {},
     "output_type": "display_data"
    }
   ],
   "source": [
    "sapply(data, function(x) sum(is.na(x)))"
   ]
  },
  {
   "cell_type": "code",
   "execution_count": 23,
   "id": "related-memorabilia",
   "metadata": {},
   "outputs": [
    {
     "data": {
      "image/png": "[encoded data removed]",
      "text/plain": [
       "Plot with title \"Valores Missing Observados\""
      ]
     },
     "metadata": {},
     "output_type": "display_data"
    }
   ],
   "source": [
    "missmap(data, main=\"Valores Missing Observados\")"
   ]
  },
  {
   "cell_type": "code",
   "execution_count": 24,
   "id": "dying-recycling",
   "metadata": {},
   "outputs": [],
   "source": [
    "# Excluindo valores missing\n",
    "data = na.omit(data)"
   ]
  },
  {
   "cell_type": "code",
   "execution_count": 25,
   "id": "medieval-presence",
   "metadata": {},
   "outputs": [
    {
     "data": {
      "text/html": [
       "<dl class=dl-horizontal>\n",
       "\t<dt>LIMIT_BAL</dt>\n",
       "\t\t<dd>0</dd>\n",
       "\t<dt>genero</dt>\n",
       "\t\t<dd>0</dd>\n",
       "\t<dt>escolaridade</dt>\n",
       "\t\t<dd>0</dd>\n",
       "\t<dt>estado_civil</dt>\n",
       "\t\t<dd>0</dd>\n",
       "\t<dt>idade</dt>\n",
       "\t\t<dd>0</dd>\n",
       "\t<dt>PAY_0</dt>\n",
       "\t\t<dd>0</dd>\n",
       "\t<dt>PAY_2</dt>\n",
       "\t\t<dd>0</dd>\n",
       "\t<dt>PAY_3</dt>\n",
       "\t\t<dd>0</dd>\n",
       "\t<dt>PAY_4</dt>\n",
       "\t\t<dd>0</dd>\n",
       "\t<dt>PAY_5</dt>\n",
       "\t\t<dd>0</dd>\n",
       "\t<dt>PAY_6</dt>\n",
       "\t\t<dd>0</dd>\n",
       "\t<dt>BILL_AMT1</dt>\n",
       "\t\t<dd>0</dd>\n",
       "\t<dt>BILL_AMT2</dt>\n",
       "\t\t<dd>0</dd>\n",
       "\t<dt>BILL_AMT3</dt>\n",
       "\t\t<dd>0</dd>\n",
       "\t<dt>BILL_AMT4</dt>\n",
       "\t\t<dd>0</dd>\n",
       "\t<dt>BILL_AMT5</dt>\n",
       "\t\t<dd>0</dd>\n",
       "\t<dt>BILL_AMT6</dt>\n",
       "\t\t<dd>0</dd>\n",
       "\t<dt>PAY_AMT1</dt>\n",
       "\t\t<dd>0</dd>\n",
       "\t<dt>PAY_AMT2</dt>\n",
       "\t\t<dd>0</dd>\n",
       "\t<dt>PAY_AMT3</dt>\n",
       "\t\t<dd>0</dd>\n",
       "\t<dt>PAY_AMT4</dt>\n",
       "\t\t<dd>0</dd>\n",
       "\t<dt>PAY_AMT5</dt>\n",
       "\t\t<dd>0</dd>\n",
       "\t<dt>PAY_AMT6</dt>\n",
       "\t\t<dd>0</dd>\n",
       "\t<dt>inadimplente</dt>\n",
       "\t\t<dd>0</dd>\n",
       "</dl>\n"
      ],
      "text/latex": [
       "\\begin{description*}\n",
       "\\item[LIMIT\\textbackslash{}\\_BAL] 0\n",
       "\\item[genero] 0\n",
       "\\item[escolaridade] 0\n",
       "\\item[estado\\textbackslash{}\\_civil] 0\n",
       "\\item[idade] 0\n",
       "\\item[PAY\\textbackslash{}\\_0] 0\n",
       "\\item[PAY\\textbackslash{}\\_2] 0\n",
       "\\item[PAY\\textbackslash{}\\_3] 0\n",
       "\\item[PAY\\textbackslash{}\\_4] 0\n",
       "\\item[PAY\\textbackslash{}\\_5] 0\n",
       "\\item[PAY\\textbackslash{}\\_6] 0\n",
       "\\item[BILL\\textbackslash{}\\_AMT1] 0\n",
       "\\item[BILL\\textbackslash{}\\_AMT2] 0\n",
       "\\item[BILL\\textbackslash{}\\_AMT3] 0\n",
       "\\item[BILL\\textbackslash{}\\_AMT4] 0\n",
       "\\item[BILL\\textbackslash{}\\_AMT5] 0\n",
       "\\item[BILL\\textbackslash{}\\_AMT6] 0\n",
       "\\item[PAY\\textbackslash{}\\_AMT1] 0\n",
       "\\item[PAY\\textbackslash{}\\_AMT2] 0\n",
       "\\item[PAY\\textbackslash{}\\_AMT3] 0\n",
       "\\item[PAY\\textbackslash{}\\_AMT4] 0\n",
       "\\item[PAY\\textbackslash{}\\_AMT5] 0\n",
       "\\item[PAY\\textbackslash{}\\_AMT6] 0\n",
       "\\item[inadimplente] 0\n",
       "\\end{description*}\n"
      ],
      "text/markdown": [
       "LIMIT_BAL\n",
       ":   0genero\n",
       ":   0escolaridade\n",
       ":   0estado_civil\n",
       ":   0idade\n",
       ":   0PAY_0\n",
       ":   0PAY_2\n",
       ":   0PAY_3\n",
       ":   0PAY_4\n",
       ":   0PAY_5\n",
       ":   0PAY_6\n",
       ":   0BILL_AMT1\n",
       ":   0BILL_AMT2\n",
       ":   0BILL_AMT3\n",
       ":   0BILL_AMT4\n",
       ":   0BILL_AMT5\n",
       ":   0BILL_AMT6\n",
       ":   0PAY_AMT1\n",
       ":   0PAY_AMT2\n",
       ":   0PAY_AMT3\n",
       ":   0PAY_AMT4\n",
       ":   0PAY_AMT5\n",
       ":   0PAY_AMT6\n",
       ":   0inadimplente\n",
       ":   0\n",
       "\n"
      ],
      "text/plain": [
       "   LIMIT_BAL       genero escolaridade estado_civil        idade        PAY_0 \n",
       "           0            0            0            0            0            0 \n",
       "       PAY_2        PAY_3        PAY_4        PAY_5        PAY_6    BILL_AMT1 \n",
       "           0            0            0            0            0            0 \n",
       "   BILL_AMT2    BILL_AMT3    BILL_AMT4    BILL_AMT5    BILL_AMT6     PAY_AMT1 \n",
       "           0            0            0            0            0            0 \n",
       "    PAY_AMT2     PAY_AMT3     PAY_AMT4     PAY_AMT5     PAY_AMT6 inadimplente \n",
       "           0            0            0            0            0            0 "
      ]
     },
     "metadata": {},
     "output_type": "display_data"
    }
   ],
   "source": [
    "sapply(data, function(x) sum(is.na(x)))"
   ]
  },
  {
   "cell_type": "code",
   "execution_count": 26,
   "id": "photographic-bargain",
   "metadata": {},
   "outputs": [
    {
     "data": {
      "text/html": [
       "<ol class=list-inline>\n",
       "\t<li>29655</li>\n",
       "\t<li>24</li>\n",
       "</ol>\n"
      ],
      "text/latex": [
       "\\begin{enumerate*}\n",
       "\\item 29655\n",
       "\\item 24\n",
       "\\end{enumerate*}\n"
      ],
      "text/markdown": [
       "1. 29655\n",
       "2. 24\n",
       "\n",
       "\n"
      ],
      "text/plain": [
       "[1] 29655    24"
      ]
     },
     "metadata": {},
     "output_type": "display_data"
    }
   ],
   "source": [
    "dim(data)"
   ]
  },
  {
   "cell_type": "code",
   "execution_count": 27,
   "id": "willing-paris",
   "metadata": {},
   "outputs": [
    {
     "name": "stdout",
     "output_type": "stream",
     "text": [
      " int [1:29655] 1 1 0 0 0 0 0 0 0 0 ...\n"
     ]
    }
   ],
   "source": [
    "# Transformando a variável dependente\n",
    "str(data$inadimplente)"
   ]
  },
  {
   "cell_type": "code",
   "execution_count": 28,
   "id": "white-ordinance",
   "metadata": {},
   "outputs": [],
   "source": [
    "data$inadimplente = as.factor(data$inadimplente)"
   ]
  },
  {
   "cell_type": "code",
   "execution_count": 29,
   "id": "searching-respect",
   "metadata": {},
   "outputs": [
    {
     "name": "stdout",
     "output_type": "stream",
     "text": [
      " Factor w/ 2 levels \"0\",\"1\": 2 2 1 1 1 1 1 1 1 1 ...\n"
     ]
    }
   ],
   "source": [
    "str(data$inadimplente)"
   ]
  },
  {
   "cell_type": "code",
   "execution_count": 30,
   "id": "willing-daughter",
   "metadata": {},
   "outputs": [
    {
     "data": {
      "text/plain": [
       "\n",
       "    0     1 \n",
       "23045  6610 "
      ]
     },
     "metadata": {},
     "output_type": "display_data"
    }
   ],
   "source": [
    "table(data$inadimplente)"
   ]
  },
  {
   "cell_type": "code",
   "execution_count": 31,
   "id": "motivated-thumb",
   "metadata": {},
   "outputs": [
    {
     "data": {
      "text/plain": [
       "\n",
       "        0         1 \n",
       "0.7771034 0.2228966 "
      ]
     },
     "metadata": {},
     "output_type": "display_data"
    }
   ],
   "source": [
    "prop.table(table(data$inadimplente))"
   ]
  },
  {
   "cell_type": "code",
   "execution_count": 32,
   "id": "removable-drama",
   "metadata": {},
   "outputs": [
    {
     "data": {
      "image/png": "[encoded data removed]",
      "text/plain": [
       "plot without title"
      ]
     },
     "metadata": {},
     "output_type": "display_data"
    }
   ],
   "source": [
    "# Plot da distribuição usando ggplot2\n",
    "qplot(inadimplente, data=data, geom=\"bar\")+\n",
    "    theme(axis.text.x = element_text(angle=90,hjust=''))"
   ]
  },
  {
   "cell_type": "code",
   "execution_count": 33,
   "id": "suspected-circus",
   "metadata": {},
   "outputs": [
    {
     "data": {
      "text/html": [
       "<ol class=list-inline>\n",
       "\t<li>22242</li>\n",
       "\t<li>1</li>\n",
       "</ol>\n"
      ],
      "text/latex": [
       "\\begin{enumerate*}\n",
       "\\item 22242\n",
       "\\item 1\n",
       "\\end{enumerate*}\n"
      ],
      "text/markdown": [
       "1. 22242\n",
       "2. 1\n",
       "\n",
       "\n"
      ],
      "text/plain": [
       "[1] 22242     1"
      ]
     },
     "metadata": {},
     "output_type": "display_data"
    }
   ],
   "source": [
    "# Amostra estratificada\n",
    "indice = createDataPartition(data$inadimplente, p=0.75, list=FALSE)\n",
    "dim(indice)"
   ]
  },
  {
   "cell_type": "code",
   "execution_count": 34,
   "id": "confused-engagement",
   "metadata": {},
   "outputs": [
    {
     "data": {
      "text/plain": [
       "\n",
       "    0     1 \n",
       "17284  4958 "
      ]
     },
     "metadata": {},
     "output_type": "display_data"
    }
   ],
   "source": [
    "# Definindo dados de treino\n",
    "data_treino = data[indice,]\n",
    "table(data_treino$inadimplente)"
   ]
  },
  {
   "cell_type": "code",
   "execution_count": 35,
   "id": "adaptive-photographer",
   "metadata": {},
   "outputs": [
    {
     "data": {
      "text/plain": [
       "\n",
       "        0         1 \n",
       "0.7770884 0.2229116 "
      ]
     },
     "metadata": {},
     "output_type": "display_data"
    }
   ],
   "source": [
    "prop.table(table(data_treino$inadimplente))"
   ]
  },
  {
   "cell_type": "code",
   "execution_count": 36,
   "id": "closed-january",
   "metadata": {},
   "outputs": [],
   "source": [
    "# Comparando dados\n",
    "compara_data = cbind(prop.table(table(data_treino$inadimplente)),\n",
    "                    prop.table(table(data$inadimplente)))"
   ]
  },
  {
   "cell_type": "code",
   "execution_count": 37,
   "id": "mounted-saint",
   "metadata": {},
   "outputs": [
    {
     "data": {
      "text/html": [
       "<table>\n",
       "<thead><tr><th></th><th scope=col>Treinamento</th><th scope=col>Original</th></tr></thead>\n",
       "<tbody>\n",
       "\t<tr><th scope=row>0</th><td>0.7770884</td><td>0.7771034</td></tr>\n",
       "\t<tr><th scope=row>1</th><td>0.2229116</td><td>0.2228966</td></tr>\n",
       "</tbody>\n",
       "</table>\n"
      ],
      "text/latex": [
       "\\begin{tabular}{r|ll}\n",
       "  & Treinamento & Original\\\\\n",
       "\\hline\n",
       "\t0 & 0.7770884 & 0.7771034\\\\\n",
       "\t1 & 0.2229116 & 0.2228966\\\\\n",
       "\\end{tabular}\n"
      ],
      "text/markdown": [
       "\n",
       "| <!--/--> | Treinamento | Original |\n",
       "|---|---|---|\n",
       "| 0 | 0.7770884 | 0.7771034 |\n",
       "| 1 | 0.2229116 | 0.2228966 |\n",
       "\n"
      ],
      "text/plain": [
       "  Treinamento Original \n",
       "0 0.7770884   0.7771034\n",
       "1 0.2229116   0.2228966"
      ]
     },
     "metadata": {},
     "output_type": "display_data"
    }
   ],
   "source": [
    "colnames(compara_data) = c(\"Treinamento\", \"Original\")\n",
    "compara_data"
   ]
  },
  {
   "cell_type": "code",
   "execution_count": 38,
   "id": "toxic-starter",
   "metadata": {},
   "outputs": [
    {
     "data": {
      "text/html": [
       "<table>\n",
       "<thead><tr><th scope=col>X1</th><th scope=col>X2</th><th scope=col>value</th></tr></thead>\n",
       "<tbody>\n",
       "\t<tr><td>0          </td><td>Treinamento</td><td>0.7770884  </td></tr>\n",
       "\t<tr><td>1          </td><td>Treinamento</td><td>0.2229116  </td></tr>\n",
       "\t<tr><td>0          </td><td>Original   </td><td>0.7771034  </td></tr>\n",
       "\t<tr><td>1          </td><td>Original   </td><td>0.2228966  </td></tr>\n",
       "</tbody>\n",
       "</table>\n"
      ],
      "text/latex": [
       "\\begin{tabular}{r|lll}\n",
       " X1 & X2 & value\\\\\n",
       "\\hline\n",
       "\t 0           & Treinamento & 0.7770884  \\\\\n",
       "\t 1           & Treinamento & 0.2229116  \\\\\n",
       "\t 0           & Original    & 0.7771034  \\\\\n",
       "\t 1           & Original    & 0.2228966  \\\\\n",
       "\\end{tabular}\n"
      ],
      "text/markdown": [
       "\n",
       "| X1 | X2 | value |\n",
       "|---|---|---|\n",
       "| 0           | Treinamento | 0.7770884   |\n",
       "| 1           | Treinamento | 0.2229116   |\n",
       "| 0           | Original    | 0.7771034   |\n",
       "| 1           | Original    | 0.2228966   |\n",
       "\n"
      ],
      "text/plain": [
       "  X1 X2          value    \n",
       "1 0  Treinamento 0.7770884\n",
       "2 1  Treinamento 0.2229116\n",
       "3 0  Original    0.7771034\n",
       "4 1  Original    0.2228966"
      ]
     },
     "metadata": {},
     "output_type": "display_data"
    }
   ],
   "source": [
    "# Melt Data\n",
    "melt = melt(compara_data)\n",
    "melt"
   ]
  },
  {
   "cell_type": "code",
   "execution_count": 39,
   "id": "champion-cursor",
   "metadata": {},
   "outputs": [
    {
     "data": {
      "image/png": "[encoded data removed]",
      "text/plain": [
       "plot without title"
      ]
     },
     "metadata": {},
     "output_type": "display_data"
    }
   ],
   "source": [
    "# Gráfico\n",
    "ggplot(melt, aes(x=X1, y=value))+\n",
    "    geom_bar(aes(fill=X2), stat=\"identity\", position=\"dodge\")+\n",
    "    theme(axis.text.x=element_text(angle=90,hjust=1))"
   ]
  },
  {
   "cell_type": "code",
   "execution_count": 40,
   "id": "false-apparatus",
   "metadata": {},
   "outputs": [
    {
     "data": {
      "text/html": [
       "<ol class=list-inline>\n",
       "\t<li>22242</li>\n",
       "\t<li>24</li>\n",
       "</ol>\n"
      ],
      "text/latex": [
       "\\begin{enumerate*}\n",
       "\\item 22242\n",
       "\\item 24\n",
       "\\end{enumerate*}\n"
      ],
      "text/markdown": [
       "1. 22242\n",
       "2. 24\n",
       "\n",
       "\n"
      ],
      "text/plain": [
       "[1] 22242    24"
      ]
     },
     "metadata": {},
     "output_type": "display_data"
    },
    {
     "data": {
      "text/html": [
       "<ol class=list-inline>\n",
       "\t<li>7413</li>\n",
       "\t<li>24</li>\n",
       "</ol>\n"
      ],
      "text/latex": [
       "\\begin{enumerate*}\n",
       "\\item 7413\n",
       "\\item 24\n",
       "\\end{enumerate*}\n"
      ],
      "text/markdown": [
       "1. 7413\n",
       "2. 24\n",
       "\n",
       "\n"
      ],
      "text/plain": [
       "[1] 7413   24"
      ]
     },
     "metadata": {},
     "output_type": "display_data"
    }
   ],
   "source": [
    "data_test = data[-indice,]\n",
    "dim(data_treino)\n",
    "dim(data_test)"
   ]
  },
  {
   "cell_type": "markdown",
   "id": "alike-lightning",
   "metadata": {},
   "source": [
    "# Construção dos modelos\n",
    "---"
   ]
  },
  {
   "cell_type": "code",
   "execution_count": 41,
   "id": "cooked-michigan",
   "metadata": {},
   "outputs": [
    {
     "data": {
      "text/plain": [
       "\n",
       "Call:\n",
       " randomForest(formula = inadimplente ~ ., data = data_treino) \n",
       "               Type of random forest: classification\n",
       "                     Number of trees: 500\n",
       "No. of variables tried at each split: 4\n",
       "\n",
       "        OOB estimate of  error rate: 18.62%\n",
       "Confusion matrix:\n",
       "      0    1 class.error\n",
       "0 16322  962  0.05565841\n",
       "1  3180 1778  0.64138766"
      ]
     },
     "metadata": {},
     "output_type": "display_data"
    }
   ],
   "source": [
    "# Primeira versão: RandomForest (arvore de decisão, classificação)\n",
    "modelo_v1 = randomForest(inadimplente ~ ., data=data_treino)\n",
    "modelo_v1 "
   ]
  },
  {
   "cell_type": "code",
   "execution_count": 42,
   "id": "terminal-pound",
   "metadata": {},
   "outputs": [
    {
     "data": {
      "image/png": "[encoded data removed]",
      "text/plain": [
       "Plot with title \"modelo_v1\""
      ]
     },
     "metadata": {},
     "output_type": "display_data"
    }
   ],
   "source": [
    "# Avaliação do modelo\n",
    "plot(modelo_v1)"
   ]
  },
  {
   "cell_type": "code",
   "execution_count": 43,
   "id": "perceived-webcam",
   "metadata": {},
   "outputs": [],
   "source": [
    "previsoes_v1 = predict(modelo_v1, data_test)"
   ]
  },
  {
   "cell_type": "code",
   "execution_count": 44,
   "id": "prerequisite-sigma",
   "metadata": {},
   "outputs": [
    {
     "data": {
      "text/plain": [
       "Confusion Matrix and Statistics\n",
       "\n",
       "          Reference\n",
       "Prediction    0    1\n",
       "         0 5451 1027\n",
       "         1  310  625\n",
       "                                          \n",
       "               Accuracy : 0.8196          \n",
       "                 95% CI : (0.8107, 0.8283)\n",
       "    No Information Rate : 0.7771          \n",
       "    P-Value [Acc > NIR] : < 2.2e-16       \n",
       "                                          \n",
       "                  Kappa : 0.3839          \n",
       "                                          \n",
       " Mcnemar's Test P-Value : < 2.2e-16       \n",
       "                                          \n",
       "            Sensitivity : 0.37833         \n",
       "            Specificity : 0.94619         \n",
       "         Pos Pred Value : 0.66845         \n",
       "         Neg Pred Value : 0.84146         \n",
       "             Prevalence : 0.22285         \n",
       "         Detection Rate : 0.08431         \n",
       "   Detection Prevalence : 0.12613         \n",
       "      Balanced Accuracy : 0.66226         \n",
       "                                          \n",
       "       'Positive' Class : 1               \n",
       "                                          "
      ]
     },
     "metadata": {},
     "output_type": "display_data"
    }
   ],
   "source": [
    "#Confusion Matrix\n",
    "cm_v1 = caret::confusionMatrix(previsoes_v1, data_test$inadimplente, positive=\"1\")\n",
    "cm_v1"
   ]
  },
  {
   "cell_type": "code",
   "execution_count": 45,
   "id": "catholic-application",
   "metadata": {},
   "outputs": [
    {
     "data": {
      "text/html": [
       "0.841463414634146"
      ],
      "text/latex": [
       "0.841463414634146"
      ],
      "text/markdown": [
       "0.841463414634146"
      ],
      "text/plain": [
       "[1] 0.8414634"
      ]
     },
     "metadata": {},
     "output_type": "display_data"
    },
    {
     "data": {
      "text/html": [
       "0.946189897587224"
      ],
      "text/latex": [
       "0.946189897587224"
      ],
      "text/markdown": [
       "0.946189897587224"
      ],
      "text/plain": [
       "[1] 0.9461899"
      ]
     },
     "metadata": {},
     "output_type": "display_data"
    },
    {
     "data": {
      "text/html": [
       "0.890759048941907"
      ],
      "text/latex": [
       "0.890759048941907"
      ],
      "text/markdown": [
       "0.890759048941907"
      ],
      "text/plain": [
       "[1] 0.890759"
      ]
     },
     "metadata": {},
     "output_type": "display_data"
    }
   ],
   "source": [
    "# Calculando Precision, Recall e F1-Score\n",
    "y = data_test$inadimplente\n",
    "y_pred_v1 = previsoes_v1\n",
    "\n",
    "precision = posPredValue(y_pred_v1, y)\n",
    "precision\n",
    "\n",
    "recall = sensitivity(y_pred_v1, y)\n",
    "recall\n",
    "\n",
    "F1 = (2*precision * recall)/(precision+recall)\n",
    "F1"
   ]
  },
  {
   "cell_type": "code",
   "execution_count": 48,
   "id": "presidential-forward",
   "metadata": {
    "collapsed": true
   },
   "outputs": [
    {
     "name": "stderr",
     "output_type": "stream",
     "text": [
      "Warning message:\n",
      "\"package 'DMwR' was built under R version 3.6.3\"Loading required package: grid\n",
      "Registered S3 method overwritten by 'quantmod':\n",
      "  method            from\n",
      "  as.zoo.data.frame zoo \n"
     ]
    }
   ],
   "source": [
    "# Melhoria das métricas para o modelo \n",
    "## Balanceamento dos dados: SMOTE -> Synthetic Minority Oversampling Technique. Aumento dos registros da classe 1\n",
    "# install.packages(\"DMWR\")\n",
    "library(DMwR)"
   ]
  },
  {
   "cell_type": "code",
   "execution_count": 49,
   "id": "latest-flight",
   "metadata": {},
   "outputs": [
    {
     "data": {
      "text/plain": [
       "\n",
       "    0     1 \n",
       "17284  4958 "
      ]
     },
     "metadata": {},
     "output_type": "display_data"
    }
   ],
   "source": [
    "table(data_treino$inadimplente)\n"
   ]
  },
  {
   "cell_type": "code",
   "execution_count": 50,
   "id": "cooperative-distributor",
   "metadata": {},
   "outputs": [],
   "source": [
    "data_treino_bal = SMOTE(inadimplente~., data = data_treino)"
   ]
  },
  {
   "cell_type": "code",
   "execution_count": 56,
   "id": "referenced-copyright",
   "metadata": {},
   "outputs": [
    {
     "data": {
      "text/plain": [
       "\n",
       "    0     1 \n",
       "19832 14874 "
      ]
     },
     "metadata": {},
     "output_type": "display_data"
    },
    {
     "data": {
      "text/plain": [
       "\n",
       "        0         1 \n",
       "0.5714286 0.4285714 "
      ]
     },
     "metadata": {},
     "output_type": "display_data"
    }
   ],
   "source": [
    "table(data_treino_bal$inadimplente)\n",
    "prop.table(table(data_treino_bal$inadimplente))"
   ]
  },
  {
   "cell_type": "code",
   "execution_count": 57,
   "id": "painted-hungary",
   "metadata": {},
   "outputs": [
    {
     "data": {
      "text/plain": [
       "\n",
       "Call:\n",
       " randomForest(formula = inadimplente ~ ., data = data_treino_bal) \n",
       "               Type of random forest: classification\n",
       "                     Number of trees: 500\n",
       "No. of variables tried at each split: 4\n",
       "\n",
       "        OOB estimate of  error rate: 10.21%\n",
       "Confusion matrix:\n",
       "      0     1 class.error\n",
       "0 19054   778  0.03922953\n",
       "1  2764 12110  0.18582762"
      ]
     },
     "metadata": {},
     "output_type": "display_data"
    }
   ],
   "source": [
    "# Construindo o novo modelo\n",
    "modelo_v2 = randomForest(inadimplente~., data=data_treino_bal)\n",
    "modelo_v2"
   ]
  },
  {
   "cell_type": "code",
   "execution_count": 58,
   "id": "martial-settlement",
   "metadata": {
    "scrolled": false
   },
   "outputs": [
    {
     "data": {
      "image/png": "[encoded data removed]",
      "text/plain": [
       "Plot with title \"modelo_v2\""
      ]
     },
     "metadata": {},
     "output_type": "display_data"
    }
   ],
   "source": [
    "plot(modelo_v2)"
   ]
  },
  {
   "cell_type": "code",
   "execution_count": 59,
   "id": "durable-medline",
   "metadata": {},
   "outputs": [],
   "source": [
    "previsoes_v2 = predict(modelo_v2, data_test)"
   ]
  },
  {
   "cell_type": "code",
   "execution_count": 60,
   "id": "welcome-count",
   "metadata": {},
   "outputs": [
    {
     "data": {
      "text/plain": [
       "Confusion Matrix and Statistics\n",
       "\n",
       "          Reference\n",
       "Prediction    0    1\n",
       "         0 5037  789\n",
       "         1  724  863\n",
       "                                         \n",
       "               Accuracy : 0.7959         \n",
       "                 95% CI : (0.7865, 0.805)\n",
       "    No Information Rate : 0.7771         \n",
       "    P-Value [Acc > NIR] : 4.751e-05      \n",
       "                                         \n",
       "                  Kappa : 0.4024         \n",
       "                                         \n",
       " Mcnemar's Test P-Value : 0.0999         \n",
       "                                         \n",
       "            Sensitivity : 0.5224         \n",
       "            Specificity : 0.8743         \n",
       "         Pos Pred Value : 0.5438         \n",
       "         Neg Pred Value : 0.8646         \n",
       "             Prevalence : 0.2229         \n",
       "         Detection Rate : 0.1164         \n",
       "   Detection Prevalence : 0.2141         \n",
       "      Balanced Accuracy : 0.6984         \n",
       "                                         \n",
       "       'Positive' Class : 1              \n",
       "                                         "
      ]
     },
     "metadata": {},
     "output_type": "display_data"
    }
   ],
   "source": [
    "#Confusion Matrix\n",
    "cm_v2 = caret::confusionMatrix(previsoes_v2, data_test$inadimplente, positive=\"1\")\n",
    "cm_v2"
   ]
  },
  {
   "cell_type": "code",
   "execution_count": 61,
   "id": "voluntary-person",
   "metadata": {},
   "outputs": [
    {
     "data": {
      "text/html": [
       "0.864572605561277"
      ],
      "text/latex": [
       "0.864572605561277"
      ],
      "text/markdown": [
       "0.864572605561277"
      ],
      "text/plain": [
       "[1] 0.8645726"
      ]
     },
     "metadata": {},
     "output_type": "display_data"
    },
    {
     "data": {
      "text/html": [
       "0.87432737371984"
      ],
      "text/latex": [
       "0.87432737371984"
      ],
      "text/markdown": [
       "0.87432737371984"
      ],
      "text/plain": [
       "[1] 0.8743274"
      ]
     },
     "metadata": {},
     "output_type": "display_data"
    },
    {
     "data": {
      "text/html": [
       "0.869422628808147"
      ],
      "text/latex": [
       "0.869422628808147"
      ],
      "text/markdown": [
       "0.869422628808147"
      ],
      "text/plain": [
       "[1] 0.8694226"
      ]
     },
     "metadata": {},
     "output_type": "display_data"
    }
   ],
   "source": [
    "# Calculando Precision, Recall e F1-Score do segundo modelo (mais equilibrada)\n",
    "y = data_test$inadimplente\n",
    "y_pred_v2 = previsoes_v2\n",
    "\n",
    "precision = posPredValue(y_pred_v2, y)\n",
    "precision\n",
    "\n",
    "recall = sensitivity(y_pred_v2, y)\n",
    "recall\n",
    "\n",
    "F1 = (2*precision * recall)/(precision+recall)\n",
    "F1"
   ]
  },
  {
   "cell_type": "code",
   "execution_count": 62,
   "id": "amber-capability",
   "metadata": {},
   "outputs": [
    {
     "data": {
      "text/html": [
       "<table>\n",
       "<thead><tr><th></th><th scope=col>LIMIT_BAL</th><th scope=col>genero</th><th scope=col>escolaridade</th><th scope=col>estado_civil</th><th scope=col>idade</th><th scope=col>PAY_0</th><th scope=col>PAY_2</th><th scope=col>PAY_3</th><th scope=col>PAY_4</th><th scope=col>PAY_5</th><th scope=col>...</th><th scope=col>BILL_AMT4</th><th scope=col>BILL_AMT5</th><th scope=col>BILL_AMT6</th><th scope=col>PAY_AMT1</th><th scope=col>PAY_AMT2</th><th scope=col>PAY_AMT3</th><th scope=col>PAY_AMT4</th><th scope=col>PAY_AMT5</th><th scope=col>PAY_AMT6</th><th scope=col>inadimplente</th></tr></thead>\n",
       "<tbody>\n",
       "\t<tr><th scope=row>7462</th><td> 90000      </td><td>Maculino    </td><td>Pos Graduado</td><td>Solteiro    </td><td>Idoso       </td><td>0           </td><td>0           </td><td>0           </td><td>0           </td><td>0           </td><td>...         </td><td>27535       </td><td>27751       </td><td>29923       </td><td>5110        </td><td>2000        </td><td>3000        </td><td>1000        </td><td>3000        </td><td>3000        </td><td>0           </td></tr>\n",
       "\t<tr><th scope=row>4506</th><td> 50000      </td><td>Feminino    </td><td>Ensino Médio</td><td>Solteiro    </td><td>Idoso       </td><td>2           </td><td>2           </td><td>2           </td><td>2           </td><td>0           </td><td>...         </td><td>34817       </td><td>36252       </td><td>37645       </td><td>2000        </td><td>2000        </td><td>   0        </td><td>2000        </td><td>2000        </td><td>2000        </td><td>0           </td></tr>\n",
       "\t<tr><th scope=row>6250</th><td> 40000      </td><td>Maculino    </td><td>Graduado    </td><td>Casado      </td><td>Adulto      </td><td>0           </td><td>0           </td><td>2           </td><td>2           </td><td>2           </td><td>...         </td><td>39464       </td><td>38698       </td><td>40051       </td><td>3700        </td><td>   0        </td><td>3000        </td><td>   0        </td><td>2000        </td><td> 800        </td><td>0           </td></tr>\n",
       "\t<tr><th scope=row>1883</th><td> 90000      </td><td>Maculino    </td><td>Pos Graduado</td><td>Solteiro    </td><td>Jovem       </td><td>0           </td><td>0           </td><td>0           </td><td>0           </td><td>0           </td><td>...         </td><td>29753       </td><td>30601       </td><td>33083       </td><td>2000        </td><td>3000        </td><td>2000        </td><td>3000        </td><td>3000        </td><td>1000        </td><td>0           </td></tr>\n",
       "\t<tr><th scope=row>15463</th><td>120000      </td><td>Maculino    </td><td>Graduado    </td><td>Solteiro    </td><td>Adulto      </td><td>-1          </td><td>-1          </td><td>-1          </td><td>-1          </td><td>-1          </td><td>...         </td><td>  392       </td><td>  396       </td><td>  396       </td><td> 396        </td><td> 396        </td><td> 392        </td><td> 400        </td><td> 396        </td><td> 942        </td><td>0           </td></tr>\n",
       "</tbody>\n",
       "</table>\n"
      ],
      "text/latex": [
       "\\begin{tabular}{r|llllllllllllllllllllllll}\n",
       "  & LIMIT\\_BAL & genero & escolaridade & estado\\_civil & idade & PAY\\_0 & PAY\\_2 & PAY\\_3 & PAY\\_4 & PAY\\_5 & ... & BILL\\_AMT4 & BILL\\_AMT5 & BILL\\_AMT6 & PAY\\_AMT1 & PAY\\_AMT2 & PAY\\_AMT3 & PAY\\_AMT4 & PAY\\_AMT5 & PAY\\_AMT6 & inadimplente\\\\\n",
       "\\hline\n",
       "\t7462 &  90000       & Maculino     & Pos Graduado & Solteiro     & Idoso        & 0            & 0            & 0            & 0            & 0            & ...          & 27535        & 27751        & 29923        & 5110         & 2000         & 3000         & 1000         & 3000         & 3000         & 0           \\\\\n",
       "\t4506 &  50000       & Feminino     & Ensino Médio & Solteiro     & Idoso        & 2            & 2            & 2            & 2            & 0            & ...          & 34817        & 36252        & 37645        & 2000         & 2000         &    0         & 2000         & 2000         & 2000         & 0           \\\\\n",
       "\t6250 &  40000       & Maculino     & Graduado     & Casado       & Adulto       & 0            & 0            & 2            & 2            & 2            & ...          & 39464        & 38698        & 40051        & 3700         &    0         & 3000         &    0         & 2000         &  800         & 0           \\\\\n",
       "\t1883 &  90000       & Maculino     & Pos Graduado & Solteiro     & Jovem        & 0            & 0            & 0            & 0            & 0            & ...          & 29753        & 30601        & 33083        & 2000         & 3000         & 2000         & 3000         & 3000         & 1000         & 0           \\\\\n",
       "\t15463 & 120000       & Maculino     & Graduado     & Solteiro     & Adulto       & -1           & -1           & -1           & -1           & -1           & ...          &   392        &   396        &   396        &  396         &  396         &  392         &  400         &  396         &  942         & 0           \\\\\n",
       "\\end{tabular}\n"
      ],
      "text/markdown": [
       "\n",
       "| <!--/--> | LIMIT_BAL | genero | escolaridade | estado_civil | idade | PAY_0 | PAY_2 | PAY_3 | PAY_4 | PAY_5 | ... | BILL_AMT4 | BILL_AMT5 | BILL_AMT6 | PAY_AMT1 | PAY_AMT2 | PAY_AMT3 | PAY_AMT4 | PAY_AMT5 | PAY_AMT6 | inadimplente |\n",
       "|---|---|---|---|---|---|---|---|---|---|---|---|---|---|---|---|---|---|---|---|---|---|\n",
       "| 7462 |  90000       | Maculino     | Pos Graduado | Solteiro     | Idoso        | 0            | 0            | 0            | 0            | 0            | ...          | 27535        | 27751        | 29923        | 5110         | 2000         | 3000         | 1000         | 3000         | 3000         | 0            |\n",
       "| 4506 |  50000       | Feminino     | Ensino Médio | Solteiro     | Idoso        | 2            | 2            | 2            | 2            | 0            | ...          | 34817        | 36252        | 37645        | 2000         | 2000         |    0         | 2000         | 2000         | 2000         | 0            |\n",
       "| 6250 |  40000       | Maculino     | Graduado     | Casado       | Adulto       | 0            | 0            | 2            | 2            | 2            | ...          | 39464        | 38698        | 40051        | 3700         |    0         | 3000         |    0         | 2000         |  800         | 0            |\n",
       "| 1883 |  90000       | Maculino     | Pos Graduado | Solteiro     | Jovem        | 0            | 0            | 0            | 0            | 0            | ...          | 29753        | 30601        | 33083        | 2000         | 3000         | 2000         | 3000         | 3000         | 1000         | 0            |\n",
       "| 15463 | 120000       | Maculino     | Graduado     | Solteiro     | Adulto       | -1           | -1           | -1           | -1           | -1           | ...          |   392        |   396        |   396        |  396         |  396         |  392         |  400         |  396         |  942         | 0            |\n",
       "\n"
      ],
      "text/plain": [
       "      LIMIT_BAL genero   escolaridade estado_civil idade  PAY_0 PAY_2 PAY_3\n",
       "7462   90000    Maculino Pos Graduado Solteiro     Idoso  0     0     0    \n",
       "4506   50000    Feminino Ensino Médio Solteiro     Idoso  2     2     2    \n",
       "6250   40000    Maculino Graduado     Casado       Adulto 0     0     2    \n",
       "1883   90000    Maculino Pos Graduado Solteiro     Jovem  0     0     0    \n",
       "15463 120000    Maculino Graduado     Solteiro     Adulto -1    -1    -1   \n",
       "      PAY_4 PAY_5 ... BILL_AMT4 BILL_AMT5 BILL_AMT6 PAY_AMT1 PAY_AMT2 PAY_AMT3\n",
       "7462  0     0     ... 27535     27751     29923     5110     2000     3000    \n",
       "4506  2     0     ... 34817     36252     37645     2000     2000        0    \n",
       "6250  2     2     ... 39464     38698     40051     3700        0     3000    \n",
       "1883  0     0     ... 29753     30601     33083     2000     3000     2000    \n",
       "15463 -1    -1    ...   392       396       396      396      396      392    \n",
       "      PAY_AMT4 PAY_AMT5 PAY_AMT6 inadimplente\n",
       "7462  1000     3000     3000     0           \n",
       "4506  2000     2000     2000     0           \n",
       "6250     0     2000      800     0           \n",
       "1883  3000     3000     1000     0           \n",
       "15463  400      396      942     0           "
      ]
     },
     "metadata": {},
     "output_type": "display_data"
    }
   ],
   "source": [
    "# Terceiro modelo = utilizando as variáveis preditoras mais relevantes para o modelo\n",
    "head(data_treino_bal, 5)"
   ]
  },
  {
   "cell_type": "code",
   "execution_count": 63,
   "id": "subtle-young",
   "metadata": {},
   "outputs": [
    {
     "data": {
      "image/png": "[encoded data removed]",
      "text/plain": [
       "Plot with title \"modelo_v2\""
      ]
     },
     "metadata": {},
     "output_type": "display_data"
    }
   ],
   "source": [
    "# variáveis mais relevantes para o modelo\n",
    "varImpPlot(modelo_v2)"
   ]
  },
  {
   "cell_type": "code",
   "execution_count": 67,
   "id": "chief-dealing",
   "metadata": {},
   "outputs": [],
   "source": [
    "imp_var = importance(modelo_v2)\n",
    "varImportance = data.frame(Variables = row.names(imp_var),\n",
    "                          importance = round(imp_var[,'MeanDecreaseGini'],2))"
   ]
  },
  {
   "cell_type": "code",
   "execution_count": 108,
   "id": "adopted-moore",
   "metadata": {},
   "outputs": [
    {
     "data": {
      "text/html": [
       "<ol class=list-inline>\n",
       "\t<li>'LIMIT_BAL'</li>\n",
       "\t<li>'genero'</li>\n",
       "\t<li>'escolaridade'</li>\n",
       "\t<li>'estado_civil'</li>\n",
       "\t<li>'idade'</li>\n",
       "\t<li>'PAY_0'</li>\n",
       "\t<li>'PAY_2'</li>\n",
       "\t<li>'PAY_3'</li>\n",
       "\t<li>'PAY_4'</li>\n",
       "\t<li>'PAY_5'</li>\n",
       "\t<li>'PAY_6'</li>\n",
       "\t<li>'BILL_AMT1'</li>\n",
       "\t<li>'BILL_AMT2'</li>\n",
       "\t<li>'BILL_AMT3'</li>\n",
       "\t<li>'BILL_AMT4'</li>\n",
       "\t<li>'BILL_AMT5'</li>\n",
       "\t<li>'BILL_AMT6'</li>\n",
       "\t<li>'PAY_AMT1'</li>\n",
       "\t<li>'PAY_AMT2'</li>\n",
       "\t<li>'PAY_AMT3'</li>\n",
       "\t<li>'PAY_AMT4'</li>\n",
       "\t<li>'PAY_AMT5'</li>\n",
       "\t<li>'PAY_AMT6'</li>\n",
       "\t<li>'inadimplente'</li>\n",
       "</ol>\n"
      ],
      "text/latex": [
       "\\begin{enumerate*}\n",
       "\\item 'LIMIT\\_BAL'\n",
       "\\item 'genero'\n",
       "\\item 'escolaridade'\n",
       "\\item 'estado\\_civil'\n",
       "\\item 'idade'\n",
       "\\item 'PAY\\_0'\n",
       "\\item 'PAY\\_2'\n",
       "\\item 'PAY\\_3'\n",
       "\\item 'PAY\\_4'\n",
       "\\item 'PAY\\_5'\n",
       "\\item 'PAY\\_6'\n",
       "\\item 'BILL\\_AMT1'\n",
       "\\item 'BILL\\_AMT2'\n",
       "\\item 'BILL\\_AMT3'\n",
       "\\item 'BILL\\_AMT4'\n",
       "\\item 'BILL\\_AMT5'\n",
       "\\item 'BILL\\_AMT6'\n",
       "\\item 'PAY\\_AMT1'\n",
       "\\item 'PAY\\_AMT2'\n",
       "\\item 'PAY\\_AMT3'\n",
       "\\item 'PAY\\_AMT4'\n",
       "\\item 'PAY\\_AMT5'\n",
       "\\item 'PAY\\_AMT6'\n",
       "\\item 'inadimplente'\n",
       "\\end{enumerate*}\n"
      ],
      "text/markdown": [
       "1. 'LIMIT_BAL'\n",
       "2. 'genero'\n",
       "3. 'escolaridade'\n",
       "4. 'estado_civil'\n",
       "5. 'idade'\n",
       "6. 'PAY_0'\n",
       "7. 'PAY_2'\n",
       "8. 'PAY_3'\n",
       "9. 'PAY_4'\n",
       "10. 'PAY_5'\n",
       "11. 'PAY_6'\n",
       "12. 'BILL_AMT1'\n",
       "13. 'BILL_AMT2'\n",
       "14. 'BILL_AMT3'\n",
       "15. 'BILL_AMT4'\n",
       "16. 'BILL_AMT5'\n",
       "17. 'BILL_AMT6'\n",
       "18. 'PAY_AMT1'\n",
       "19. 'PAY_AMT2'\n",
       "20. 'PAY_AMT3'\n",
       "21. 'PAY_AMT4'\n",
       "22. 'PAY_AMT5'\n",
       "23. 'PAY_AMT6'\n",
       "24. 'inadimplente'\n",
       "\n",
       "\n"
      ],
      "text/plain": [
       " [1] \"LIMIT_BAL\"    \"genero\"       \"escolaridade\" \"estado_civil\" \"idade\"       \n",
       " [6] \"PAY_0\"        \"PAY_2\"        \"PAY_3\"        \"PAY_4\"        \"PAY_5\"       \n",
       "[11] \"PAY_6\"        \"BILL_AMT1\"    \"BILL_AMT2\"    \"BILL_AMT3\"    \"BILL_AMT4\"   \n",
       "[16] \"BILL_AMT5\"    \"BILL_AMT6\"    \"PAY_AMT1\"     \"PAY_AMT2\"     \"PAY_AMT3\"    \n",
       "[21] \"PAY_AMT4\"     \"PAY_AMT5\"     \"PAY_AMT6\"     \"inadimplente\""
      ]
     },
     "metadata": {},
     "output_type": "display_data"
    }
   ],
   "source": [
    "colnames(data_treino_bal)"
   ]
  },
  {
   "cell_type": "code",
   "execution_count": 109,
   "id": "coordinate-story",
   "metadata": {},
   "outputs": [
    {
     "data": {
      "text/plain": [
       "\n",
       "Call:\n",
       " randomForest(formula = inadimplente ~ PAY_0 + PAY_2 + PAY_3 +      PAY_AMT1 + PAY_AMT2 + PAY_5 + BILL_AMT1, data = data_treino_bal) \n",
       "               Type of random forest: classification\n",
       "                     Number of trees: 500\n",
       "No. of variables tried at each split: 2\n",
       "\n",
       "        OOB estimate of  error rate: 13.45%\n",
       "Confusion matrix:\n",
       "      0     1 class.error\n",
       "0 18864   968   0.0488100\n",
       "1  3700 11174   0.2487562"
      ]
     },
     "metadata": {},
     "output_type": "display_data"
    }
   ],
   "source": [
    "modelo_v3 = randomForest(inadimplente ~ PAY_0 + PAY_2 + PAY_3 + PAY_AMT1 + PAY_AMT2 + PAY_5 + BILL_AMT1, \n",
    "                         data=data_treino_bal)\n",
    "modelo_v3"
   ]
  },
  {
   "cell_type": "code",
   "execution_count": 110,
   "id": "clear-brand",
   "metadata": {},
   "outputs": [
    {
     "data": {
      "image/png": "[encoded data removed]",
      "text/plain": [
       "Plot with title \"modelo_v3\""
      ]
     },
     "metadata": {},
     "output_type": "display_data"
    }
   ],
   "source": [
    "plot(modelo_v3)"
   ]
  },
  {
   "cell_type": "code",
   "execution_count": 111,
   "id": "acquired-broad",
   "metadata": {},
   "outputs": [],
   "source": [
    "previsoes_v3 = predict(modelo_v3, data_test)"
   ]
  },
  {
   "cell_type": "code",
   "execution_count": 112,
   "id": "assured-reason",
   "metadata": {},
   "outputs": [
    {
     "data": {
      "text/plain": [
       "Confusion Matrix and Statistics\n",
       "\n",
       "          Reference\n",
       "Prediction    0    1\n",
       "         0 5151  925\n",
       "         1  610  727\n",
       "                                          \n",
       "               Accuracy : 0.7929          \n",
       "                 95% CI : (0.7835, 0.8021)\n",
       "    No Information Rate : 0.7771          \n",
       "    P-Value [Acc > NIR] : 0.0005246       \n",
       "                                          \n",
       "                  Kappa : 0.3586          \n",
       "                                          \n",
       " Mcnemar's Test P-Value : 1.106e-15       \n",
       "                                          \n",
       "            Sensitivity : 0.44007         \n",
       "            Specificity : 0.89412         \n",
       "         Pos Pred Value : 0.54375         \n",
       "         Neg Pred Value : 0.84776         \n",
       "             Prevalence : 0.22285         \n",
       "         Detection Rate : 0.09807         \n",
       "   Detection Prevalence : 0.18036         \n",
       "      Balanced Accuracy : 0.66709         \n",
       "                                          \n",
       "       'Positive' Class : 1               \n",
       "                                          "
      ]
     },
     "metadata": {},
     "output_type": "display_data"
    }
   ],
   "source": [
    "#Confusion Matrix 3\n",
    "cm_v3 = caret::confusionMatrix(previsoes_v3, data_test$inadimplente, positive=\"1\")\n",
    "cm_v3"
   ]
  },
  {
   "cell_type": "code",
   "execution_count": 113,
   "id": "annoying-discovery",
   "metadata": {},
   "outputs": [
    {
     "data": {
      "text/html": [
       "0.847761685319289"
      ],
      "text/latex": [
       "0.847761685319289"
      ],
      "text/markdown": [
       "0.847761685319289"
      ],
      "text/plain": [
       "[1] 0.8477617"
      ]
     },
     "metadata": {},
     "output_type": "display_data"
    },
    {
     "data": {
      "text/html": [
       "0.8941156049297"
      ],
      "text/latex": [
       "0.8941156049297"
      ],
      "text/markdown": [
       "0.8941156049297"
      ],
      "text/plain": [
       "[1] 0.8941156"
      ]
     },
     "metadata": {},
     "output_type": "display_data"
    },
    {
     "data": {
      "text/html": [
       "0.87032187209597"
      ],
      "text/latex": [
       "0.87032187209597"
      ],
      "text/markdown": [
       "0.87032187209597"
      ],
      "text/plain": [
       "[1] 0.8703219"
      ]
     },
     "metadata": {},
     "output_type": "display_data"
    }
   ],
   "source": [
    "# Calculando Precision, Recall e F1-Score do segundo modelo (mais equilibrada)\n",
    "y = data_test$inadimplente\n",
    "y_pred_v3 = previsoes_v3\n",
    "\n",
    "precision = posPredValue(y_pred_v3, y)\n",
    "precision\n",
    "\n",
    "recall = sensitivity(y_pred_v3, y)\n",
    "recall\n",
    "\n",
    "F1 = (2*precision * recall)/(precision+recall)\n",
    "F1"
   ]
  },
  {
   "cell_type": "code",
   "execution_count": 114,
   "id": "announced-ontario",
   "metadata": {},
   "outputs": [],
   "source": [
    "# Salvando o modelo em disco\n",
    "saveRDS(modelo_v3, file='modelo/modelo_v3.rds')"
   ]
  },
  {
   "cell_type": "markdown",
   "id": "meaningful-munich",
   "metadata": {},
   "source": [
    "## Previsões com o modelo 3\n",
    "---"
   ]
  },
  {
   "cell_type": "code",
   "execution_count": 124,
   "id": "universal-murder",
   "metadata": {},
   "outputs": [],
   "source": [
    "# Dados do cliente\n",
    "PAY_0 = c(0,0,0)\n",
    "PAY_2 = c(0,0,0)\n",
    "PAY_3 = c(1,0,0)\n",
    "PAY_AMT1 = c(1100,1000,1200)\n",
    "PAY_AMT2 = c(1500,1300,1150)\n",
    "PAY_5 = c(0,0,0)\n",
    "BILL_AMT1 = c(350,420,280)\n"
   ]
  },
  {
   "cell_type": "code",
   "execution_count": 125,
   "id": "false-monster",
   "metadata": {},
   "outputs": [
    {
     "data": {
      "text/html": [
       "<table>\n",
       "<thead><tr><th scope=col>PAY_0</th><th scope=col>PAY_2</th><th scope=col>PAY_3</th><th scope=col>PAY_AMT1</th><th scope=col>PAY_AMT2</th><th scope=col>PAY_5</th><th scope=col>BILL_AMT1</th></tr></thead>\n",
       "<tbody>\n",
       "\t<tr><td>0   </td><td>0   </td><td>1   </td><td>1100</td><td>1500</td><td>0   </td><td>350 </td></tr>\n",
       "\t<tr><td>0   </td><td>0   </td><td>0   </td><td>1000</td><td>1300</td><td>0   </td><td>420 </td></tr>\n",
       "\t<tr><td>0   </td><td>0   </td><td>0   </td><td>1200</td><td>1150</td><td>0   </td><td>280 </td></tr>\n",
       "</tbody>\n",
       "</table>\n"
      ],
      "text/latex": [
       "\\begin{tabular}{r|lllllll}\n",
       " PAY\\_0 & PAY\\_2 & PAY\\_3 & PAY\\_AMT1 & PAY\\_AMT2 & PAY\\_5 & BILL\\_AMT1\\\\\n",
       "\\hline\n",
       "\t 0    & 0    & 1    & 1100 & 1500 & 0    & 350 \\\\\n",
       "\t 0    & 0    & 0    & 1000 & 1300 & 0    & 420 \\\\\n",
       "\t 0    & 0    & 0    & 1200 & 1150 & 0    & 280 \\\\\n",
       "\\end{tabular}\n"
      ],
      "text/markdown": [
       "\n",
       "| PAY_0 | PAY_2 | PAY_3 | PAY_AMT1 | PAY_AMT2 | PAY_5 | BILL_AMT1 |\n",
       "|---|---|---|---|---|---|---|\n",
       "| 0    | 0    | 1    | 1100 | 1500 | 0    | 350  |\n",
       "| 0    | 0    | 0    | 1000 | 1300 | 0    | 420  |\n",
       "| 0    | 0    | 0    | 1200 | 1150 | 0    | 280  |\n",
       "\n"
      ],
      "text/plain": [
       "  PAY_0 PAY_2 PAY_3 PAY_AMT1 PAY_AMT2 PAY_5 BILL_AMT1\n",
       "1 0     0     1     1100     1500     0     350      \n",
       "2 0     0     0     1000     1300     0     420      \n",
       "3 0     0     0     1200     1150     0     280      "
      ]
     },
     "metadata": {},
     "output_type": "display_data"
    }
   ],
   "source": [
    "# Dataframe\n",
    "clients = data.frame(PAY_0, PAY_2, PAY_3, PAY_AMT1, PAY_AMT2, PAY_5, BILL_AMT1)\n",
    "clients "
   ]
  },
  {
   "cell_type": "code",
   "execution_count": 126,
   "id": "direct-pleasure",
   "metadata": {},
   "outputs": [
    {
     "name": "stdout",
     "output_type": "stream",
     "text": [
      "'data.frame':\t34706 obs. of  24 variables:\n",
      " $ LIMIT_BAL   : num  90000 50000 40000 90000 120000 180000 240000 300000 80000 470000 ...\n",
      " $ genero      : Factor w/ 2 levels \"Maculino\",\"Feminino\": 1 2 1 1 1 1 2 2 2 1 ...\n",
      " $ escolaridade: Factor w/ 4 levels \"Pos Graduado\",..: 1 3 2 1 2 3 1 1 1 1 ...\n",
      " $ estado_civil: Factor w/ 4 levels \"Desconhecido\",..: 3 3 2 3 3 2 3 3 3 3 ...\n",
      " $ idade       : Factor w/ 3 levels \"Jovem\",\"Adulto\",..: 3 3 2 1 2 2 1 2 1 2 ...\n",
      " $ PAY_0       : Factor w/ 11 levels \"-2\",\"-1\",\"0\",..: 3 5 3 3 2 3 3 1 3 3 ...\n",
      " $ PAY_2       : Factor w/ 11 levels \"-2\",\"-1\",\"0\",..: 3 5 3 3 2 3 3 1 3 3 ...\n",
      " $ PAY_3       : Factor w/ 11 levels \"-2\",\"-1\",\"0\",..: 3 5 5 3 2 3 3 1 3 3 ...\n",
      " $ PAY_4       : Factor w/ 11 levels \"-2\",\"-1\",\"0\",..: 3 5 5 3 2 3 3 1 5 3 ...\n",
      " $ PAY_5       : Factor w/ 10 levels \"-2\",\"-1\",\"0\",..: 3 3 4 3 2 3 3 1 4 3 ...\n",
      " $ PAY_6       : Factor w/ 10 levels \"-2\",\"-1\",\"0\",..: 3 3 3 3 2 3 3 1 3 3 ...\n",
      " $ BILL_AMT1   : num  91656 33384 34871 32755 396 ...\n",
      " $ BILL_AMT2   : num  87106 34554 37999 31325 396 ...\n",
      " $ BILL_AMT3   : num  48730 35690 37089 28034 396 ...\n",
      " $ BILL_AMT4   : num  27535 34817 39464 29753 392 ...\n",
      " $ BILL_AMT5   : num  27751 36252 38698 30601 396 ...\n",
      " $ BILL_AMT6   : num  29923 37645 40051 33083 396 ...\n",
      " $ PAY_AMT1    : num  5110 2000 3700 2000 396 ...\n",
      " $ PAY_AMT2    : num  2000 2000 0 3000 396 ...\n",
      " $ PAY_AMT3    : num  3000 0 3000 2000 392 ...\n",
      " $ PAY_AMT4    : num  1000 2000 0 3000 400 ...\n",
      " $ PAY_AMT5    : num  3000 2000 2000 3000 396 ...\n",
      " $ PAY_AMT6    : num  3000 2000 800 1000 942 ...\n",
      " $ inadimplente: Factor w/ 2 levels \"0\",\"1\": 1 1 1 1 1 1 1 1 1 1 ...\n",
      " - attr(*, \"na.action\")= 'omit' Named int  48 70 386 503 505 1074 1266 1283 1370 1832 ...\n",
      "  ..- attr(*, \"names\")= chr  \"48\" \"70\" \"386\" \"503\" ...\n"
     ]
    }
   ],
   "source": [
    "str(data_treino_bal)"
   ]
  },
  {
   "cell_type": "code",
   "execution_count": 130,
   "id": "israeli-badge",
   "metadata": {},
   "outputs": [
    {
     "name": "stdout",
     "output_type": "stream",
     "text": [
      "'data.frame':\t3 obs. of  7 variables:\n",
      " $ PAY_0    : num  0 0 0\n",
      " $ PAY_2    : num  0 0 0\n",
      " $ PAY_3    : num  1 0 0\n",
      " $ PAY_AMT1 : num  1100 1000 1200\n",
      " $ PAY_AMT2 : num  1500 1300 1150\n",
      " $ PAY_5    : num  0 0 0\n",
      " $ BILL_AMT1: num  350 420 280\n"
     ]
    }
   ],
   "source": [
    "str(clients)"
   ]
  },
  {
   "cell_type": "code",
   "execution_count": 131,
   "id": "returning-liberty",
   "metadata": {},
   "outputs": [],
   "source": [
    "clients$PAY_0 = factor(clients$PAY_0, levels=levels(data_treino_bal$PAY_0))\n",
    "clients$PAY_2 = factor(clients$PAY_2, levels=levels(data_treino_bal$PAY_2))\n",
    "clients$PAY_3 = factor(clients$PAY_3, levels=levels(data_treino_bal$PAY_3))\n",
    "clients$PAY_5 = factor(clients$PAY_5, levels=levels(data_treino_bal$PAY_5))"
   ]
  },
  {
   "cell_type": "code",
   "execution_count": 132,
   "id": "preceding-ordinance",
   "metadata": {},
   "outputs": [
    {
     "name": "stdout",
     "output_type": "stream",
     "text": [
      "'data.frame':\t3 obs. of  7 variables:\n",
      " $ PAY_0    : Factor w/ 11 levels \"-2\",\"-1\",\"0\",..: 3 3 3\n",
      " $ PAY_2    : Factor w/ 11 levels \"-2\",\"-1\",\"0\",..: 3 3 3\n",
      " $ PAY_3    : Factor w/ 11 levels \"-2\",\"-1\",\"0\",..: 4 3 3\n",
      " $ PAY_AMT1 : num  1100 1000 1200\n",
      " $ PAY_AMT2 : num  1500 1300 1150\n",
      " $ PAY_5    : Factor w/ 10 levels \"-2\",\"-1\",\"0\",..: 3 3 3\n",
      " $ BILL_AMT1: num  350 420 280\n"
     ]
    }
   ],
   "source": [
    "str(clients)"
   ]
  },
  {
   "cell_type": "code",
   "execution_count": 133,
   "id": "passive-division",
   "metadata": {},
   "outputs": [],
   "source": [
    "# Previsões\n",
    "previsoes_clientes = predict(modelo_v3, clients)"
   ]
  },
  {
   "cell_type": "code",
   "execution_count": 135,
   "id": "looking-ballot",
   "metadata": {},
   "outputs": [
    {
     "data": {
      "text/html": [
       "<dl class=dl-horizontal>\n",
       "\t<dt>1</dt>\n",
       "\t\t<dd>1</dd>\n",
       "\t<dt>2</dt>\n",
       "\t\t<dd>0</dd>\n",
       "\t<dt>3</dt>\n",
       "\t\t<dd>0</dd>\n",
       "</dl>\n",
       "\n",
       "<details>\n",
       "\t<summary style=display:list-item;cursor:pointer>\n",
       "\t\t<strong>Levels</strong>:\n",
       "\t</summary>\n",
       "\t<ol class=list-inline>\n",
       "\t\t<li>'0'</li>\n",
       "\t\t<li>'1'</li>\n",
       "\t</ol>\n",
       "</details>"
      ],
      "text/latex": [
       "\\begin{description*}\n",
       "\\item[1] 1\n",
       "\\item[2] 0\n",
       "\\item[3] 0\n",
       "\\end{description*}\n",
       "\n",
       "\\emph{Levels}: \\begin{enumerate*}\n",
       "\\item '0'\n",
       "\\item '1'\n",
       "\\end{enumerate*}\n"
      ],
      "text/markdown": [
       "1\n",
       ":   12\n",
       ":   03\n",
       ":   0\n",
       "\n",
       "\n",
       "**Levels**: 1. '0'\n",
       "2. '1'\n",
       "\n",
       "\n"
      ],
      "text/plain": [
       "1 2 3 \n",
       "1 0 0 \n",
       "Levels: 0 1"
      ]
     },
     "metadata": {},
     "output_type": "display_data"
    }
   ],
   "source": [
    "# O resultado diz que 1 cliente pode se tornar inadimplente (1) enquanto dois não ficarão inadimplente (0)\n",
    "previsoes_clientes"
   ]
  },
  {
   "cell_type": "code",
   "execution_count": null,
   "id": "literary-first",
   "metadata": {},
   "outputs": [],
   "source": []
  }
 ],
 "metadata": {
  "kernelspec": {
   "display_name": "R",
   "language": "R",
   "name": "ir"
  },
  "language_info": {
   "codemirror_mode": "r",
   "file_extension": ".r",
   "mimetype": "text/x-r-source",
   "name": "R",
   "pygments_lexer": "r",
   "version": "3.6.1"
  }
 },
 "nbformat": 4,
 "nbformat_minor": 5
}
