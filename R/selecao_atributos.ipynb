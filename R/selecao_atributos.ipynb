{
 "cells": [
  {
   "cell_type": "markdown",
   "id": "impressed-relation",
   "metadata": {},
   "source": [
    "# seleção de Atributos\n",
    "* nem sempre um maior número de atributos é a melhor estratégia para o modelo\n",
    "* técnica para seleção de atributos: **Random Forest**"
   ]
  },
  {
   "cell_type": "code",
   "execution_count": 2,
   "id": "established-teach",
   "metadata": {},
   "outputs": [],
   "source": [
    "library(e1071)\n",
    "library(randomForest)"
   ]
  },
  {
   "cell_type": "code",
   "execution_count": 4,
   "id": "handled-congo",
   "metadata": {},
   "outputs": [
    {
     "data": {
      "text/html": [
       "<table class=\"dataframe\">\n",
       "<caption>A data.frame: 6 × 21</caption>\n",
       "<thead>\n",
       "\t<tr><th></th><th scope=col>checking_status</th><th scope=col>duration</th><th scope=col>credit_history</th><th scope=col>purpose</th><th scope=col>credit_amount</th><th scope=col>savings_status</th><th scope=col>employment</th><th scope=col>installment_commitment</th><th scope=col>personal_status</th><th scope=col>other_parties</th><th scope=col>...</th><th scope=col>property_magnitude</th><th scope=col>age</th><th scope=col>other_payment_plans</th><th scope=col>housing</th><th scope=col>existing_credits</th><th scope=col>job</th><th scope=col>num_dependents</th><th scope=col>own_telephone</th><th scope=col>foreign_worker</th><th scope=col>class</th></tr>\n",
       "\t<tr><th></th><th scope=col>&lt;fct&gt;</th><th scope=col>&lt;int&gt;</th><th scope=col>&lt;fct&gt;</th><th scope=col>&lt;fct&gt;</th><th scope=col>&lt;int&gt;</th><th scope=col>&lt;fct&gt;</th><th scope=col>&lt;fct&gt;</th><th scope=col>&lt;int&gt;</th><th scope=col>&lt;fct&gt;</th><th scope=col>&lt;fct&gt;</th><th scope=col>...</th><th scope=col>&lt;fct&gt;</th><th scope=col>&lt;int&gt;</th><th scope=col>&lt;fct&gt;</th><th scope=col>&lt;fct&gt;</th><th scope=col>&lt;int&gt;</th><th scope=col>&lt;fct&gt;</th><th scope=col>&lt;int&gt;</th><th scope=col>&lt;fct&gt;</th><th scope=col>&lt;fct&gt;</th><th scope=col>&lt;fct&gt;</th></tr>\n",
       "</thead>\n",
       "<tbody>\n",
       "\t<tr><th scope=row>1</th><td><span style=white-space:pre-wrap>&lt;0           </span></td><td> 6</td><td>'critical/other existing credit'</td><td><span style=white-space:pre-wrap>radio/tv           </span></td><td>1169</td><td>'no known savings'</td><td><span style=white-space:pre-wrap>&gt;=7   </span></td><td>4</td><td><span style=white-space:pre-wrap>'male single'       </span></td><td><span style=white-space:pre-wrap>none     </span></td><td>...</td><td><span style=white-space:pre-wrap>'real estate'      </span></td><td>67</td><td>none</td><td><span style=white-space:pre-wrap>own       </span></td><td>2</td><td><span style=white-space:pre-wrap>skilled             </span></td><td>1</td><td>yes </td><td>yes</td><td>good</td></tr>\n",
       "\t<tr><th scope=row>2</th><td><span style=white-space:pre-wrap>0&lt;=X&lt;200     </span></td><td>48</td><td><span style=white-space:pre-wrap>'existing paid'                 </span></td><td><span style=white-space:pre-wrap>radio/tv           </span></td><td>5951</td><td><span style=white-space:pre-wrap>&lt;100              </span></td><td>1&lt;=X&lt;4</td><td>2</td><td>'female div/dep/mar'</td><td><span style=white-space:pre-wrap>none     </span></td><td>...</td><td><span style=white-space:pre-wrap>'real estate'      </span></td><td>22</td><td>none</td><td><span style=white-space:pre-wrap>own       </span></td><td>1</td><td><span style=white-space:pre-wrap>skilled             </span></td><td>1</td><td>none</td><td>yes</td><td>bad </td></tr>\n",
       "\t<tr><th scope=row>3</th><td>'no checking'</td><td>12</td><td>'critical/other existing credit'</td><td><span style=white-space:pre-wrap>education          </span></td><td>2096</td><td><span style=white-space:pre-wrap>&lt;100              </span></td><td>4&lt;=X&lt;7</td><td>2</td><td><span style=white-space:pre-wrap>'male single'       </span></td><td><span style=white-space:pre-wrap>none     </span></td><td>...</td><td><span style=white-space:pre-wrap>'real estate'      </span></td><td>49</td><td>none</td><td><span style=white-space:pre-wrap>own       </span></td><td>1</td><td>'unskilled resident'</td><td>2</td><td>none</td><td>yes</td><td>good</td></tr>\n",
       "\t<tr><th scope=row>4</th><td><span style=white-space:pre-wrap>&lt;0           </span></td><td>42</td><td><span style=white-space:pre-wrap>'existing paid'                 </span></td><td>furniture/equipment</td><td>7882</td><td><span style=white-space:pre-wrap>&lt;100              </span></td><td>4&lt;=X&lt;7</td><td>2</td><td><span style=white-space:pre-wrap>'male single'       </span></td><td>guarantor</td><td>...</td><td><span style=white-space:pre-wrap>'life insurance'   </span></td><td>45</td><td>none</td><td>'for free'</td><td>1</td><td><span style=white-space:pre-wrap>skilled             </span></td><td>2</td><td>none</td><td>yes</td><td>good</td></tr>\n",
       "\t<tr><th scope=row>5</th><td><span style=white-space:pre-wrap>&lt;0           </span></td><td>24</td><td><span style=white-space:pre-wrap>'delayed previously'            </span></td><td><span style=white-space:pre-wrap>'new car'          </span></td><td>4870</td><td><span style=white-space:pre-wrap>&lt;100              </span></td><td>1&lt;=X&lt;4</td><td>3</td><td><span style=white-space:pre-wrap>'male single'       </span></td><td><span style=white-space:pre-wrap>none     </span></td><td>...</td><td>'no known property'</td><td>53</td><td>none</td><td>'for free'</td><td>2</td><td><span style=white-space:pre-wrap>skilled             </span></td><td>2</td><td>none</td><td>yes</td><td>bad </td></tr>\n",
       "\t<tr><th scope=row>6</th><td>'no checking'</td><td>36</td><td><span style=white-space:pre-wrap>'existing paid'                 </span></td><td><span style=white-space:pre-wrap>education          </span></td><td>9055</td><td>'no known savings'</td><td>1&lt;=X&lt;4</td><td>2</td><td><span style=white-space:pre-wrap>'male single'       </span></td><td><span style=white-space:pre-wrap>none     </span></td><td>...</td><td>'no known property'</td><td>35</td><td>none</td><td>'for free'</td><td>1</td><td>'unskilled resident'</td><td>2</td><td>yes </td><td>yes</td><td>good</td></tr>\n",
       "</tbody>\n",
       "</table>\n"
      ],
      "text/latex": [
       "A data.frame: 6 × 21\n",
       "\\begin{tabular}{r|lllllllllllllllllllll}\n",
       "  & checking\\_status & duration & credit\\_history & purpose & credit\\_amount & savings\\_status & employment & installment\\_commitment & personal\\_status & other\\_parties & ... & property\\_magnitude & age & other\\_payment\\_plans & housing & existing\\_credits & job & num\\_dependents & own\\_telephone & foreign\\_worker & class\\\\\n",
       "  & <fct> & <int> & <fct> & <fct> & <int> & <fct> & <fct> & <int> & <fct> & <fct> & ... & <fct> & <int> & <fct> & <fct> & <int> & <fct> & <int> & <fct> & <fct> & <fct>\\\\\n",
       "\\hline\n",
       "\t1 & <0            &  6 & 'critical/other existing credit' & radio/tv            & 1169 & 'no known savings' & >=7    & 4 & 'male single'        & none      & ... & 'real estate'       & 67 & none & own        & 2 & skilled              & 1 & yes  & yes & good\\\\\n",
       "\t2 & 0<=X<200      & 48 & 'existing paid'                  & radio/tv            & 5951 & <100               & 1<=X<4 & 2 & 'female div/dep/mar' & none      & ... & 'real estate'       & 22 & none & own        & 1 & skilled              & 1 & none & yes & bad \\\\\n",
       "\t3 & 'no checking' & 12 & 'critical/other existing credit' & education           & 2096 & <100               & 4<=X<7 & 2 & 'male single'        & none      & ... & 'real estate'       & 49 & none & own        & 1 & 'unskilled resident' & 2 & none & yes & good\\\\\n",
       "\t4 & <0            & 42 & 'existing paid'                  & furniture/equipment & 7882 & <100               & 4<=X<7 & 2 & 'male single'        & guarantor & ... & 'life insurance'    & 45 & none & 'for free' & 1 & skilled              & 2 & none & yes & good\\\\\n",
       "\t5 & <0            & 24 & 'delayed previously'             & 'new car'           & 4870 & <100               & 1<=X<4 & 3 & 'male single'        & none      & ... & 'no known property' & 53 & none & 'for free' & 2 & skilled              & 2 & none & yes & bad \\\\\n",
       "\t6 & 'no checking' & 36 & 'existing paid'                  & education           & 9055 & 'no known savings' & 1<=X<4 & 2 & 'male single'        & none      & ... & 'no known property' & 35 & none & 'for free' & 1 & 'unskilled resident' & 2 & yes  & yes & good\\\\\n",
       "\\end{tabular}\n"
      ],
      "text/markdown": [
       "\n",
       "A data.frame: 6 × 21\n",
       "\n",
       "| <!--/--> | checking_status &lt;fct&gt; | duration &lt;int&gt; | credit_history &lt;fct&gt; | purpose &lt;fct&gt; | credit_amount &lt;int&gt; | savings_status &lt;fct&gt; | employment &lt;fct&gt; | installment_commitment &lt;int&gt; | personal_status &lt;fct&gt; | other_parties &lt;fct&gt; | ... ... | property_magnitude &lt;fct&gt; | age &lt;int&gt; | other_payment_plans &lt;fct&gt; | housing &lt;fct&gt; | existing_credits &lt;int&gt; | job &lt;fct&gt; | num_dependents &lt;int&gt; | own_telephone &lt;fct&gt; | foreign_worker &lt;fct&gt; | class &lt;fct&gt; |\n",
       "|---|---|---|---|---|---|---|---|---|---|---|---|---|---|---|---|---|---|---|---|---|---|\n",
       "| 1 | &lt;0            |  6 | 'critical/other existing credit' | radio/tv            | 1169 | 'no known savings' | &gt;=7    | 4 | 'male single'        | none      | ... | 'real estate'       | 67 | none | own        | 2 | skilled              | 1 | yes  | yes | good |\n",
       "| 2 | 0&lt;=X&lt;200      | 48 | 'existing paid'                  | radio/tv            | 5951 | &lt;100               | 1&lt;=X&lt;4 | 2 | 'female div/dep/mar' | none      | ... | 'real estate'       | 22 | none | own        | 1 | skilled              | 1 | none | yes | bad  |\n",
       "| 3 | 'no checking' | 12 | 'critical/other existing credit' | education           | 2096 | &lt;100               | 4&lt;=X&lt;7 | 2 | 'male single'        | none      | ... | 'real estate'       | 49 | none | own        | 1 | 'unskilled resident' | 2 | none | yes | good |\n",
       "| 4 | &lt;0            | 42 | 'existing paid'                  | furniture/equipment | 7882 | &lt;100               | 4&lt;=X&lt;7 | 2 | 'male single'        | guarantor | ... | 'life insurance'    | 45 | none | 'for free' | 1 | skilled              | 2 | none | yes | good |\n",
       "| 5 | &lt;0            | 24 | 'delayed previously'             | 'new car'           | 4870 | &lt;100               | 1&lt;=X&lt;4 | 3 | 'male single'        | none      | ... | 'no known property' | 53 | none | 'for free' | 2 | skilled              | 2 | none | yes | bad  |\n",
       "| 6 | 'no checking' | 36 | 'existing paid'                  | education           | 9055 | 'no known savings' | 1&lt;=X&lt;4 | 2 | 'male single'        | none      | ... | 'no known property' | 35 | none | 'for free' | 1 | 'unskilled resident' | 2 | yes  | yes | good |\n",
       "\n"
      ],
      "text/plain": [
       "  checking_status duration credit_history                   purpose            \n",
       "1 <0               6       'critical/other existing credit' radio/tv           \n",
       "2 0<=X<200        48       'existing paid'                  radio/tv           \n",
       "3 'no checking'   12       'critical/other existing credit' education          \n",
       "4 <0              42       'existing paid'                  furniture/equipment\n",
       "5 <0              24       'delayed previously'             'new car'          \n",
       "6 'no checking'   36       'existing paid'                  education          \n",
       "  credit_amount savings_status     employment installment_commitment\n",
       "1 1169          'no known savings' >=7        4                     \n",
       "2 5951          <100               1<=X<4     2                     \n",
       "3 2096          <100               4<=X<7     2                     \n",
       "4 7882          <100               4<=X<7     2                     \n",
       "5 4870          <100               1<=X<4     3                     \n",
       "6 9055          'no known savings' 1<=X<4     2                     \n",
       "  personal_status      other_parties ... property_magnitude  age\n",
       "1 'male single'        none          ... 'real estate'       67 \n",
       "2 'female div/dep/mar' none          ... 'real estate'       22 \n",
       "3 'male single'        none          ... 'real estate'       49 \n",
       "4 'male single'        guarantor     ... 'life insurance'    45 \n",
       "5 'male single'        none          ... 'no known property' 53 \n",
       "6 'male single'        none          ... 'no known property' 35 \n",
       "  other_payment_plans housing    existing_credits job                 \n",
       "1 none                own        2                skilled             \n",
       "2 none                own        1                skilled             \n",
       "3 none                own        1                'unskilled resident'\n",
       "4 none                'for free' 1                skilled             \n",
       "5 none                'for free' 2                skilled             \n",
       "6 none                'for free' 1                'unskilled resident'\n",
       "  num_dependents own_telephone foreign_worker class\n",
       "1 1              yes           yes            good \n",
       "2 1              none          yes            bad  \n",
       "3 2              none          yes            good \n",
       "4 2              none          yes            good \n",
       "5 2              none          yes            bad  \n",
       "6 2              yes           yes            good "
      ]
     },
     "metadata": {},
     "output_type": "display_data"
    }
   ],
   "source": [
    "df = read.csv('datasets/Credit.csv')\n",
    "head(df)"
   ]
  },
  {
   "cell_type": "markdown",
   "id": "fitted-recorder",
   "metadata": {},
   "source": [
    "# Treino/test"
   ]
  },
  {
   "cell_type": "code",
   "execution_count": 21,
   "id": "emotional-width",
   "metadata": {},
   "outputs": [],
   "source": [
    "amost = sample(2, 1000, replace=T, prob=c(0.7,0.3))\n",
    "train = df[amost==1,]\n",
    "test = df[amost==2,]"
   ]
  },
  {
   "cell_type": "markdown",
   "id": "widespread-rainbow",
   "metadata": {},
   "source": [
    "# Primeiro Modelo\n",
    "* todos os atributos"
   ]
  },
  {
   "cell_type": "code",
   "execution_count": 22,
   "id": "sporting-membership",
   "metadata": {},
   "outputs": [
    {
     "data": {
      "text/html": [
       "0.737463126843658"
      ],
      "text/latex": [
       "0.737463126843658"
      ],
      "text/markdown": [
       "0.737463126843658"
      ],
      "text/plain": [
       "[1] 0.7374631"
      ]
     },
     "metadata": {},
     "output_type": "display_data"
    }
   ],
   "source": [
    "model_1 = svm(class ~., train)\n",
    "predict_ = predict(model_1, test)\n",
    "conf = table(test$class, predict_)\n",
    "tx = (conf[1]+conf[4])/sum(conf)\n",
    "tx"
   ]
  },
  {
   "cell_type": "markdown",
   "id": "included-penguin",
   "metadata": {},
   "source": [
    "# Aplicando um método de seleção de atributos"
   ]
  },
  {
   "cell_type": "code",
   "execution_count": 23,
   "id": "light-aerospace",
   "metadata": {},
   "outputs": [
    {
     "data": {
      "text/html": [
       "<table class=\"dataframe\">\n",
       "<caption>A matrix: 20 × 1 of type dbl</caption>\n",
       "<thead>\n",
       "\t<tr><th></th><th scope=col>MeanDecreaseGini</th></tr>\n",
       "</thead>\n",
       "<tbody>\n",
       "\t<tr><th scope=row>checking_status</th><td>29.2068108</td></tr>\n",
       "\t<tr><th scope=row>duration</th><td>27.0032759</td></tr>\n",
       "\t<tr><th scope=row>credit_history</th><td>17.9849536</td></tr>\n",
       "\t<tr><th scope=row>purpose</th><td>24.6875355</td></tr>\n",
       "\t<tr><th scope=row>credit_amount</th><td>33.8233882</td></tr>\n",
       "\t<tr><th scope=row>savings_status</th><td>14.2730050</td></tr>\n",
       "\t<tr><th scope=row>employment</th><td>18.9756016</td></tr>\n",
       "\t<tr><th scope=row>installment_commitment</th><td>11.3292779</td></tr>\n",
       "\t<tr><th scope=row>personal_status</th><td>10.2646469</td></tr>\n",
       "\t<tr><th scope=row>other_parties</th><td> 5.1012667</td></tr>\n",
       "\t<tr><th scope=row>residence_since</th><td>10.1568484</td></tr>\n",
       "\t<tr><th scope=row>property_magnitude</th><td>13.9376448</td></tr>\n",
       "\t<tr><th scope=row>age</th><td>26.9134725</td></tr>\n",
       "\t<tr><th scope=row>other_payment_plans</th><td> 7.6562168</td></tr>\n",
       "\t<tr><th scope=row>housing</th><td> 7.5899911</td></tr>\n",
       "\t<tr><th scope=row>existing_credits</th><td> 5.6680093</td></tr>\n",
       "\t<tr><th scope=row>job</th><td> 8.6711389</td></tr>\n",
       "\t<tr><th scope=row>num_dependents</th><td> 4.1096645</td></tr>\n",
       "\t<tr><th scope=row>own_telephone</th><td> 4.0539560</td></tr>\n",
       "\t<tr><th scope=row>foreign_worker</th><td> 0.9258572</td></tr>\n",
       "</tbody>\n",
       "</table>\n"
      ],
      "text/latex": [
       "A matrix: 20 × 1 of type dbl\n",
       "\\begin{tabular}{r|l}\n",
       "  & MeanDecreaseGini\\\\\n",
       "\\hline\n",
       "\tchecking\\_status & 29.2068108\\\\\n",
       "\tduration & 27.0032759\\\\\n",
       "\tcredit\\_history & 17.9849536\\\\\n",
       "\tpurpose & 24.6875355\\\\\n",
       "\tcredit\\_amount & 33.8233882\\\\\n",
       "\tsavings\\_status & 14.2730050\\\\\n",
       "\temployment & 18.9756016\\\\\n",
       "\tinstallment\\_commitment & 11.3292779\\\\\n",
       "\tpersonal\\_status & 10.2646469\\\\\n",
       "\tother\\_parties &  5.1012667\\\\\n",
       "\tresidence\\_since & 10.1568484\\\\\n",
       "\tproperty\\_magnitude & 13.9376448\\\\\n",
       "\tage & 26.9134725\\\\\n",
       "\tother\\_payment\\_plans &  7.6562168\\\\\n",
       "\thousing &  7.5899911\\\\\n",
       "\texisting\\_credits &  5.6680093\\\\\n",
       "\tjob &  8.6711389\\\\\n",
       "\tnum\\_dependents &  4.1096645\\\\\n",
       "\town\\_telephone &  4.0539560\\\\\n",
       "\tforeign\\_worker &  0.9258572\\\\\n",
       "\\end{tabular}\n"
      ],
      "text/markdown": [
       "\n",
       "A matrix: 20 × 1 of type dbl\n",
       "\n",
       "| <!--/--> | MeanDecreaseGini |\n",
       "|---|---|\n",
       "| checking_status | 29.2068108 |\n",
       "| duration | 27.0032759 |\n",
       "| credit_history | 17.9849536 |\n",
       "| purpose | 24.6875355 |\n",
       "| credit_amount | 33.8233882 |\n",
       "| savings_status | 14.2730050 |\n",
       "| employment | 18.9756016 |\n",
       "| installment_commitment | 11.3292779 |\n",
       "| personal_status | 10.2646469 |\n",
       "| other_parties |  5.1012667 |\n",
       "| residence_since | 10.1568484 |\n",
       "| property_magnitude | 13.9376448 |\n",
       "| age | 26.9134725 |\n",
       "| other_payment_plans |  7.6562168 |\n",
       "| housing |  7.5899911 |\n",
       "| existing_credits |  5.6680093 |\n",
       "| job |  8.6711389 |\n",
       "| num_dependents |  4.1096645 |\n",
       "| own_telephone |  4.0539560 |\n",
       "| foreign_worker |  0.9258572 |\n",
       "\n"
      ],
      "text/plain": [
       "                       MeanDecreaseGini\n",
       "checking_status        29.2068108      \n",
       "duration               27.0032759      \n",
       "credit_history         17.9849536      \n",
       "purpose                24.6875355      \n",
       "credit_amount          33.8233882      \n",
       "savings_status         14.2730050      \n",
       "employment             18.9756016      \n",
       "installment_commitment 11.3292779      \n",
       "personal_status        10.2646469      \n",
       "other_parties           5.1012667      \n",
       "residence_since        10.1568484      \n",
       "property_magnitude     13.9376448      \n",
       "age                    26.9134725      \n",
       "other_payment_plans     7.6562168      \n",
       "housing                 7.5899911      \n",
       "existing_credits        5.6680093      \n",
       "job                     8.6711389      \n",
       "num_dependents          4.1096645      \n",
       "own_telephone           4.0539560      \n",
       "foreign_worker          0.9258572      "
      ]
     },
     "metadata": {},
     "output_type": "display_data"
    },
    {
     "data": {
      "image/png": "[encoded data removed]",
      "text/plain": [
       "Plot with title \"imp\""
      ]
     },
     "metadata": {
      "image/png": {
       "height": 420,
       "width": 420
      }
     },
     "output_type": "display_data"
    }
   ],
   "source": [
    "imp = randomForest(class ~., data=train)\n",
    "col = importance(imp)\n",
    "col\n",
    "varImpPlot(imp)"
   ]
  },
  {
   "cell_type": "markdown",
   "id": "scientific-silly",
   "metadata": {},
   "source": [
    "# Segundo Modelo "
   ]
  },
  {
   "cell_type": "code",
   "execution_count": 24,
   "id": "thousand-guitar",
   "metadata": {},
   "outputs": [
    {
     "data": {
      "text/html": [
       "0.766961651917404"
      ],
      "text/latex": [
       "0.766961651917404"
      ],
      "text/markdown": [
       "0.766961651917404"
      ],
      "text/plain": [
       "[1] 0.7669617"
      ]
     },
     "metadata": {},
     "output_type": "display_data"
    }
   ],
   "source": [
    "model_2 = svm(class~checking_status+duration+credit_history+purpose+credit_amount, train)\n",
    "predict_ = predict(model_2, test)\n",
    "conf = table(test$class, predict_)\n",
    "tx = (conf[1]+conf[4])/sum(conf)\n",
    "tx"
   ]
  },
  {
   "cell_type": "code",
   "execution_count": null,
   "id": "quick-survivor",
   "metadata": {},
   "outputs": [],
   "source": []
  }
 ],
 "metadata": {
  "kernelspec": {
   "display_name": "R",
   "language": "R",
   "name": "ir"
  },
  "language_info": {
   "codemirror_mode": "r",
   "file_extension": ".r",
   "mimetype": "text/x-r-source",
   "name": "R",
   "pygments_lexer": "r",
   "version": "3.6.1"
  }
 },
 "nbformat": 4,
 "nbformat_minor": 5
}
